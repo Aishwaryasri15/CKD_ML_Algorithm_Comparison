{
  "cells": [
    {
      "cell_type": "code",
      "execution_count": 1,
      "id": "c466a4e3",
      "metadata": {
        "execution": {
          "iopub.execute_input": "2021-10-13T05:20:47.523937Z",
          "iopub.status.busy": "2021-10-13T05:20:47.522857Z",
          "iopub.status.idle": "2021-10-13T05:20:49.063727Z",
          "shell.execute_reply": "2021-10-13T05:20:49.062966Z",
          "shell.execute_reply.started": "2021-10-13T05:19:19.458109Z"
        },
        "papermill": {
          "duration": 1.579389,
          "end_time": "2021-10-13T05:20:49.063905",
          "exception": false,
          "start_time": "2021-10-13T05:20:47.484516",
          "status": "completed"
        },
        "tags": [],
        "id": "c466a4e3"
      },
      "outputs": [],
      "source": [
        "import numpy as np\n",
        "import pandas as pd\n",
        "import matplotlib.pyplot as plt\n",
        "import seaborn as sns\n",
        "from sklearn.model_selection import train_test_split\n",
        "from sklearn.metrics import mean_absolute_error\n",
        "from sklearn.ensemble import RandomForestClassifier\n",
        "from sklearn.svm import SVC\n",
        "from xgboost import XGBClassifier\n"
      ]
    },
    {
      "cell_type": "code",
      "execution_count": 4,
      "id": "6086706d",
      "metadata": {
        "execution": {
          "iopub.execute_input": "2021-10-13T05:20:49.138658Z",
          "iopub.status.busy": "2021-10-13T05:20:49.137943Z",
          "iopub.status.idle": "2021-10-13T05:20:49.201980Z",
          "shell.execute_reply": "2021-10-13T05:20:49.202445Z",
          "shell.execute_reply.started": "2021-10-13T05:19:20.028766Z"
        },
        "papermill": {
          "duration": 0.103843,
          "end_time": "2021-10-13T05:20:49.202637",
          "exception": false,
          "start_time": "2021-10-13T05:20:49.098794",
          "status": "completed"
        },
        "tags": [],
        "colab": {
          "base_uri": "https://localhost:8080/",
          "height": 256
        },
        "id": "6086706d",
        "outputId": "f09ac7f2-e90f-46a0-cb85-1486eaf52164"
      },
      "outputs": [
        {
          "output_type": "execute_result",
          "data": {
            "text/plain": [
              "   id   age    bp     sg   al   su     rbc        pc         pcc          ba  \\\n",
              "0   0  48.0  80.0  1.020  1.0  0.0     NaN    normal  notpresent  notpresent   \n",
              "1   1   7.0  50.0  1.020  4.0  0.0     NaN    normal  notpresent  notpresent   \n",
              "2   2  62.0  80.0  1.010  2.0  3.0  normal    normal  notpresent  notpresent   \n",
              "3   3  48.0  70.0  1.005  4.0  0.0  normal  abnormal     present  notpresent   \n",
              "4   4  51.0  80.0  1.010  2.0  0.0  normal    normal  notpresent  notpresent   \n",
              "\n",
              "   ...  pcv    wc   rc  htn   dm  cad appet   pe  ane classification  \n",
              "0  ...   44  7800  5.2  yes  yes   no  good   no   no            ckd  \n",
              "1  ...   38  6000  NaN   no   no   no  good   no   no            ckd  \n",
              "2  ...   31  7500  NaN   no  yes   no  poor   no  yes            ckd  \n",
              "3  ...   32  6700  3.9  yes   no   no  poor  yes  yes            ckd  \n",
              "4  ...   35  7300  4.6   no   no   no  good   no   no            ckd  \n",
              "\n",
              "[5 rows x 26 columns]"
            ],
            "text/html": [
              "\n",
              "  <div id=\"df-2e82f2dc-8d77-45bc-a812-12e1b4aa1c8b\" class=\"colab-df-container\">\n",
              "    <div>\n",
              "<style scoped>\n",
              "    .dataframe tbody tr th:only-of-type {\n",
              "        vertical-align: middle;\n",
              "    }\n",
              "\n",
              "    .dataframe tbody tr th {\n",
              "        vertical-align: top;\n",
              "    }\n",
              "\n",
              "    .dataframe thead th {\n",
              "        text-align: right;\n",
              "    }\n",
              "</style>\n",
              "<table border=\"1\" class=\"dataframe\">\n",
              "  <thead>\n",
              "    <tr style=\"text-align: right;\">\n",
              "      <th></th>\n",
              "      <th>id</th>\n",
              "      <th>age</th>\n",
              "      <th>bp</th>\n",
              "      <th>sg</th>\n",
              "      <th>al</th>\n",
              "      <th>su</th>\n",
              "      <th>rbc</th>\n",
              "      <th>pc</th>\n",
              "      <th>pcc</th>\n",
              "      <th>ba</th>\n",
              "      <th>...</th>\n",
              "      <th>pcv</th>\n",
              "      <th>wc</th>\n",
              "      <th>rc</th>\n",
              "      <th>htn</th>\n",
              "      <th>dm</th>\n",
              "      <th>cad</th>\n",
              "      <th>appet</th>\n",
              "      <th>pe</th>\n",
              "      <th>ane</th>\n",
              "      <th>classification</th>\n",
              "    </tr>\n",
              "  </thead>\n",
              "  <tbody>\n",
              "    <tr>\n",
              "      <th>0</th>\n",
              "      <td>0</td>\n",
              "      <td>48.0</td>\n",
              "      <td>80.0</td>\n",
              "      <td>1.020</td>\n",
              "      <td>1.0</td>\n",
              "      <td>0.0</td>\n",
              "      <td>NaN</td>\n",
              "      <td>normal</td>\n",
              "      <td>notpresent</td>\n",
              "      <td>notpresent</td>\n",
              "      <td>...</td>\n",
              "      <td>44</td>\n",
              "      <td>7800</td>\n",
              "      <td>5.2</td>\n",
              "      <td>yes</td>\n",
              "      <td>yes</td>\n",
              "      <td>no</td>\n",
              "      <td>good</td>\n",
              "      <td>no</td>\n",
              "      <td>no</td>\n",
              "      <td>ckd</td>\n",
              "    </tr>\n",
              "    <tr>\n",
              "      <th>1</th>\n",
              "      <td>1</td>\n",
              "      <td>7.0</td>\n",
              "      <td>50.0</td>\n",
              "      <td>1.020</td>\n",
              "      <td>4.0</td>\n",
              "      <td>0.0</td>\n",
              "      <td>NaN</td>\n",
              "      <td>normal</td>\n",
              "      <td>notpresent</td>\n",
              "      <td>notpresent</td>\n",
              "      <td>...</td>\n",
              "      <td>38</td>\n",
              "      <td>6000</td>\n",
              "      <td>NaN</td>\n",
              "      <td>no</td>\n",
              "      <td>no</td>\n",
              "      <td>no</td>\n",
              "      <td>good</td>\n",
              "      <td>no</td>\n",
              "      <td>no</td>\n",
              "      <td>ckd</td>\n",
              "    </tr>\n",
              "    <tr>\n",
              "      <th>2</th>\n",
              "      <td>2</td>\n",
              "      <td>62.0</td>\n",
              "      <td>80.0</td>\n",
              "      <td>1.010</td>\n",
              "      <td>2.0</td>\n",
              "      <td>3.0</td>\n",
              "      <td>normal</td>\n",
              "      <td>normal</td>\n",
              "      <td>notpresent</td>\n",
              "      <td>notpresent</td>\n",
              "      <td>...</td>\n",
              "      <td>31</td>\n",
              "      <td>7500</td>\n",
              "      <td>NaN</td>\n",
              "      <td>no</td>\n",
              "      <td>yes</td>\n",
              "      <td>no</td>\n",
              "      <td>poor</td>\n",
              "      <td>no</td>\n",
              "      <td>yes</td>\n",
              "      <td>ckd</td>\n",
              "    </tr>\n",
              "    <tr>\n",
              "      <th>3</th>\n",
              "      <td>3</td>\n",
              "      <td>48.0</td>\n",
              "      <td>70.0</td>\n",
              "      <td>1.005</td>\n",
              "      <td>4.0</td>\n",
              "      <td>0.0</td>\n",
              "      <td>normal</td>\n",
              "      <td>abnormal</td>\n",
              "      <td>present</td>\n",
              "      <td>notpresent</td>\n",
              "      <td>...</td>\n",
              "      <td>32</td>\n",
              "      <td>6700</td>\n",
              "      <td>3.9</td>\n",
              "      <td>yes</td>\n",
              "      <td>no</td>\n",
              "      <td>no</td>\n",
              "      <td>poor</td>\n",
              "      <td>yes</td>\n",
              "      <td>yes</td>\n",
              "      <td>ckd</td>\n",
              "    </tr>\n",
              "    <tr>\n",
              "      <th>4</th>\n",
              "      <td>4</td>\n",
              "      <td>51.0</td>\n",
              "      <td>80.0</td>\n",
              "      <td>1.010</td>\n",
              "      <td>2.0</td>\n",
              "      <td>0.0</td>\n",
              "      <td>normal</td>\n",
              "      <td>normal</td>\n",
              "      <td>notpresent</td>\n",
              "      <td>notpresent</td>\n",
              "      <td>...</td>\n",
              "      <td>35</td>\n",
              "      <td>7300</td>\n",
              "      <td>4.6</td>\n",
              "      <td>no</td>\n",
              "      <td>no</td>\n",
              "      <td>no</td>\n",
              "      <td>good</td>\n",
              "      <td>no</td>\n",
              "      <td>no</td>\n",
              "      <td>ckd</td>\n",
              "    </tr>\n",
              "  </tbody>\n",
              "</table>\n",
              "<p>5 rows × 26 columns</p>\n",
              "</div>\n",
              "    <div class=\"colab-df-buttons\">\n",
              "\n",
              "  <div class=\"colab-df-container\">\n",
              "    <button class=\"colab-df-convert\" onclick=\"convertToInteractive('df-2e82f2dc-8d77-45bc-a812-12e1b4aa1c8b')\"\n",
              "            title=\"Convert this dataframe to an interactive table.\"\n",
              "            style=\"display:none;\">\n",
              "\n",
              "  <svg xmlns=\"http://www.w3.org/2000/svg\" height=\"24px\" viewBox=\"0 -960 960 960\">\n",
              "    <path d=\"M120-120v-720h720v720H120Zm60-500h600v-160H180v160Zm220 220h160v-160H400v160Zm0 220h160v-160H400v160ZM180-400h160v-160H180v160Zm440 0h160v-160H620v160ZM180-180h160v-160H180v160Zm440 0h160v-160H620v160Z\"/>\n",
              "  </svg>\n",
              "    </button>\n",
              "\n",
              "  <style>\n",
              "    .colab-df-container {\n",
              "      display:flex;\n",
              "      gap: 12px;\n",
              "    }\n",
              "\n",
              "    .colab-df-convert {\n",
              "      background-color: #E8F0FE;\n",
              "      border: none;\n",
              "      border-radius: 50%;\n",
              "      cursor: pointer;\n",
              "      display: none;\n",
              "      fill: #1967D2;\n",
              "      height: 32px;\n",
              "      padding: 0 0 0 0;\n",
              "      width: 32px;\n",
              "    }\n",
              "\n",
              "    .colab-df-convert:hover {\n",
              "      background-color: #E2EBFA;\n",
              "      box-shadow: 0px 1px 2px rgba(60, 64, 67, 0.3), 0px 1px 3px 1px rgba(60, 64, 67, 0.15);\n",
              "      fill: #174EA6;\n",
              "    }\n",
              "\n",
              "    .colab-df-buttons div {\n",
              "      margin-bottom: 4px;\n",
              "    }\n",
              "\n",
              "    [theme=dark] .colab-df-convert {\n",
              "      background-color: #3B4455;\n",
              "      fill: #D2E3FC;\n",
              "    }\n",
              "\n",
              "    [theme=dark] .colab-df-convert:hover {\n",
              "      background-color: #434B5C;\n",
              "      box-shadow: 0px 1px 3px 1px rgba(0, 0, 0, 0.15);\n",
              "      filter: drop-shadow(0px 1px 2px rgba(0, 0, 0, 0.3));\n",
              "      fill: #FFFFFF;\n",
              "    }\n",
              "  </style>\n",
              "\n",
              "    <script>\n",
              "      const buttonEl =\n",
              "        document.querySelector('#df-2e82f2dc-8d77-45bc-a812-12e1b4aa1c8b button.colab-df-convert');\n",
              "      buttonEl.style.display =\n",
              "        google.colab.kernel.accessAllowed ? 'block' : 'none';\n",
              "\n",
              "      async function convertToInteractive(key) {\n",
              "        const element = document.querySelector('#df-2e82f2dc-8d77-45bc-a812-12e1b4aa1c8b');\n",
              "        const dataTable =\n",
              "          await google.colab.kernel.invokeFunction('convertToInteractive',\n",
              "                                                    [key], {});\n",
              "        if (!dataTable) return;\n",
              "\n",
              "        const docLinkHtml = 'Like what you see? Visit the ' +\n",
              "          '<a target=\"_blank\" href=https://colab.research.google.com/notebooks/data_table.ipynb>data table notebook</a>'\n",
              "          + ' to learn more about interactive tables.';\n",
              "        element.innerHTML = '';\n",
              "        dataTable['output_type'] = 'display_data';\n",
              "        await google.colab.output.renderOutput(dataTable, element);\n",
              "        const docLink = document.createElement('div');\n",
              "        docLink.innerHTML = docLinkHtml;\n",
              "        element.appendChild(docLink);\n",
              "      }\n",
              "    </script>\n",
              "  </div>\n",
              "\n",
              "\n",
              "<div id=\"df-35ef6f35-8031-4864-a37d-0d903900c49d\">\n",
              "  <button class=\"colab-df-quickchart\" onclick=\"quickchart('df-35ef6f35-8031-4864-a37d-0d903900c49d')\"\n",
              "            title=\"Suggest charts\"\n",
              "            style=\"display:none;\">\n",
              "\n",
              "<svg xmlns=\"http://www.w3.org/2000/svg\" height=\"24px\"viewBox=\"0 0 24 24\"\n",
              "     width=\"24px\">\n",
              "    <g>\n",
              "        <path d=\"M19 3H5c-1.1 0-2 .9-2 2v14c0 1.1.9 2 2 2h14c1.1 0 2-.9 2-2V5c0-1.1-.9-2-2-2zM9 17H7v-7h2v7zm4 0h-2V7h2v10zm4 0h-2v-4h2v4z\"/>\n",
              "    </g>\n",
              "</svg>\n",
              "  </button>\n",
              "\n",
              "<style>\n",
              "  .colab-df-quickchart {\n",
              "      --bg-color: #E8F0FE;\n",
              "      --fill-color: #1967D2;\n",
              "      --hover-bg-color: #E2EBFA;\n",
              "      --hover-fill-color: #174EA6;\n",
              "      --disabled-fill-color: #AAA;\n",
              "      --disabled-bg-color: #DDD;\n",
              "  }\n",
              "\n",
              "  [theme=dark] .colab-df-quickchart {\n",
              "      --bg-color: #3B4455;\n",
              "      --fill-color: #D2E3FC;\n",
              "      --hover-bg-color: #434B5C;\n",
              "      --hover-fill-color: #FFFFFF;\n",
              "      --disabled-bg-color: #3B4455;\n",
              "      --disabled-fill-color: #666;\n",
              "  }\n",
              "\n",
              "  .colab-df-quickchart {\n",
              "    background-color: var(--bg-color);\n",
              "    border: none;\n",
              "    border-radius: 50%;\n",
              "    cursor: pointer;\n",
              "    display: none;\n",
              "    fill: var(--fill-color);\n",
              "    height: 32px;\n",
              "    padding: 0;\n",
              "    width: 32px;\n",
              "  }\n",
              "\n",
              "  .colab-df-quickchart:hover {\n",
              "    background-color: var(--hover-bg-color);\n",
              "    box-shadow: 0 1px 2px rgba(60, 64, 67, 0.3), 0 1px 3px 1px rgba(60, 64, 67, 0.15);\n",
              "    fill: var(--button-hover-fill-color);\n",
              "  }\n",
              "\n",
              "  .colab-df-quickchart-complete:disabled,\n",
              "  .colab-df-quickchart-complete:disabled:hover {\n",
              "    background-color: var(--disabled-bg-color);\n",
              "    fill: var(--disabled-fill-color);\n",
              "    box-shadow: none;\n",
              "  }\n",
              "\n",
              "  .colab-df-spinner {\n",
              "    border: 2px solid var(--fill-color);\n",
              "    border-color: transparent;\n",
              "    border-bottom-color: var(--fill-color);\n",
              "    animation:\n",
              "      spin 1s steps(1) infinite;\n",
              "  }\n",
              "\n",
              "  @keyframes spin {\n",
              "    0% {\n",
              "      border-color: transparent;\n",
              "      border-bottom-color: var(--fill-color);\n",
              "      border-left-color: var(--fill-color);\n",
              "    }\n",
              "    20% {\n",
              "      border-color: transparent;\n",
              "      border-left-color: var(--fill-color);\n",
              "      border-top-color: var(--fill-color);\n",
              "    }\n",
              "    30% {\n",
              "      border-color: transparent;\n",
              "      border-left-color: var(--fill-color);\n",
              "      border-top-color: var(--fill-color);\n",
              "      border-right-color: var(--fill-color);\n",
              "    }\n",
              "    40% {\n",
              "      border-color: transparent;\n",
              "      border-right-color: var(--fill-color);\n",
              "      border-top-color: var(--fill-color);\n",
              "    }\n",
              "    60% {\n",
              "      border-color: transparent;\n",
              "      border-right-color: var(--fill-color);\n",
              "    }\n",
              "    80% {\n",
              "      border-color: transparent;\n",
              "      border-right-color: var(--fill-color);\n",
              "      border-bottom-color: var(--fill-color);\n",
              "    }\n",
              "    90% {\n",
              "      border-color: transparent;\n",
              "      border-bottom-color: var(--fill-color);\n",
              "    }\n",
              "  }\n",
              "</style>\n",
              "\n",
              "  <script>\n",
              "    async function quickchart(key) {\n",
              "      const quickchartButtonEl =\n",
              "        document.querySelector('#' + key + ' button');\n",
              "      quickchartButtonEl.disabled = true;  // To prevent multiple clicks.\n",
              "      quickchartButtonEl.classList.add('colab-df-spinner');\n",
              "      try {\n",
              "        const charts = await google.colab.kernel.invokeFunction(\n",
              "            'suggestCharts', [key], {});\n",
              "      } catch (error) {\n",
              "        console.error('Error during call to suggestCharts:', error);\n",
              "      }\n",
              "      quickchartButtonEl.classList.remove('colab-df-spinner');\n",
              "      quickchartButtonEl.classList.add('colab-df-quickchart-complete');\n",
              "    }\n",
              "    (() => {\n",
              "      let quickchartButtonEl =\n",
              "        document.querySelector('#df-35ef6f35-8031-4864-a37d-0d903900c49d button');\n",
              "      quickchartButtonEl.style.display =\n",
              "        google.colab.kernel.accessAllowed ? 'block' : 'none';\n",
              "    })();\n",
              "  </script>\n",
              "</div>\n",
              "    </div>\n",
              "  </div>\n"
            ]
          },
          "metadata": {},
          "execution_count": 4
        }
      ],
      "source": [
        "#Reading the dataset\n",
        "data = pd.read_csv(\"kidney_disease.csv\")\n",
        "data.head()"
      ]
    },
    {
      "cell_type": "code",
      "execution_count": 5,
      "id": "01a4ada9",
      "metadata": {
        "execution": {
          "iopub.execute_input": "2021-10-13T05:20:49.276873Z",
          "iopub.status.busy": "2021-10-13T05:20:49.275963Z",
          "iopub.status.idle": "2021-10-13T05:20:49.281287Z",
          "shell.execute_reply": "2021-10-13T05:20:49.281708Z",
          "shell.execute_reply.started": "2021-10-13T05:19:20.082026Z"
        },
        "papermill": {
          "duration": 0.043049,
          "end_time": "2021-10-13T05:20:49.281902",
          "exception": false,
          "start_time": "2021-10-13T05:20:49.238853",
          "status": "completed"
        },
        "tags": [],
        "colab": {
          "base_uri": "https://localhost:8080/"
        },
        "id": "01a4ada9",
        "outputId": "17d9c616-2f69-416f-f8dc-82244d4203af"
      },
      "outputs": [
        {
          "output_type": "execute_result",
          "data": {
            "text/plain": [
              "(400, 26)"
            ]
          },
          "metadata": {},
          "execution_count": 5
        }
      ],
      "source": [
        "#getting the shape of the dataset\n",
        "data.shape"
      ]
    },
    {
      "cell_type": "code",
      "execution_count": 6,
      "id": "428dd7d9",
      "metadata": {
        "execution": {
          "iopub.execute_input": "2021-10-13T05:20:49.354856Z",
          "iopub.status.busy": "2021-10-13T05:20:49.353886Z",
          "iopub.status.idle": "2021-10-13T05:20:49.360534Z",
          "shell.execute_reply": "2021-10-13T05:20:49.361024Z",
          "shell.execute_reply.started": "2021-10-13T05:19:20.090994Z"
        },
        "papermill": {
          "duration": 0.044652,
          "end_time": "2021-10-13T05:20:49.361226",
          "exception": false,
          "start_time": "2021-10-13T05:20:49.316574",
          "status": "completed"
        },
        "tags": [],
        "colab": {
          "base_uri": "https://localhost:8080/"
        },
        "id": "428dd7d9",
        "outputId": "5a2042d8-122d-457f-ad64-0d2d8aca2209"
      },
      "outputs": [
        {
          "output_type": "execute_result",
          "data": {
            "text/plain": [
              "Index(['id', 'age', 'bp', 'sg', 'al', 'su', 'rbc', 'pc', 'pcc', 'ba', 'bgr',\n",
              "       'bu', 'sc', 'sod', 'pot', 'hemo', 'pcv', 'wc', 'rc', 'htn', 'dm', 'cad',\n",
              "       'appet', 'pe', 'ane', 'classification'],\n",
              "      dtype='object')"
            ]
          },
          "metadata": {},
          "execution_count": 6
        }
      ],
      "source": [
        "data.columns"
      ]
    },
    {
      "cell_type": "code",
      "execution_count": 7,
      "id": "fb86aa08",
      "metadata": {
        "execution": {
          "iopub.execute_input": "2021-10-13T05:20:49.433826Z",
          "iopub.status.busy": "2021-10-13T05:20:49.433102Z",
          "iopub.status.idle": "2021-10-13T05:20:49.455647Z",
          "shell.execute_reply": "2021-10-13T05:20:49.455086Z",
          "shell.execute_reply.started": "2021-10-13T05:19:20.104260Z"
        },
        "papermill": {
          "duration": 0.06037,
          "end_time": "2021-10-13T05:20:49.455820",
          "exception": false,
          "start_time": "2021-10-13T05:20:49.395450",
          "status": "completed"
        },
        "tags": [],
        "colab": {
          "base_uri": "https://localhost:8080/"
        },
        "id": "fb86aa08",
        "outputId": "c9876395-cfc8-4aa4-8f8e-61a4a622eddb"
      },
      "outputs": [
        {
          "output_type": "stream",
          "name": "stdout",
          "text": [
            "<class 'pandas.core.frame.DataFrame'>\n",
            "RangeIndex: 400 entries, 0 to 399\n",
            "Data columns (total 26 columns):\n",
            " #   Column          Non-Null Count  Dtype  \n",
            "---  ------          --------------  -----  \n",
            " 0   id              400 non-null    int64  \n",
            " 1   age             391 non-null    float64\n",
            " 2   bp              388 non-null    float64\n",
            " 3   sg              353 non-null    float64\n",
            " 4   al              354 non-null    float64\n",
            " 5   su              351 non-null    float64\n",
            " 6   rbc             248 non-null    object \n",
            " 7   pc              335 non-null    object \n",
            " 8   pcc             396 non-null    object \n",
            " 9   ba              396 non-null    object \n",
            " 10  bgr             356 non-null    float64\n",
            " 11  bu              381 non-null    float64\n",
            " 12  sc              383 non-null    float64\n",
            " 13  sod             313 non-null    float64\n",
            " 14  pot             312 non-null    float64\n",
            " 15  hemo            348 non-null    float64\n",
            " 16  pcv             330 non-null    object \n",
            " 17  wc              295 non-null    object \n",
            " 18  rc              270 non-null    object \n",
            " 19  htn             398 non-null    object \n",
            " 20  dm              398 non-null    object \n",
            " 21  cad             398 non-null    object \n",
            " 22  appet           399 non-null    object \n",
            " 23  pe              399 non-null    object \n",
            " 24  ane             399 non-null    object \n",
            " 25  classification  400 non-null    object \n",
            "dtypes: float64(11), int64(1), object(14)\n",
            "memory usage: 81.4+ KB\n"
          ]
        }
      ],
      "source": [
        "#getting the information about the dataset contents\n",
        "data.info()"
      ]
    },
    {
      "cell_type": "markdown",
      "id": "471ec91e",
      "metadata": {
        "papermill": {
          "duration": 0.035276,
          "end_time": "2021-10-13T05:20:49.526539",
          "exception": false,
          "start_time": "2021-10-13T05:20:49.491263",
          "status": "completed"
        },
        "tags": [],
        "id": "471ec91e"
      },
      "source": [
        "# Data Preprocessing\n"
      ]
    },
    {
      "cell_type": "code",
      "execution_count": 8,
      "id": "f1dd4f3a",
      "metadata": {
        "execution": {
          "iopub.execute_input": "2021-10-13T05:20:49.602208Z",
          "iopub.status.busy": "2021-10-13T05:20:49.601377Z",
          "iopub.status.idle": "2021-10-13T05:20:49.604718Z",
          "shell.execute_reply": "2021-10-13T05:20:49.605164Z",
          "shell.execute_reply.started": "2021-10-13T05:19:20.130954Z"
        },
        "papermill": {
          "duration": 0.043947,
          "end_time": "2021-10-13T05:20:49.605330",
          "exception": false,
          "start_time": "2021-10-13T05:20:49.561383",
          "status": "completed"
        },
        "tags": [],
        "colab": {
          "base_uri": "https://localhost:8080/"
        },
        "id": "f1dd4f3a",
        "outputId": "08d68c2e-6247-4eb1-f10e-a94ab87e66bd"
      },
      "outputs": [
        {
          "output_type": "execute_result",
          "data": {
            "text/plain": [
              "['rbc',\n",
              " 'pc',\n",
              " 'pcc',\n",
              " 'ba',\n",
              " 'pcv',\n",
              " 'wc',\n",
              " 'rc',\n",
              " 'htn',\n",
              " 'dm',\n",
              " 'cad',\n",
              " 'appet',\n",
              " 'pe',\n",
              " 'ane',\n",
              " 'classification']"
            ]
          },
          "metadata": {},
          "execution_count": 8
        }
      ],
      "source": [
        "categorial_cols = [col for col in data.columns if data[col].dtype==\"object\"]\n",
        "categorial_cols"
      ]
    },
    {
      "cell_type": "code",
      "execution_count": 9,
      "id": "cb96f148",
      "metadata": {
        "execution": {
          "iopub.execute_input": "2021-10-13T05:20:49.679867Z",
          "iopub.status.busy": "2021-10-13T05:20:49.679151Z",
          "iopub.status.idle": "2021-10-13T05:20:49.682633Z",
          "shell.execute_reply": "2021-10-13T05:20:49.683047Z",
          "shell.execute_reply.started": "2021-10-13T05:19:20.140675Z"
        },
        "papermill": {
          "duration": 0.043818,
          "end_time": "2021-10-13T05:20:49.683260",
          "exception": false,
          "start_time": "2021-10-13T05:20:49.639442",
          "status": "completed"
        },
        "tags": [],
        "colab": {
          "base_uri": "https://localhost:8080/"
        },
        "id": "cb96f148",
        "outputId": "b69520d7-0273-4354-e2d2-0556ac404be2"
      },
      "outputs": [
        {
          "output_type": "execute_result",
          "data": {
            "text/plain": [
              "['id', 'age', 'bp', 'sg', 'al', 'su', 'bgr', 'bu', 'sc', 'sod', 'pot', 'hemo']"
            ]
          },
          "metadata": {},
          "execution_count": 9
        }
      ],
      "source": [
        "numerical_cols = [x for x in data.columns if not x in categorial_cols]\n",
        "numerical_cols"
      ]
    },
    {
      "cell_type": "code",
      "execution_count": 10,
      "id": "dfbcd200",
      "metadata": {
        "execution": {
          "iopub.execute_input": "2021-10-13T05:20:49.765561Z",
          "iopub.status.busy": "2021-10-13T05:20:49.764626Z",
          "iopub.status.idle": "2021-10-13T05:20:49.768550Z",
          "shell.execute_reply": "2021-10-13T05:20:49.767943Z",
          "shell.execute_reply.started": "2021-10-13T05:19:20.156393Z"
        },
        "papermill": {
          "duration": 0.049417,
          "end_time": "2021-10-13T05:20:49.768700",
          "exception": false,
          "start_time": "2021-10-13T05:20:49.719283",
          "status": "completed"
        },
        "tags": [],
        "id": "dfbcd200"
      },
      "outputs": [],
      "source": [
        "for i in ['rc','wc','pcv']:\n",
        "    data[i] = data[i].str.extract('(\\d+)').astype(float)"
      ]
    },
    {
      "cell_type": "markdown",
      "id": "837e7545",
      "metadata": {
        "papermill": {
          "duration": 0.035268,
          "end_time": "2021-10-13T05:20:49.839169",
          "exception": false,
          "start_time": "2021-10-13T05:20:49.803901",
          "status": "completed"
        },
        "tags": [],
        "id": "837e7545"
      },
      "source": [
        "## Simple Imputing"
      ]
    },
    {
      "cell_type": "code",
      "execution_count": 11,
      "id": "0a30768d",
      "metadata": {
        "execution": {
          "iopub.execute_input": "2021-10-13T05:20:49.922381Z",
          "iopub.status.busy": "2021-10-13T05:20:49.921416Z",
          "iopub.status.idle": "2021-10-13T05:20:49.924554Z",
          "shell.execute_reply": "2021-10-13T05:20:49.923947Z",
          "shell.execute_reply.started": "2021-10-13T05:19:20.173647Z"
        },
        "papermill": {
          "duration": 0.050435,
          "end_time": "2021-10-13T05:20:49.924716",
          "exception": false,
          "start_time": "2021-10-13T05:20:49.874281",
          "status": "completed"
        },
        "tags": [],
        "id": "0a30768d"
      },
      "outputs": [],
      "source": [
        "#filling the null values with the mean values\n",
        "for i in ['age','bp','sg','al','su','bgr','bu','sc','sod','pot','hemo','rc','wc','pcv']:\n",
        "    data[i].fillna(data[i].mean(),inplace=True)"
      ]
    },
    {
      "cell_type": "markdown",
      "id": "427aaa09",
      "metadata": {
        "papermill": {
          "duration": 0.047172,
          "end_time": "2021-10-13T05:20:50.018452",
          "exception": false,
          "start_time": "2021-10-13T05:20:49.971280",
          "status": "completed"
        },
        "tags": [],
        "id": "427aaa09"
      },
      "source": [
        "## OneHot Encoding"
      ]
    },
    {
      "cell_type": "code",
      "execution_count": 12,
      "id": "5f3b9991",
      "metadata": {
        "execution": {
          "iopub.execute_input": "2021-10-13T05:20:50.121891Z",
          "iopub.status.busy": "2021-10-13T05:20:50.111798Z",
          "iopub.status.idle": "2021-10-13T05:20:50.126467Z",
          "shell.execute_reply": "2021-10-13T05:20:50.125844Z",
          "shell.execute_reply.started": "2021-10-13T05:19:20.192047Z"
        },
        "papermill": {
          "duration": 0.055727,
          "end_time": "2021-10-13T05:20:50.126614",
          "exception": false,
          "start_time": "2021-10-13T05:20:50.070887",
          "status": "completed"
        },
        "tags": [],
        "colab": {
          "base_uri": "https://localhost:8080/",
          "height": 206
        },
        "id": "5f3b9991",
        "outputId": "a74a6259-bed7-4efe-fc4b-7a8c76fd46a3"
      },
      "outputs": [
        {
          "output_type": "execute_result",
          "data": {
            "text/plain": [
              "   rbc_normal\n",
              "0           0\n",
              "1           0\n",
              "2           1\n",
              "3           1\n",
              "4           1"
            ],
            "text/html": [
              "\n",
              "  <div id=\"df-c3a8fec6-67c0-40ff-9996-930e616cf18b\" class=\"colab-df-container\">\n",
              "    <div>\n",
              "<style scoped>\n",
              "    .dataframe tbody tr th:only-of-type {\n",
              "        vertical-align: middle;\n",
              "    }\n",
              "\n",
              "    .dataframe tbody tr th {\n",
              "        vertical-align: top;\n",
              "    }\n",
              "\n",
              "    .dataframe thead th {\n",
              "        text-align: right;\n",
              "    }\n",
              "</style>\n",
              "<table border=\"1\" class=\"dataframe\">\n",
              "  <thead>\n",
              "    <tr style=\"text-align: right;\">\n",
              "      <th></th>\n",
              "      <th>rbc_normal</th>\n",
              "    </tr>\n",
              "  </thead>\n",
              "  <tbody>\n",
              "    <tr>\n",
              "      <th>0</th>\n",
              "      <td>0</td>\n",
              "    </tr>\n",
              "    <tr>\n",
              "      <th>1</th>\n",
              "      <td>0</td>\n",
              "    </tr>\n",
              "    <tr>\n",
              "      <th>2</th>\n",
              "      <td>1</td>\n",
              "    </tr>\n",
              "    <tr>\n",
              "      <th>3</th>\n",
              "      <td>1</td>\n",
              "    </tr>\n",
              "    <tr>\n",
              "      <th>4</th>\n",
              "      <td>1</td>\n",
              "    </tr>\n",
              "  </tbody>\n",
              "</table>\n",
              "</div>\n",
              "    <div class=\"colab-df-buttons\">\n",
              "\n",
              "  <div class=\"colab-df-container\">\n",
              "    <button class=\"colab-df-convert\" onclick=\"convertToInteractive('df-c3a8fec6-67c0-40ff-9996-930e616cf18b')\"\n",
              "            title=\"Convert this dataframe to an interactive table.\"\n",
              "            style=\"display:none;\">\n",
              "\n",
              "  <svg xmlns=\"http://www.w3.org/2000/svg\" height=\"24px\" viewBox=\"0 -960 960 960\">\n",
              "    <path d=\"M120-120v-720h720v720H120Zm60-500h600v-160H180v160Zm220 220h160v-160H400v160Zm0 220h160v-160H400v160ZM180-400h160v-160H180v160Zm440 0h160v-160H620v160ZM180-180h160v-160H180v160Zm440 0h160v-160H620v160Z\"/>\n",
              "  </svg>\n",
              "    </button>\n",
              "\n",
              "  <style>\n",
              "    .colab-df-container {\n",
              "      display:flex;\n",
              "      gap: 12px;\n",
              "    }\n",
              "\n",
              "    .colab-df-convert {\n",
              "      background-color: #E8F0FE;\n",
              "      border: none;\n",
              "      border-radius: 50%;\n",
              "      cursor: pointer;\n",
              "      display: none;\n",
              "      fill: #1967D2;\n",
              "      height: 32px;\n",
              "      padding: 0 0 0 0;\n",
              "      width: 32px;\n",
              "    }\n",
              "\n",
              "    .colab-df-convert:hover {\n",
              "      background-color: #E2EBFA;\n",
              "      box-shadow: 0px 1px 2px rgba(60, 64, 67, 0.3), 0px 1px 3px 1px rgba(60, 64, 67, 0.15);\n",
              "      fill: #174EA6;\n",
              "    }\n",
              "\n",
              "    .colab-df-buttons div {\n",
              "      margin-bottom: 4px;\n",
              "    }\n",
              "\n",
              "    [theme=dark] .colab-df-convert {\n",
              "      background-color: #3B4455;\n",
              "      fill: #D2E3FC;\n",
              "    }\n",
              "\n",
              "    [theme=dark] .colab-df-convert:hover {\n",
              "      background-color: #434B5C;\n",
              "      box-shadow: 0px 1px 3px 1px rgba(0, 0, 0, 0.15);\n",
              "      filter: drop-shadow(0px 1px 2px rgba(0, 0, 0, 0.3));\n",
              "      fill: #FFFFFF;\n",
              "    }\n",
              "  </style>\n",
              "\n",
              "    <script>\n",
              "      const buttonEl =\n",
              "        document.querySelector('#df-c3a8fec6-67c0-40ff-9996-930e616cf18b button.colab-df-convert');\n",
              "      buttonEl.style.display =\n",
              "        google.colab.kernel.accessAllowed ? 'block' : 'none';\n",
              "\n",
              "      async function convertToInteractive(key) {\n",
              "        const element = document.querySelector('#df-c3a8fec6-67c0-40ff-9996-930e616cf18b');\n",
              "        const dataTable =\n",
              "          await google.colab.kernel.invokeFunction('convertToInteractive',\n",
              "                                                    [key], {});\n",
              "        if (!dataTable) return;\n",
              "\n",
              "        const docLinkHtml = 'Like what you see? Visit the ' +\n",
              "          '<a target=\"_blank\" href=https://colab.research.google.com/notebooks/data_table.ipynb>data table notebook</a>'\n",
              "          + ' to learn more about interactive tables.';\n",
              "        element.innerHTML = '';\n",
              "        dataTable['output_type'] = 'display_data';\n",
              "        await google.colab.output.renderOutput(dataTable, element);\n",
              "        const docLink = document.createElement('div');\n",
              "        docLink.innerHTML = docLinkHtml;\n",
              "        element.appendChild(docLink);\n",
              "      }\n",
              "    </script>\n",
              "  </div>\n",
              "\n",
              "\n",
              "<div id=\"df-9624c040-314b-440e-bcfa-67c9527bda65\">\n",
              "  <button class=\"colab-df-quickchart\" onclick=\"quickchart('df-9624c040-314b-440e-bcfa-67c9527bda65')\"\n",
              "            title=\"Suggest charts\"\n",
              "            style=\"display:none;\">\n",
              "\n",
              "<svg xmlns=\"http://www.w3.org/2000/svg\" height=\"24px\"viewBox=\"0 0 24 24\"\n",
              "     width=\"24px\">\n",
              "    <g>\n",
              "        <path d=\"M19 3H5c-1.1 0-2 .9-2 2v14c0 1.1.9 2 2 2h14c1.1 0 2-.9 2-2V5c0-1.1-.9-2-2-2zM9 17H7v-7h2v7zm4 0h-2V7h2v10zm4 0h-2v-4h2v4z\"/>\n",
              "    </g>\n",
              "</svg>\n",
              "  </button>\n",
              "\n",
              "<style>\n",
              "  .colab-df-quickchart {\n",
              "      --bg-color: #E8F0FE;\n",
              "      --fill-color: #1967D2;\n",
              "      --hover-bg-color: #E2EBFA;\n",
              "      --hover-fill-color: #174EA6;\n",
              "      --disabled-fill-color: #AAA;\n",
              "      --disabled-bg-color: #DDD;\n",
              "  }\n",
              "\n",
              "  [theme=dark] .colab-df-quickchart {\n",
              "      --bg-color: #3B4455;\n",
              "      --fill-color: #D2E3FC;\n",
              "      --hover-bg-color: #434B5C;\n",
              "      --hover-fill-color: #FFFFFF;\n",
              "      --disabled-bg-color: #3B4455;\n",
              "      --disabled-fill-color: #666;\n",
              "  }\n",
              "\n",
              "  .colab-df-quickchart {\n",
              "    background-color: var(--bg-color);\n",
              "    border: none;\n",
              "    border-radius: 50%;\n",
              "    cursor: pointer;\n",
              "    display: none;\n",
              "    fill: var(--fill-color);\n",
              "    height: 32px;\n",
              "    padding: 0;\n",
              "    width: 32px;\n",
              "  }\n",
              "\n",
              "  .colab-df-quickchart:hover {\n",
              "    background-color: var(--hover-bg-color);\n",
              "    box-shadow: 0 1px 2px rgba(60, 64, 67, 0.3), 0 1px 3px 1px rgba(60, 64, 67, 0.15);\n",
              "    fill: var(--button-hover-fill-color);\n",
              "  }\n",
              "\n",
              "  .colab-df-quickchart-complete:disabled,\n",
              "  .colab-df-quickchart-complete:disabled:hover {\n",
              "    background-color: var(--disabled-bg-color);\n",
              "    fill: var(--disabled-fill-color);\n",
              "    box-shadow: none;\n",
              "  }\n",
              "\n",
              "  .colab-df-spinner {\n",
              "    border: 2px solid var(--fill-color);\n",
              "    border-color: transparent;\n",
              "    border-bottom-color: var(--fill-color);\n",
              "    animation:\n",
              "      spin 1s steps(1) infinite;\n",
              "  }\n",
              "\n",
              "  @keyframes spin {\n",
              "    0% {\n",
              "      border-color: transparent;\n",
              "      border-bottom-color: var(--fill-color);\n",
              "      border-left-color: var(--fill-color);\n",
              "    }\n",
              "    20% {\n",
              "      border-color: transparent;\n",
              "      border-left-color: var(--fill-color);\n",
              "      border-top-color: var(--fill-color);\n",
              "    }\n",
              "    30% {\n",
              "      border-color: transparent;\n",
              "      border-left-color: var(--fill-color);\n",
              "      border-top-color: var(--fill-color);\n",
              "      border-right-color: var(--fill-color);\n",
              "    }\n",
              "    40% {\n",
              "      border-color: transparent;\n",
              "      border-right-color: var(--fill-color);\n",
              "      border-top-color: var(--fill-color);\n",
              "    }\n",
              "    60% {\n",
              "      border-color: transparent;\n",
              "      border-right-color: var(--fill-color);\n",
              "    }\n",
              "    80% {\n",
              "      border-color: transparent;\n",
              "      border-right-color: var(--fill-color);\n",
              "      border-bottom-color: var(--fill-color);\n",
              "    }\n",
              "    90% {\n",
              "      border-color: transparent;\n",
              "      border-bottom-color: var(--fill-color);\n",
              "    }\n",
              "  }\n",
              "</style>\n",
              "\n",
              "  <script>\n",
              "    async function quickchart(key) {\n",
              "      const quickchartButtonEl =\n",
              "        document.querySelector('#' + key + ' button');\n",
              "      quickchartButtonEl.disabled = true;  // To prevent multiple clicks.\n",
              "      quickchartButtonEl.classList.add('colab-df-spinner');\n",
              "      try {\n",
              "        const charts = await google.colab.kernel.invokeFunction(\n",
              "            'suggestCharts', [key], {});\n",
              "      } catch (error) {\n",
              "        console.error('Error during call to suggestCharts:', error);\n",
              "      }\n",
              "      quickchartButtonEl.classList.remove('colab-df-spinner');\n",
              "      quickchartButtonEl.classList.add('colab-df-quickchart-complete');\n",
              "    }\n",
              "    (() => {\n",
              "      let quickchartButtonEl =\n",
              "        document.querySelector('#df-9624c040-314b-440e-bcfa-67c9527bda65 button');\n",
              "      quickchartButtonEl.style.display =\n",
              "        google.colab.kernel.accessAllowed ? 'block' : 'none';\n",
              "    })();\n",
              "  </script>\n",
              "</div>\n",
              "    </div>\n",
              "  </div>\n"
            ]
          },
          "metadata": {},
          "execution_count": 12
        }
      ],
      "source": [
        "#converting the categorial data by using oneHot Encoding\n",
        "rbc = pd.get_dummies(data[[\"rbc\"]],drop_first=True)\n",
        "rbc.head()"
      ]
    },
    {
      "cell_type": "code",
      "execution_count": 13,
      "id": "e429320a",
      "metadata": {
        "execution": {
          "iopub.execute_input": "2021-10-13T05:20:50.210521Z",
          "iopub.status.busy": "2021-10-13T05:20:50.209759Z",
          "iopub.status.idle": "2021-10-13T05:20:50.214018Z",
          "shell.execute_reply": "2021-10-13T05:20:50.213435Z",
          "shell.execute_reply.started": "2021-10-13T05:19:20.215937Z"
        },
        "papermill": {
          "duration": 0.052091,
          "end_time": "2021-10-13T05:20:50.214152",
          "exception": false,
          "start_time": "2021-10-13T05:20:50.162061",
          "status": "completed"
        },
        "tags": [],
        "colab": {
          "base_uri": "https://localhost:8080/",
          "height": 206
        },
        "id": "e429320a",
        "outputId": "3a4d5c13-0655-4cf7-a4cd-d58c6a89223f"
      },
      "outputs": [
        {
          "output_type": "execute_result",
          "data": {
            "text/plain": [
              "   pc_normal\n",
              "0          1\n",
              "1          1\n",
              "2          1\n",
              "3          0\n",
              "4          1"
            ],
            "text/html": [
              "\n",
              "  <div id=\"df-ae2aeedf-ee10-459c-84ea-b9bbc3ddb369\" class=\"colab-df-container\">\n",
              "    <div>\n",
              "<style scoped>\n",
              "    .dataframe tbody tr th:only-of-type {\n",
              "        vertical-align: middle;\n",
              "    }\n",
              "\n",
              "    .dataframe tbody tr th {\n",
              "        vertical-align: top;\n",
              "    }\n",
              "\n",
              "    .dataframe thead th {\n",
              "        text-align: right;\n",
              "    }\n",
              "</style>\n",
              "<table border=\"1\" class=\"dataframe\">\n",
              "  <thead>\n",
              "    <tr style=\"text-align: right;\">\n",
              "      <th></th>\n",
              "      <th>pc_normal</th>\n",
              "    </tr>\n",
              "  </thead>\n",
              "  <tbody>\n",
              "    <tr>\n",
              "      <th>0</th>\n",
              "      <td>1</td>\n",
              "    </tr>\n",
              "    <tr>\n",
              "      <th>1</th>\n",
              "      <td>1</td>\n",
              "    </tr>\n",
              "    <tr>\n",
              "      <th>2</th>\n",
              "      <td>1</td>\n",
              "    </tr>\n",
              "    <tr>\n",
              "      <th>3</th>\n",
              "      <td>0</td>\n",
              "    </tr>\n",
              "    <tr>\n",
              "      <th>4</th>\n",
              "      <td>1</td>\n",
              "    </tr>\n",
              "  </tbody>\n",
              "</table>\n",
              "</div>\n",
              "    <div class=\"colab-df-buttons\">\n",
              "\n",
              "  <div class=\"colab-df-container\">\n",
              "    <button class=\"colab-df-convert\" onclick=\"convertToInteractive('df-ae2aeedf-ee10-459c-84ea-b9bbc3ddb369')\"\n",
              "            title=\"Convert this dataframe to an interactive table.\"\n",
              "            style=\"display:none;\">\n",
              "\n",
              "  <svg xmlns=\"http://www.w3.org/2000/svg\" height=\"24px\" viewBox=\"0 -960 960 960\">\n",
              "    <path d=\"M120-120v-720h720v720H120Zm60-500h600v-160H180v160Zm220 220h160v-160H400v160Zm0 220h160v-160H400v160ZM180-400h160v-160H180v160Zm440 0h160v-160H620v160ZM180-180h160v-160H180v160Zm440 0h160v-160H620v160Z\"/>\n",
              "  </svg>\n",
              "    </button>\n",
              "\n",
              "  <style>\n",
              "    .colab-df-container {\n",
              "      display:flex;\n",
              "      gap: 12px;\n",
              "    }\n",
              "\n",
              "    .colab-df-convert {\n",
              "      background-color: #E8F0FE;\n",
              "      border: none;\n",
              "      border-radius: 50%;\n",
              "      cursor: pointer;\n",
              "      display: none;\n",
              "      fill: #1967D2;\n",
              "      height: 32px;\n",
              "      padding: 0 0 0 0;\n",
              "      width: 32px;\n",
              "    }\n",
              "\n",
              "    .colab-df-convert:hover {\n",
              "      background-color: #E2EBFA;\n",
              "      box-shadow: 0px 1px 2px rgba(60, 64, 67, 0.3), 0px 1px 3px 1px rgba(60, 64, 67, 0.15);\n",
              "      fill: #174EA6;\n",
              "    }\n",
              "\n",
              "    .colab-df-buttons div {\n",
              "      margin-bottom: 4px;\n",
              "    }\n",
              "\n",
              "    [theme=dark] .colab-df-convert {\n",
              "      background-color: #3B4455;\n",
              "      fill: #D2E3FC;\n",
              "    }\n",
              "\n",
              "    [theme=dark] .colab-df-convert:hover {\n",
              "      background-color: #434B5C;\n",
              "      box-shadow: 0px 1px 3px 1px rgba(0, 0, 0, 0.15);\n",
              "      filter: drop-shadow(0px 1px 2px rgba(0, 0, 0, 0.3));\n",
              "      fill: #FFFFFF;\n",
              "    }\n",
              "  </style>\n",
              "\n",
              "    <script>\n",
              "      const buttonEl =\n",
              "        document.querySelector('#df-ae2aeedf-ee10-459c-84ea-b9bbc3ddb369 button.colab-df-convert');\n",
              "      buttonEl.style.display =\n",
              "        google.colab.kernel.accessAllowed ? 'block' : 'none';\n",
              "\n",
              "      async function convertToInteractive(key) {\n",
              "        const element = document.querySelector('#df-ae2aeedf-ee10-459c-84ea-b9bbc3ddb369');\n",
              "        const dataTable =\n",
              "          await google.colab.kernel.invokeFunction('convertToInteractive',\n",
              "                                                    [key], {});\n",
              "        if (!dataTable) return;\n",
              "\n",
              "        const docLinkHtml = 'Like what you see? Visit the ' +\n",
              "          '<a target=\"_blank\" href=https://colab.research.google.com/notebooks/data_table.ipynb>data table notebook</a>'\n",
              "          + ' to learn more about interactive tables.';\n",
              "        element.innerHTML = '';\n",
              "        dataTable['output_type'] = 'display_data';\n",
              "        await google.colab.output.renderOutput(dataTable, element);\n",
              "        const docLink = document.createElement('div');\n",
              "        docLink.innerHTML = docLinkHtml;\n",
              "        element.appendChild(docLink);\n",
              "      }\n",
              "    </script>\n",
              "  </div>\n",
              "\n",
              "\n",
              "<div id=\"df-aec002b0-5243-4b11-8e3c-5c8bc3bcc83b\">\n",
              "  <button class=\"colab-df-quickchart\" onclick=\"quickchart('df-aec002b0-5243-4b11-8e3c-5c8bc3bcc83b')\"\n",
              "            title=\"Suggest charts\"\n",
              "            style=\"display:none;\">\n",
              "\n",
              "<svg xmlns=\"http://www.w3.org/2000/svg\" height=\"24px\"viewBox=\"0 0 24 24\"\n",
              "     width=\"24px\">\n",
              "    <g>\n",
              "        <path d=\"M19 3H5c-1.1 0-2 .9-2 2v14c0 1.1.9 2 2 2h14c1.1 0 2-.9 2-2V5c0-1.1-.9-2-2-2zM9 17H7v-7h2v7zm4 0h-2V7h2v10zm4 0h-2v-4h2v4z\"/>\n",
              "    </g>\n",
              "</svg>\n",
              "  </button>\n",
              "\n",
              "<style>\n",
              "  .colab-df-quickchart {\n",
              "      --bg-color: #E8F0FE;\n",
              "      --fill-color: #1967D2;\n",
              "      --hover-bg-color: #E2EBFA;\n",
              "      --hover-fill-color: #174EA6;\n",
              "      --disabled-fill-color: #AAA;\n",
              "      --disabled-bg-color: #DDD;\n",
              "  }\n",
              "\n",
              "  [theme=dark] .colab-df-quickchart {\n",
              "      --bg-color: #3B4455;\n",
              "      --fill-color: #D2E3FC;\n",
              "      --hover-bg-color: #434B5C;\n",
              "      --hover-fill-color: #FFFFFF;\n",
              "      --disabled-bg-color: #3B4455;\n",
              "      --disabled-fill-color: #666;\n",
              "  }\n",
              "\n",
              "  .colab-df-quickchart {\n",
              "    background-color: var(--bg-color);\n",
              "    border: none;\n",
              "    border-radius: 50%;\n",
              "    cursor: pointer;\n",
              "    display: none;\n",
              "    fill: var(--fill-color);\n",
              "    height: 32px;\n",
              "    padding: 0;\n",
              "    width: 32px;\n",
              "  }\n",
              "\n",
              "  .colab-df-quickchart:hover {\n",
              "    background-color: var(--hover-bg-color);\n",
              "    box-shadow: 0 1px 2px rgba(60, 64, 67, 0.3), 0 1px 3px 1px rgba(60, 64, 67, 0.15);\n",
              "    fill: var(--button-hover-fill-color);\n",
              "  }\n",
              "\n",
              "  .colab-df-quickchart-complete:disabled,\n",
              "  .colab-df-quickchart-complete:disabled:hover {\n",
              "    background-color: var(--disabled-bg-color);\n",
              "    fill: var(--disabled-fill-color);\n",
              "    box-shadow: none;\n",
              "  }\n",
              "\n",
              "  .colab-df-spinner {\n",
              "    border: 2px solid var(--fill-color);\n",
              "    border-color: transparent;\n",
              "    border-bottom-color: var(--fill-color);\n",
              "    animation:\n",
              "      spin 1s steps(1) infinite;\n",
              "  }\n",
              "\n",
              "  @keyframes spin {\n",
              "    0% {\n",
              "      border-color: transparent;\n",
              "      border-bottom-color: var(--fill-color);\n",
              "      border-left-color: var(--fill-color);\n",
              "    }\n",
              "    20% {\n",
              "      border-color: transparent;\n",
              "      border-left-color: var(--fill-color);\n",
              "      border-top-color: var(--fill-color);\n",
              "    }\n",
              "    30% {\n",
              "      border-color: transparent;\n",
              "      border-left-color: var(--fill-color);\n",
              "      border-top-color: var(--fill-color);\n",
              "      border-right-color: var(--fill-color);\n",
              "    }\n",
              "    40% {\n",
              "      border-color: transparent;\n",
              "      border-right-color: var(--fill-color);\n",
              "      border-top-color: var(--fill-color);\n",
              "    }\n",
              "    60% {\n",
              "      border-color: transparent;\n",
              "      border-right-color: var(--fill-color);\n",
              "    }\n",
              "    80% {\n",
              "      border-color: transparent;\n",
              "      border-right-color: var(--fill-color);\n",
              "      border-bottom-color: var(--fill-color);\n",
              "    }\n",
              "    90% {\n",
              "      border-color: transparent;\n",
              "      border-bottom-color: var(--fill-color);\n",
              "    }\n",
              "  }\n",
              "</style>\n",
              "\n",
              "  <script>\n",
              "    async function quickchart(key) {\n",
              "      const quickchartButtonEl =\n",
              "        document.querySelector('#' + key + ' button');\n",
              "      quickchartButtonEl.disabled = true;  // To prevent multiple clicks.\n",
              "      quickchartButtonEl.classList.add('colab-df-spinner');\n",
              "      try {\n",
              "        const charts = await google.colab.kernel.invokeFunction(\n",
              "            'suggestCharts', [key], {});\n",
              "      } catch (error) {\n",
              "        console.error('Error during call to suggestCharts:', error);\n",
              "      }\n",
              "      quickchartButtonEl.classList.remove('colab-df-spinner');\n",
              "      quickchartButtonEl.classList.add('colab-df-quickchart-complete');\n",
              "    }\n",
              "    (() => {\n",
              "      let quickchartButtonEl =\n",
              "        document.querySelector('#df-aec002b0-5243-4b11-8e3c-5c8bc3bcc83b button');\n",
              "      quickchartButtonEl.style.display =\n",
              "        google.colab.kernel.accessAllowed ? 'block' : 'none';\n",
              "    })();\n",
              "  </script>\n",
              "</div>\n",
              "    </div>\n",
              "  </div>\n"
            ]
          },
          "metadata": {},
          "execution_count": 13
        }
      ],
      "source": [
        "pc = pd.get_dummies(data[[\"pc\"]],drop_first=True)\n",
        "pc.head()"
      ]
    },
    {
      "cell_type": "code",
      "execution_count": 14,
      "id": "24090b5d",
      "metadata": {
        "execution": {
          "iopub.execute_input": "2021-10-13T05:20:50.296857Z",
          "iopub.status.busy": "2021-10-13T05:20:50.296208Z",
          "iopub.status.idle": "2021-10-13T05:20:50.302541Z",
          "shell.execute_reply": "2021-10-13T05:20:50.301943Z",
          "shell.execute_reply.started": "2021-10-13T05:19:20.233565Z"
        },
        "papermill": {
          "duration": 0.053345,
          "end_time": "2021-10-13T05:20:50.302678",
          "exception": false,
          "start_time": "2021-10-13T05:20:50.249333",
          "status": "completed"
        },
        "tags": [],
        "colab": {
          "base_uri": "https://localhost:8080/",
          "height": 206
        },
        "id": "24090b5d",
        "outputId": "77904d72-0e03-43dc-ab85-65be019236f8"
      },
      "outputs": [
        {
          "output_type": "execute_result",
          "data": {
            "text/plain": [
              "   pcc_present\n",
              "0            0\n",
              "1            0\n",
              "2            0\n",
              "3            1\n",
              "4            0"
            ],
            "text/html": [
              "\n",
              "  <div id=\"df-bfda52e4-3320-4d5c-819b-d418e694a181\" class=\"colab-df-container\">\n",
              "    <div>\n",
              "<style scoped>\n",
              "    .dataframe tbody tr th:only-of-type {\n",
              "        vertical-align: middle;\n",
              "    }\n",
              "\n",
              "    .dataframe tbody tr th {\n",
              "        vertical-align: top;\n",
              "    }\n",
              "\n",
              "    .dataframe thead th {\n",
              "        text-align: right;\n",
              "    }\n",
              "</style>\n",
              "<table border=\"1\" class=\"dataframe\">\n",
              "  <thead>\n",
              "    <tr style=\"text-align: right;\">\n",
              "      <th></th>\n",
              "      <th>pcc_present</th>\n",
              "    </tr>\n",
              "  </thead>\n",
              "  <tbody>\n",
              "    <tr>\n",
              "      <th>0</th>\n",
              "      <td>0</td>\n",
              "    </tr>\n",
              "    <tr>\n",
              "      <th>1</th>\n",
              "      <td>0</td>\n",
              "    </tr>\n",
              "    <tr>\n",
              "      <th>2</th>\n",
              "      <td>0</td>\n",
              "    </tr>\n",
              "    <tr>\n",
              "      <th>3</th>\n",
              "      <td>1</td>\n",
              "    </tr>\n",
              "    <tr>\n",
              "      <th>4</th>\n",
              "      <td>0</td>\n",
              "    </tr>\n",
              "  </tbody>\n",
              "</table>\n",
              "</div>\n",
              "    <div class=\"colab-df-buttons\">\n",
              "\n",
              "  <div class=\"colab-df-container\">\n",
              "    <button class=\"colab-df-convert\" onclick=\"convertToInteractive('df-bfda52e4-3320-4d5c-819b-d418e694a181')\"\n",
              "            title=\"Convert this dataframe to an interactive table.\"\n",
              "            style=\"display:none;\">\n",
              "\n",
              "  <svg xmlns=\"http://www.w3.org/2000/svg\" height=\"24px\" viewBox=\"0 -960 960 960\">\n",
              "    <path d=\"M120-120v-720h720v720H120Zm60-500h600v-160H180v160Zm220 220h160v-160H400v160Zm0 220h160v-160H400v160ZM180-400h160v-160H180v160Zm440 0h160v-160H620v160ZM180-180h160v-160H180v160Zm440 0h160v-160H620v160Z\"/>\n",
              "  </svg>\n",
              "    </button>\n",
              "\n",
              "  <style>\n",
              "    .colab-df-container {\n",
              "      display:flex;\n",
              "      gap: 12px;\n",
              "    }\n",
              "\n",
              "    .colab-df-convert {\n",
              "      background-color: #E8F0FE;\n",
              "      border: none;\n",
              "      border-radius: 50%;\n",
              "      cursor: pointer;\n",
              "      display: none;\n",
              "      fill: #1967D2;\n",
              "      height: 32px;\n",
              "      padding: 0 0 0 0;\n",
              "      width: 32px;\n",
              "    }\n",
              "\n",
              "    .colab-df-convert:hover {\n",
              "      background-color: #E2EBFA;\n",
              "      box-shadow: 0px 1px 2px rgba(60, 64, 67, 0.3), 0px 1px 3px 1px rgba(60, 64, 67, 0.15);\n",
              "      fill: #174EA6;\n",
              "    }\n",
              "\n",
              "    .colab-df-buttons div {\n",
              "      margin-bottom: 4px;\n",
              "    }\n",
              "\n",
              "    [theme=dark] .colab-df-convert {\n",
              "      background-color: #3B4455;\n",
              "      fill: #D2E3FC;\n",
              "    }\n",
              "\n",
              "    [theme=dark] .colab-df-convert:hover {\n",
              "      background-color: #434B5C;\n",
              "      box-shadow: 0px 1px 3px 1px rgba(0, 0, 0, 0.15);\n",
              "      filter: drop-shadow(0px 1px 2px rgba(0, 0, 0, 0.3));\n",
              "      fill: #FFFFFF;\n",
              "    }\n",
              "  </style>\n",
              "\n",
              "    <script>\n",
              "      const buttonEl =\n",
              "        document.querySelector('#df-bfda52e4-3320-4d5c-819b-d418e694a181 button.colab-df-convert');\n",
              "      buttonEl.style.display =\n",
              "        google.colab.kernel.accessAllowed ? 'block' : 'none';\n",
              "\n",
              "      async function convertToInteractive(key) {\n",
              "        const element = document.querySelector('#df-bfda52e4-3320-4d5c-819b-d418e694a181');\n",
              "        const dataTable =\n",
              "          await google.colab.kernel.invokeFunction('convertToInteractive',\n",
              "                                                    [key], {});\n",
              "        if (!dataTable) return;\n",
              "\n",
              "        const docLinkHtml = 'Like what you see? Visit the ' +\n",
              "          '<a target=\"_blank\" href=https://colab.research.google.com/notebooks/data_table.ipynb>data table notebook</a>'\n",
              "          + ' to learn more about interactive tables.';\n",
              "        element.innerHTML = '';\n",
              "        dataTable['output_type'] = 'display_data';\n",
              "        await google.colab.output.renderOutput(dataTable, element);\n",
              "        const docLink = document.createElement('div');\n",
              "        docLink.innerHTML = docLinkHtml;\n",
              "        element.appendChild(docLink);\n",
              "      }\n",
              "    </script>\n",
              "  </div>\n",
              "\n",
              "\n",
              "<div id=\"df-10201fdc-d31b-4c46-beb7-48259751289a\">\n",
              "  <button class=\"colab-df-quickchart\" onclick=\"quickchart('df-10201fdc-d31b-4c46-beb7-48259751289a')\"\n",
              "            title=\"Suggest charts\"\n",
              "            style=\"display:none;\">\n",
              "\n",
              "<svg xmlns=\"http://www.w3.org/2000/svg\" height=\"24px\"viewBox=\"0 0 24 24\"\n",
              "     width=\"24px\">\n",
              "    <g>\n",
              "        <path d=\"M19 3H5c-1.1 0-2 .9-2 2v14c0 1.1.9 2 2 2h14c1.1 0 2-.9 2-2V5c0-1.1-.9-2-2-2zM9 17H7v-7h2v7zm4 0h-2V7h2v10zm4 0h-2v-4h2v4z\"/>\n",
              "    </g>\n",
              "</svg>\n",
              "  </button>\n",
              "\n",
              "<style>\n",
              "  .colab-df-quickchart {\n",
              "      --bg-color: #E8F0FE;\n",
              "      --fill-color: #1967D2;\n",
              "      --hover-bg-color: #E2EBFA;\n",
              "      --hover-fill-color: #174EA6;\n",
              "      --disabled-fill-color: #AAA;\n",
              "      --disabled-bg-color: #DDD;\n",
              "  }\n",
              "\n",
              "  [theme=dark] .colab-df-quickchart {\n",
              "      --bg-color: #3B4455;\n",
              "      --fill-color: #D2E3FC;\n",
              "      --hover-bg-color: #434B5C;\n",
              "      --hover-fill-color: #FFFFFF;\n",
              "      --disabled-bg-color: #3B4455;\n",
              "      --disabled-fill-color: #666;\n",
              "  }\n",
              "\n",
              "  .colab-df-quickchart {\n",
              "    background-color: var(--bg-color);\n",
              "    border: none;\n",
              "    border-radius: 50%;\n",
              "    cursor: pointer;\n",
              "    display: none;\n",
              "    fill: var(--fill-color);\n",
              "    height: 32px;\n",
              "    padding: 0;\n",
              "    width: 32px;\n",
              "  }\n",
              "\n",
              "  .colab-df-quickchart:hover {\n",
              "    background-color: var(--hover-bg-color);\n",
              "    box-shadow: 0 1px 2px rgba(60, 64, 67, 0.3), 0 1px 3px 1px rgba(60, 64, 67, 0.15);\n",
              "    fill: var(--button-hover-fill-color);\n",
              "  }\n",
              "\n",
              "  .colab-df-quickchart-complete:disabled,\n",
              "  .colab-df-quickchart-complete:disabled:hover {\n",
              "    background-color: var(--disabled-bg-color);\n",
              "    fill: var(--disabled-fill-color);\n",
              "    box-shadow: none;\n",
              "  }\n",
              "\n",
              "  .colab-df-spinner {\n",
              "    border: 2px solid var(--fill-color);\n",
              "    border-color: transparent;\n",
              "    border-bottom-color: var(--fill-color);\n",
              "    animation:\n",
              "      spin 1s steps(1) infinite;\n",
              "  }\n",
              "\n",
              "  @keyframes spin {\n",
              "    0% {\n",
              "      border-color: transparent;\n",
              "      border-bottom-color: var(--fill-color);\n",
              "      border-left-color: var(--fill-color);\n",
              "    }\n",
              "    20% {\n",
              "      border-color: transparent;\n",
              "      border-left-color: var(--fill-color);\n",
              "      border-top-color: var(--fill-color);\n",
              "    }\n",
              "    30% {\n",
              "      border-color: transparent;\n",
              "      border-left-color: var(--fill-color);\n",
              "      border-top-color: var(--fill-color);\n",
              "      border-right-color: var(--fill-color);\n",
              "    }\n",
              "    40% {\n",
              "      border-color: transparent;\n",
              "      border-right-color: var(--fill-color);\n",
              "      border-top-color: var(--fill-color);\n",
              "    }\n",
              "    60% {\n",
              "      border-color: transparent;\n",
              "      border-right-color: var(--fill-color);\n",
              "    }\n",
              "    80% {\n",
              "      border-color: transparent;\n",
              "      border-right-color: var(--fill-color);\n",
              "      border-bottom-color: var(--fill-color);\n",
              "    }\n",
              "    90% {\n",
              "      border-color: transparent;\n",
              "      border-bottom-color: var(--fill-color);\n",
              "    }\n",
              "  }\n",
              "</style>\n",
              "\n",
              "  <script>\n",
              "    async function quickchart(key) {\n",
              "      const quickchartButtonEl =\n",
              "        document.querySelector('#' + key + ' button');\n",
              "      quickchartButtonEl.disabled = true;  // To prevent multiple clicks.\n",
              "      quickchartButtonEl.classList.add('colab-df-spinner');\n",
              "      try {\n",
              "        const charts = await google.colab.kernel.invokeFunction(\n",
              "            'suggestCharts', [key], {});\n",
              "      } catch (error) {\n",
              "        console.error('Error during call to suggestCharts:', error);\n",
              "      }\n",
              "      quickchartButtonEl.classList.remove('colab-df-spinner');\n",
              "      quickchartButtonEl.classList.add('colab-df-quickchart-complete');\n",
              "    }\n",
              "    (() => {\n",
              "      let quickchartButtonEl =\n",
              "        document.querySelector('#df-10201fdc-d31b-4c46-beb7-48259751289a button');\n",
              "      quickchartButtonEl.style.display =\n",
              "        google.colab.kernel.accessAllowed ? 'block' : 'none';\n",
              "    })();\n",
              "  </script>\n",
              "</div>\n",
              "    </div>\n",
              "  </div>\n"
            ]
          },
          "metadata": {},
          "execution_count": 14
        }
      ],
      "source": [
        "pcc = pd.get_dummies(data[[\"pcc\"]],drop_first=True)\n",
        "pcc.head()"
      ]
    },
    {
      "cell_type": "code",
      "execution_count": 15,
      "id": "7604e3a7",
      "metadata": {
        "execution": {
          "iopub.execute_input": "2021-10-13T05:20:50.386998Z",
          "iopub.status.busy": "2021-10-13T05:20:50.385873Z",
          "iopub.status.idle": "2021-10-13T05:20:50.390346Z",
          "shell.execute_reply": "2021-10-13T05:20:50.390814Z",
          "shell.execute_reply.started": "2021-10-13T05:19:20.250273Z"
        },
        "papermill": {
          "duration": 0.052618,
          "end_time": "2021-10-13T05:20:50.391003",
          "exception": false,
          "start_time": "2021-10-13T05:20:50.338385",
          "status": "completed"
        },
        "tags": [],
        "colab": {
          "base_uri": "https://localhost:8080/",
          "height": 206
        },
        "id": "7604e3a7",
        "outputId": "4f65b454-686c-4d3d-8c31-bffd47744a93"
      },
      "outputs": [
        {
          "output_type": "execute_result",
          "data": {
            "text/plain": [
              "   ba_present\n",
              "0           0\n",
              "1           0\n",
              "2           0\n",
              "3           0\n",
              "4           0"
            ],
            "text/html": [
              "\n",
              "  <div id=\"df-ac6df626-c043-4ee6-9db7-ae420521c9e1\" class=\"colab-df-container\">\n",
              "    <div>\n",
              "<style scoped>\n",
              "    .dataframe tbody tr th:only-of-type {\n",
              "        vertical-align: middle;\n",
              "    }\n",
              "\n",
              "    .dataframe tbody tr th {\n",
              "        vertical-align: top;\n",
              "    }\n",
              "\n",
              "    .dataframe thead th {\n",
              "        text-align: right;\n",
              "    }\n",
              "</style>\n",
              "<table border=\"1\" class=\"dataframe\">\n",
              "  <thead>\n",
              "    <tr style=\"text-align: right;\">\n",
              "      <th></th>\n",
              "      <th>ba_present</th>\n",
              "    </tr>\n",
              "  </thead>\n",
              "  <tbody>\n",
              "    <tr>\n",
              "      <th>0</th>\n",
              "      <td>0</td>\n",
              "    </tr>\n",
              "    <tr>\n",
              "      <th>1</th>\n",
              "      <td>0</td>\n",
              "    </tr>\n",
              "    <tr>\n",
              "      <th>2</th>\n",
              "      <td>0</td>\n",
              "    </tr>\n",
              "    <tr>\n",
              "      <th>3</th>\n",
              "      <td>0</td>\n",
              "    </tr>\n",
              "    <tr>\n",
              "      <th>4</th>\n",
              "      <td>0</td>\n",
              "    </tr>\n",
              "  </tbody>\n",
              "</table>\n",
              "</div>\n",
              "    <div class=\"colab-df-buttons\">\n",
              "\n",
              "  <div class=\"colab-df-container\">\n",
              "    <button class=\"colab-df-convert\" onclick=\"convertToInteractive('df-ac6df626-c043-4ee6-9db7-ae420521c9e1')\"\n",
              "            title=\"Convert this dataframe to an interactive table.\"\n",
              "            style=\"display:none;\">\n",
              "\n",
              "  <svg xmlns=\"http://www.w3.org/2000/svg\" height=\"24px\" viewBox=\"0 -960 960 960\">\n",
              "    <path d=\"M120-120v-720h720v720H120Zm60-500h600v-160H180v160Zm220 220h160v-160H400v160Zm0 220h160v-160H400v160ZM180-400h160v-160H180v160Zm440 0h160v-160H620v160ZM180-180h160v-160H180v160Zm440 0h160v-160H620v160Z\"/>\n",
              "  </svg>\n",
              "    </button>\n",
              "\n",
              "  <style>\n",
              "    .colab-df-container {\n",
              "      display:flex;\n",
              "      gap: 12px;\n",
              "    }\n",
              "\n",
              "    .colab-df-convert {\n",
              "      background-color: #E8F0FE;\n",
              "      border: none;\n",
              "      border-radius: 50%;\n",
              "      cursor: pointer;\n",
              "      display: none;\n",
              "      fill: #1967D2;\n",
              "      height: 32px;\n",
              "      padding: 0 0 0 0;\n",
              "      width: 32px;\n",
              "    }\n",
              "\n",
              "    .colab-df-convert:hover {\n",
              "      background-color: #E2EBFA;\n",
              "      box-shadow: 0px 1px 2px rgba(60, 64, 67, 0.3), 0px 1px 3px 1px rgba(60, 64, 67, 0.15);\n",
              "      fill: #174EA6;\n",
              "    }\n",
              "\n",
              "    .colab-df-buttons div {\n",
              "      margin-bottom: 4px;\n",
              "    }\n",
              "\n",
              "    [theme=dark] .colab-df-convert {\n",
              "      background-color: #3B4455;\n",
              "      fill: #D2E3FC;\n",
              "    }\n",
              "\n",
              "    [theme=dark] .colab-df-convert:hover {\n",
              "      background-color: #434B5C;\n",
              "      box-shadow: 0px 1px 3px 1px rgba(0, 0, 0, 0.15);\n",
              "      filter: drop-shadow(0px 1px 2px rgba(0, 0, 0, 0.3));\n",
              "      fill: #FFFFFF;\n",
              "    }\n",
              "  </style>\n",
              "\n",
              "    <script>\n",
              "      const buttonEl =\n",
              "        document.querySelector('#df-ac6df626-c043-4ee6-9db7-ae420521c9e1 button.colab-df-convert');\n",
              "      buttonEl.style.display =\n",
              "        google.colab.kernel.accessAllowed ? 'block' : 'none';\n",
              "\n",
              "      async function convertToInteractive(key) {\n",
              "        const element = document.querySelector('#df-ac6df626-c043-4ee6-9db7-ae420521c9e1');\n",
              "        const dataTable =\n",
              "          await google.colab.kernel.invokeFunction('convertToInteractive',\n",
              "                                                    [key], {});\n",
              "        if (!dataTable) return;\n",
              "\n",
              "        const docLinkHtml = 'Like what you see? Visit the ' +\n",
              "          '<a target=\"_blank\" href=https://colab.research.google.com/notebooks/data_table.ipynb>data table notebook</a>'\n",
              "          + ' to learn more about interactive tables.';\n",
              "        element.innerHTML = '';\n",
              "        dataTable['output_type'] = 'display_data';\n",
              "        await google.colab.output.renderOutput(dataTable, element);\n",
              "        const docLink = document.createElement('div');\n",
              "        docLink.innerHTML = docLinkHtml;\n",
              "        element.appendChild(docLink);\n",
              "      }\n",
              "    </script>\n",
              "  </div>\n",
              "\n",
              "\n",
              "<div id=\"df-5268f89f-b20a-4e95-86da-73f0bee34319\">\n",
              "  <button class=\"colab-df-quickchart\" onclick=\"quickchart('df-5268f89f-b20a-4e95-86da-73f0bee34319')\"\n",
              "            title=\"Suggest charts\"\n",
              "            style=\"display:none;\">\n",
              "\n",
              "<svg xmlns=\"http://www.w3.org/2000/svg\" height=\"24px\"viewBox=\"0 0 24 24\"\n",
              "     width=\"24px\">\n",
              "    <g>\n",
              "        <path d=\"M19 3H5c-1.1 0-2 .9-2 2v14c0 1.1.9 2 2 2h14c1.1 0 2-.9 2-2V5c0-1.1-.9-2-2-2zM9 17H7v-7h2v7zm4 0h-2V7h2v10zm4 0h-2v-4h2v4z\"/>\n",
              "    </g>\n",
              "</svg>\n",
              "  </button>\n",
              "\n",
              "<style>\n",
              "  .colab-df-quickchart {\n",
              "      --bg-color: #E8F0FE;\n",
              "      --fill-color: #1967D2;\n",
              "      --hover-bg-color: #E2EBFA;\n",
              "      --hover-fill-color: #174EA6;\n",
              "      --disabled-fill-color: #AAA;\n",
              "      --disabled-bg-color: #DDD;\n",
              "  }\n",
              "\n",
              "  [theme=dark] .colab-df-quickchart {\n",
              "      --bg-color: #3B4455;\n",
              "      --fill-color: #D2E3FC;\n",
              "      --hover-bg-color: #434B5C;\n",
              "      --hover-fill-color: #FFFFFF;\n",
              "      --disabled-bg-color: #3B4455;\n",
              "      --disabled-fill-color: #666;\n",
              "  }\n",
              "\n",
              "  .colab-df-quickchart {\n",
              "    background-color: var(--bg-color);\n",
              "    border: none;\n",
              "    border-radius: 50%;\n",
              "    cursor: pointer;\n",
              "    display: none;\n",
              "    fill: var(--fill-color);\n",
              "    height: 32px;\n",
              "    padding: 0;\n",
              "    width: 32px;\n",
              "  }\n",
              "\n",
              "  .colab-df-quickchart:hover {\n",
              "    background-color: var(--hover-bg-color);\n",
              "    box-shadow: 0 1px 2px rgba(60, 64, 67, 0.3), 0 1px 3px 1px rgba(60, 64, 67, 0.15);\n",
              "    fill: var(--button-hover-fill-color);\n",
              "  }\n",
              "\n",
              "  .colab-df-quickchart-complete:disabled,\n",
              "  .colab-df-quickchart-complete:disabled:hover {\n",
              "    background-color: var(--disabled-bg-color);\n",
              "    fill: var(--disabled-fill-color);\n",
              "    box-shadow: none;\n",
              "  }\n",
              "\n",
              "  .colab-df-spinner {\n",
              "    border: 2px solid var(--fill-color);\n",
              "    border-color: transparent;\n",
              "    border-bottom-color: var(--fill-color);\n",
              "    animation:\n",
              "      spin 1s steps(1) infinite;\n",
              "  }\n",
              "\n",
              "  @keyframes spin {\n",
              "    0% {\n",
              "      border-color: transparent;\n",
              "      border-bottom-color: var(--fill-color);\n",
              "      border-left-color: var(--fill-color);\n",
              "    }\n",
              "    20% {\n",
              "      border-color: transparent;\n",
              "      border-left-color: var(--fill-color);\n",
              "      border-top-color: var(--fill-color);\n",
              "    }\n",
              "    30% {\n",
              "      border-color: transparent;\n",
              "      border-left-color: var(--fill-color);\n",
              "      border-top-color: var(--fill-color);\n",
              "      border-right-color: var(--fill-color);\n",
              "    }\n",
              "    40% {\n",
              "      border-color: transparent;\n",
              "      border-right-color: var(--fill-color);\n",
              "      border-top-color: var(--fill-color);\n",
              "    }\n",
              "    60% {\n",
              "      border-color: transparent;\n",
              "      border-right-color: var(--fill-color);\n",
              "    }\n",
              "    80% {\n",
              "      border-color: transparent;\n",
              "      border-right-color: var(--fill-color);\n",
              "      border-bottom-color: var(--fill-color);\n",
              "    }\n",
              "    90% {\n",
              "      border-color: transparent;\n",
              "      border-bottom-color: var(--fill-color);\n",
              "    }\n",
              "  }\n",
              "</style>\n",
              "\n",
              "  <script>\n",
              "    async function quickchart(key) {\n",
              "      const quickchartButtonEl =\n",
              "        document.querySelector('#' + key + ' button');\n",
              "      quickchartButtonEl.disabled = true;  // To prevent multiple clicks.\n",
              "      quickchartButtonEl.classList.add('colab-df-spinner');\n",
              "      try {\n",
              "        const charts = await google.colab.kernel.invokeFunction(\n",
              "            'suggestCharts', [key], {});\n",
              "      } catch (error) {\n",
              "        console.error('Error during call to suggestCharts:', error);\n",
              "      }\n",
              "      quickchartButtonEl.classList.remove('colab-df-spinner');\n",
              "      quickchartButtonEl.classList.add('colab-df-quickchart-complete');\n",
              "    }\n",
              "    (() => {\n",
              "      let quickchartButtonEl =\n",
              "        document.querySelector('#df-5268f89f-b20a-4e95-86da-73f0bee34319 button');\n",
              "      quickchartButtonEl.style.display =\n",
              "        google.colab.kernel.accessAllowed ? 'block' : 'none';\n",
              "    })();\n",
              "  </script>\n",
              "</div>\n",
              "    </div>\n",
              "  </div>\n"
            ]
          },
          "metadata": {},
          "execution_count": 15
        }
      ],
      "source": [
        "ba = pd.get_dummies(data[[\"ba\"]],drop_first=True)\n",
        "ba.head()"
      ]
    },
    {
      "cell_type": "code",
      "execution_count": 16,
      "id": "963fb8a6",
      "metadata": {
        "execution": {
          "iopub.execute_input": "2021-10-13T05:20:50.471183Z",
          "iopub.status.busy": "2021-10-13T05:20:50.470543Z",
          "iopub.status.idle": "2021-10-13T05:20:50.473841Z",
          "shell.execute_reply": "2021-10-13T05:20:50.473288Z",
          "shell.execute_reply.started": "2021-10-13T05:19:20.268215Z"
        },
        "papermill": {
          "duration": 0.046618,
          "end_time": "2021-10-13T05:20:50.473992",
          "exception": false,
          "start_time": "2021-10-13T05:20:50.427374",
          "status": "completed"
        },
        "tags": [],
        "id": "963fb8a6"
      },
      "outputs": [],
      "source": [
        "#dropping the categorial data columns\n",
        "data.drop([\"rbc\",\"pc\",\"pcc\",\"ba\"],axis=1,inplace=True)"
      ]
    },
    {
      "cell_type": "code",
      "execution_count": 17,
      "id": "d6e3101e",
      "metadata": {
        "execution": {
          "iopub.execute_input": "2021-10-13T05:20:50.577959Z",
          "iopub.status.busy": "2021-10-13T05:20:50.567129Z",
          "iopub.status.idle": "2021-10-13T05:20:50.582797Z",
          "shell.execute_reply": "2021-10-13T05:20:50.582158Z",
          "shell.execute_reply.started": "2021-10-13T05:19:20.279784Z"
        },
        "papermill": {
          "duration": 0.069998,
          "end_time": "2021-10-13T05:20:50.582948",
          "exception": false,
          "start_time": "2021-10-13T05:20:50.512950",
          "status": "completed"
        },
        "tags": [],
        "colab": {
          "base_uri": "https://localhost:8080/",
          "height": 256
        },
        "id": "d6e3101e",
        "outputId": "3ea22e8c-1209-4050-be3e-b7d9b6ea0956"
      },
      "outputs": [
        {
          "output_type": "execute_result",
          "data": {
            "text/plain": [
              "   id   age    bp     sg   al   su         bgr    bu   sc         sod  ...  \\\n",
              "0   0  48.0  80.0  1.020  1.0  0.0  121.000000  36.0  1.2  137.528754  ...   \n",
              "1   1   7.0  50.0  1.020  4.0  0.0  148.036517  18.0  0.8  137.528754  ...   \n",
              "2   2  62.0  80.0  1.010  2.0  3.0  423.000000  53.0  1.8  137.528754  ...   \n",
              "3   3  48.0  70.0  1.005  4.0  0.0  117.000000  56.0  3.8  111.000000  ...   \n",
              "4   4  51.0  80.0  1.010  2.0  0.0  106.000000  26.0  1.4  137.528754  ...   \n",
              "\n",
              "    pcv      wc        rc  htn   dm cad appet   pe  ane classification  \n",
              "0  44.0  7800.0  5.000000  yes  yes  no  good   no   no            ckd  \n",
              "1  38.0  6000.0  4.241636   no   no  no  good   no   no            ckd  \n",
              "2  31.0  7500.0  4.241636   no  yes  no  poor   no  yes            ckd  \n",
              "3  32.0  6700.0  3.000000  yes   no  no  poor  yes  yes            ckd  \n",
              "4  35.0  7300.0  4.000000   no   no  no  good   no   no            ckd  \n",
              "\n",
              "[5 rows x 22 columns]"
            ],
            "text/html": [
              "\n",
              "  <div id=\"df-5cba29a2-0a04-45b8-aded-995b730cb502\" class=\"colab-df-container\">\n",
              "    <div>\n",
              "<style scoped>\n",
              "    .dataframe tbody tr th:only-of-type {\n",
              "        vertical-align: middle;\n",
              "    }\n",
              "\n",
              "    .dataframe tbody tr th {\n",
              "        vertical-align: top;\n",
              "    }\n",
              "\n",
              "    .dataframe thead th {\n",
              "        text-align: right;\n",
              "    }\n",
              "</style>\n",
              "<table border=\"1\" class=\"dataframe\">\n",
              "  <thead>\n",
              "    <tr style=\"text-align: right;\">\n",
              "      <th></th>\n",
              "      <th>id</th>\n",
              "      <th>age</th>\n",
              "      <th>bp</th>\n",
              "      <th>sg</th>\n",
              "      <th>al</th>\n",
              "      <th>su</th>\n",
              "      <th>bgr</th>\n",
              "      <th>bu</th>\n",
              "      <th>sc</th>\n",
              "      <th>sod</th>\n",
              "      <th>...</th>\n",
              "      <th>pcv</th>\n",
              "      <th>wc</th>\n",
              "      <th>rc</th>\n",
              "      <th>htn</th>\n",
              "      <th>dm</th>\n",
              "      <th>cad</th>\n",
              "      <th>appet</th>\n",
              "      <th>pe</th>\n",
              "      <th>ane</th>\n",
              "      <th>classification</th>\n",
              "    </tr>\n",
              "  </thead>\n",
              "  <tbody>\n",
              "    <tr>\n",
              "      <th>0</th>\n",
              "      <td>0</td>\n",
              "      <td>48.0</td>\n",
              "      <td>80.0</td>\n",
              "      <td>1.020</td>\n",
              "      <td>1.0</td>\n",
              "      <td>0.0</td>\n",
              "      <td>121.000000</td>\n",
              "      <td>36.0</td>\n",
              "      <td>1.2</td>\n",
              "      <td>137.528754</td>\n",
              "      <td>...</td>\n",
              "      <td>44.0</td>\n",
              "      <td>7800.0</td>\n",
              "      <td>5.000000</td>\n",
              "      <td>yes</td>\n",
              "      <td>yes</td>\n",
              "      <td>no</td>\n",
              "      <td>good</td>\n",
              "      <td>no</td>\n",
              "      <td>no</td>\n",
              "      <td>ckd</td>\n",
              "    </tr>\n",
              "    <tr>\n",
              "      <th>1</th>\n",
              "      <td>1</td>\n",
              "      <td>7.0</td>\n",
              "      <td>50.0</td>\n",
              "      <td>1.020</td>\n",
              "      <td>4.0</td>\n",
              "      <td>0.0</td>\n",
              "      <td>148.036517</td>\n",
              "      <td>18.0</td>\n",
              "      <td>0.8</td>\n",
              "      <td>137.528754</td>\n",
              "      <td>...</td>\n",
              "      <td>38.0</td>\n",
              "      <td>6000.0</td>\n",
              "      <td>4.241636</td>\n",
              "      <td>no</td>\n",
              "      <td>no</td>\n",
              "      <td>no</td>\n",
              "      <td>good</td>\n",
              "      <td>no</td>\n",
              "      <td>no</td>\n",
              "      <td>ckd</td>\n",
              "    </tr>\n",
              "    <tr>\n",
              "      <th>2</th>\n",
              "      <td>2</td>\n",
              "      <td>62.0</td>\n",
              "      <td>80.0</td>\n",
              "      <td>1.010</td>\n",
              "      <td>2.0</td>\n",
              "      <td>3.0</td>\n",
              "      <td>423.000000</td>\n",
              "      <td>53.0</td>\n",
              "      <td>1.8</td>\n",
              "      <td>137.528754</td>\n",
              "      <td>...</td>\n",
              "      <td>31.0</td>\n",
              "      <td>7500.0</td>\n",
              "      <td>4.241636</td>\n",
              "      <td>no</td>\n",
              "      <td>yes</td>\n",
              "      <td>no</td>\n",
              "      <td>poor</td>\n",
              "      <td>no</td>\n",
              "      <td>yes</td>\n",
              "      <td>ckd</td>\n",
              "    </tr>\n",
              "    <tr>\n",
              "      <th>3</th>\n",
              "      <td>3</td>\n",
              "      <td>48.0</td>\n",
              "      <td>70.0</td>\n",
              "      <td>1.005</td>\n",
              "      <td>4.0</td>\n",
              "      <td>0.0</td>\n",
              "      <td>117.000000</td>\n",
              "      <td>56.0</td>\n",
              "      <td>3.8</td>\n",
              "      <td>111.000000</td>\n",
              "      <td>...</td>\n",
              "      <td>32.0</td>\n",
              "      <td>6700.0</td>\n",
              "      <td>3.000000</td>\n",
              "      <td>yes</td>\n",
              "      <td>no</td>\n",
              "      <td>no</td>\n",
              "      <td>poor</td>\n",
              "      <td>yes</td>\n",
              "      <td>yes</td>\n",
              "      <td>ckd</td>\n",
              "    </tr>\n",
              "    <tr>\n",
              "      <th>4</th>\n",
              "      <td>4</td>\n",
              "      <td>51.0</td>\n",
              "      <td>80.0</td>\n",
              "      <td>1.010</td>\n",
              "      <td>2.0</td>\n",
              "      <td>0.0</td>\n",
              "      <td>106.000000</td>\n",
              "      <td>26.0</td>\n",
              "      <td>1.4</td>\n",
              "      <td>137.528754</td>\n",
              "      <td>...</td>\n",
              "      <td>35.0</td>\n",
              "      <td>7300.0</td>\n",
              "      <td>4.000000</td>\n",
              "      <td>no</td>\n",
              "      <td>no</td>\n",
              "      <td>no</td>\n",
              "      <td>good</td>\n",
              "      <td>no</td>\n",
              "      <td>no</td>\n",
              "      <td>ckd</td>\n",
              "    </tr>\n",
              "  </tbody>\n",
              "</table>\n",
              "<p>5 rows × 22 columns</p>\n",
              "</div>\n",
              "    <div class=\"colab-df-buttons\">\n",
              "\n",
              "  <div class=\"colab-df-container\">\n",
              "    <button class=\"colab-df-convert\" onclick=\"convertToInteractive('df-5cba29a2-0a04-45b8-aded-995b730cb502')\"\n",
              "            title=\"Convert this dataframe to an interactive table.\"\n",
              "            style=\"display:none;\">\n",
              "\n",
              "  <svg xmlns=\"http://www.w3.org/2000/svg\" height=\"24px\" viewBox=\"0 -960 960 960\">\n",
              "    <path d=\"M120-120v-720h720v720H120Zm60-500h600v-160H180v160Zm220 220h160v-160H400v160Zm0 220h160v-160H400v160ZM180-400h160v-160H180v160Zm440 0h160v-160H620v160ZM180-180h160v-160H180v160Zm440 0h160v-160H620v160Z\"/>\n",
              "  </svg>\n",
              "    </button>\n",
              "\n",
              "  <style>\n",
              "    .colab-df-container {\n",
              "      display:flex;\n",
              "      gap: 12px;\n",
              "    }\n",
              "\n",
              "    .colab-df-convert {\n",
              "      background-color: #E8F0FE;\n",
              "      border: none;\n",
              "      border-radius: 50%;\n",
              "      cursor: pointer;\n",
              "      display: none;\n",
              "      fill: #1967D2;\n",
              "      height: 32px;\n",
              "      padding: 0 0 0 0;\n",
              "      width: 32px;\n",
              "    }\n",
              "\n",
              "    .colab-df-convert:hover {\n",
              "      background-color: #E2EBFA;\n",
              "      box-shadow: 0px 1px 2px rgba(60, 64, 67, 0.3), 0px 1px 3px 1px rgba(60, 64, 67, 0.15);\n",
              "      fill: #174EA6;\n",
              "    }\n",
              "\n",
              "    .colab-df-buttons div {\n",
              "      margin-bottom: 4px;\n",
              "    }\n",
              "\n",
              "    [theme=dark] .colab-df-convert {\n",
              "      background-color: #3B4455;\n",
              "      fill: #D2E3FC;\n",
              "    }\n",
              "\n",
              "    [theme=dark] .colab-df-convert:hover {\n",
              "      background-color: #434B5C;\n",
              "      box-shadow: 0px 1px 3px 1px rgba(0, 0, 0, 0.15);\n",
              "      filter: drop-shadow(0px 1px 2px rgba(0, 0, 0, 0.3));\n",
              "      fill: #FFFFFF;\n",
              "    }\n",
              "  </style>\n",
              "\n",
              "    <script>\n",
              "      const buttonEl =\n",
              "        document.querySelector('#df-5cba29a2-0a04-45b8-aded-995b730cb502 button.colab-df-convert');\n",
              "      buttonEl.style.display =\n",
              "        google.colab.kernel.accessAllowed ? 'block' : 'none';\n",
              "\n",
              "      async function convertToInteractive(key) {\n",
              "        const element = document.querySelector('#df-5cba29a2-0a04-45b8-aded-995b730cb502');\n",
              "        const dataTable =\n",
              "          await google.colab.kernel.invokeFunction('convertToInteractive',\n",
              "                                                    [key], {});\n",
              "        if (!dataTable) return;\n",
              "\n",
              "        const docLinkHtml = 'Like what you see? Visit the ' +\n",
              "          '<a target=\"_blank\" href=https://colab.research.google.com/notebooks/data_table.ipynb>data table notebook</a>'\n",
              "          + ' to learn more about interactive tables.';\n",
              "        element.innerHTML = '';\n",
              "        dataTable['output_type'] = 'display_data';\n",
              "        await google.colab.output.renderOutput(dataTable, element);\n",
              "        const docLink = document.createElement('div');\n",
              "        docLink.innerHTML = docLinkHtml;\n",
              "        element.appendChild(docLink);\n",
              "      }\n",
              "    </script>\n",
              "  </div>\n",
              "\n",
              "\n",
              "<div id=\"df-0c2e6f60-4d1b-4ce2-83f2-a35a1c03dd00\">\n",
              "  <button class=\"colab-df-quickchart\" onclick=\"quickchart('df-0c2e6f60-4d1b-4ce2-83f2-a35a1c03dd00')\"\n",
              "            title=\"Suggest charts\"\n",
              "            style=\"display:none;\">\n",
              "\n",
              "<svg xmlns=\"http://www.w3.org/2000/svg\" height=\"24px\"viewBox=\"0 0 24 24\"\n",
              "     width=\"24px\">\n",
              "    <g>\n",
              "        <path d=\"M19 3H5c-1.1 0-2 .9-2 2v14c0 1.1.9 2 2 2h14c1.1 0 2-.9 2-2V5c0-1.1-.9-2-2-2zM9 17H7v-7h2v7zm4 0h-2V7h2v10zm4 0h-2v-4h2v4z\"/>\n",
              "    </g>\n",
              "</svg>\n",
              "  </button>\n",
              "\n",
              "<style>\n",
              "  .colab-df-quickchart {\n",
              "      --bg-color: #E8F0FE;\n",
              "      --fill-color: #1967D2;\n",
              "      --hover-bg-color: #E2EBFA;\n",
              "      --hover-fill-color: #174EA6;\n",
              "      --disabled-fill-color: #AAA;\n",
              "      --disabled-bg-color: #DDD;\n",
              "  }\n",
              "\n",
              "  [theme=dark] .colab-df-quickchart {\n",
              "      --bg-color: #3B4455;\n",
              "      --fill-color: #D2E3FC;\n",
              "      --hover-bg-color: #434B5C;\n",
              "      --hover-fill-color: #FFFFFF;\n",
              "      --disabled-bg-color: #3B4455;\n",
              "      --disabled-fill-color: #666;\n",
              "  }\n",
              "\n",
              "  .colab-df-quickchart {\n",
              "    background-color: var(--bg-color);\n",
              "    border: none;\n",
              "    border-radius: 50%;\n",
              "    cursor: pointer;\n",
              "    display: none;\n",
              "    fill: var(--fill-color);\n",
              "    height: 32px;\n",
              "    padding: 0;\n",
              "    width: 32px;\n",
              "  }\n",
              "\n",
              "  .colab-df-quickchart:hover {\n",
              "    background-color: var(--hover-bg-color);\n",
              "    box-shadow: 0 1px 2px rgba(60, 64, 67, 0.3), 0 1px 3px 1px rgba(60, 64, 67, 0.15);\n",
              "    fill: var(--button-hover-fill-color);\n",
              "  }\n",
              "\n",
              "  .colab-df-quickchart-complete:disabled,\n",
              "  .colab-df-quickchart-complete:disabled:hover {\n",
              "    background-color: var(--disabled-bg-color);\n",
              "    fill: var(--disabled-fill-color);\n",
              "    box-shadow: none;\n",
              "  }\n",
              "\n",
              "  .colab-df-spinner {\n",
              "    border: 2px solid var(--fill-color);\n",
              "    border-color: transparent;\n",
              "    border-bottom-color: var(--fill-color);\n",
              "    animation:\n",
              "      spin 1s steps(1) infinite;\n",
              "  }\n",
              "\n",
              "  @keyframes spin {\n",
              "    0% {\n",
              "      border-color: transparent;\n",
              "      border-bottom-color: var(--fill-color);\n",
              "      border-left-color: var(--fill-color);\n",
              "    }\n",
              "    20% {\n",
              "      border-color: transparent;\n",
              "      border-left-color: var(--fill-color);\n",
              "      border-top-color: var(--fill-color);\n",
              "    }\n",
              "    30% {\n",
              "      border-color: transparent;\n",
              "      border-left-color: var(--fill-color);\n",
              "      border-top-color: var(--fill-color);\n",
              "      border-right-color: var(--fill-color);\n",
              "    }\n",
              "    40% {\n",
              "      border-color: transparent;\n",
              "      border-right-color: var(--fill-color);\n",
              "      border-top-color: var(--fill-color);\n",
              "    }\n",
              "    60% {\n",
              "      border-color: transparent;\n",
              "      border-right-color: var(--fill-color);\n",
              "    }\n",
              "    80% {\n",
              "      border-color: transparent;\n",
              "      border-right-color: var(--fill-color);\n",
              "      border-bottom-color: var(--fill-color);\n",
              "    }\n",
              "    90% {\n",
              "      border-color: transparent;\n",
              "      border-bottom-color: var(--fill-color);\n",
              "    }\n",
              "  }\n",
              "</style>\n",
              "\n",
              "  <script>\n",
              "    async function quickchart(key) {\n",
              "      const quickchartButtonEl =\n",
              "        document.querySelector('#' + key + ' button');\n",
              "      quickchartButtonEl.disabled = true;  // To prevent multiple clicks.\n",
              "      quickchartButtonEl.classList.add('colab-df-spinner');\n",
              "      try {\n",
              "        const charts = await google.colab.kernel.invokeFunction(\n",
              "            'suggestCharts', [key], {});\n",
              "      } catch (error) {\n",
              "        console.error('Error during call to suggestCharts:', error);\n",
              "      }\n",
              "      quickchartButtonEl.classList.remove('colab-df-spinner');\n",
              "      quickchartButtonEl.classList.add('colab-df-quickchart-complete');\n",
              "    }\n",
              "    (() => {\n",
              "      let quickchartButtonEl =\n",
              "        document.querySelector('#df-0c2e6f60-4d1b-4ce2-83f2-a35a1c03dd00 button');\n",
              "      quickchartButtonEl.style.display =\n",
              "        google.colab.kernel.accessAllowed ? 'block' : 'none';\n",
              "    })();\n",
              "  </script>\n",
              "</div>\n",
              "    </div>\n",
              "  </div>\n"
            ]
          },
          "metadata": {},
          "execution_count": 17
        }
      ],
      "source": [
        "data.head()"
      ]
    },
    {
      "cell_type": "code",
      "execution_count": 18,
      "id": "e9f7a27e",
      "metadata": {
        "execution": {
          "iopub.execute_input": "2021-10-13T05:20:50.664879Z",
          "iopub.status.busy": "2021-10-13T05:20:50.664174Z",
          "iopub.status.idle": "2021-10-13T05:20:50.667492Z",
          "shell.execute_reply": "2021-10-13T05:20:50.666883Z",
          "shell.execute_reply.started": "2021-10-13T05:19:20.324123Z"
        },
        "papermill": {
          "duration": 0.046955,
          "end_time": "2021-10-13T05:20:50.667649",
          "exception": false,
          "start_time": "2021-10-13T05:20:50.620694",
          "status": "completed"
        },
        "tags": [],
        "id": "e9f7a27e"
      },
      "outputs": [],
      "source": [
        "#concating the data columns\n",
        "data = pd.concat([data,rbc,pc,pcc,ba],axis=1)"
      ]
    },
    {
      "cell_type": "code",
      "execution_count": 19,
      "id": "d2dd4bd2",
      "metadata": {
        "execution": {
          "iopub.execute_input": "2021-10-13T05:20:50.758351Z",
          "iopub.status.busy": "2021-10-13T05:20:50.756928Z",
          "iopub.status.idle": "2021-10-13T05:20:50.773307Z",
          "shell.execute_reply": "2021-10-13T05:20:50.772726Z",
          "shell.execute_reply.started": "2021-10-13T05:19:20.334290Z"
        },
        "papermill": {
          "duration": 0.068352,
          "end_time": "2021-10-13T05:20:50.773471",
          "exception": false,
          "start_time": "2021-10-13T05:20:50.705119",
          "status": "completed"
        },
        "tags": [],
        "colab": {
          "base_uri": "https://localhost:8080/",
          "height": 256
        },
        "id": "d2dd4bd2",
        "outputId": "92ea6a12-f3a4-4768-eb27-83cee77d9850"
      },
      "outputs": [
        {
          "output_type": "execute_result",
          "data": {
            "text/plain": [
              "   id   age    bp     sg   al   su         bgr    bu   sc         sod  ...  \\\n",
              "0   0  48.0  80.0  1.020  1.0  0.0  121.000000  36.0  1.2  137.528754  ...   \n",
              "1   1   7.0  50.0  1.020  4.0  0.0  148.036517  18.0  0.8  137.528754  ...   \n",
              "2   2  62.0  80.0  1.010  2.0  3.0  423.000000  53.0  1.8  137.528754  ...   \n",
              "3   3  48.0  70.0  1.005  4.0  0.0  117.000000  56.0  3.8  111.000000  ...   \n",
              "4   4  51.0  80.0  1.010  2.0  0.0  106.000000  26.0  1.4  137.528754  ...   \n",
              "\n",
              "    dm  cad  appet   pe  ane classification rbc_normal pc_normal pcc_present  \\\n",
              "0  yes   no   good   no   no            ckd          0         1           0   \n",
              "1   no   no   good   no   no            ckd          0         1           0   \n",
              "2  yes   no   poor   no  yes            ckd          1         1           0   \n",
              "3   no   no   poor  yes  yes            ckd          1         0           1   \n",
              "4   no   no   good   no   no            ckd          1         1           0   \n",
              "\n",
              "  ba_present  \n",
              "0          0  \n",
              "1          0  \n",
              "2          0  \n",
              "3          0  \n",
              "4          0  \n",
              "\n",
              "[5 rows x 26 columns]"
            ],
            "text/html": [
              "\n",
              "  <div id=\"df-33d378cf-9839-44d1-a02c-0e70e57de04c\" class=\"colab-df-container\">\n",
              "    <div>\n",
              "<style scoped>\n",
              "    .dataframe tbody tr th:only-of-type {\n",
              "        vertical-align: middle;\n",
              "    }\n",
              "\n",
              "    .dataframe tbody tr th {\n",
              "        vertical-align: top;\n",
              "    }\n",
              "\n",
              "    .dataframe thead th {\n",
              "        text-align: right;\n",
              "    }\n",
              "</style>\n",
              "<table border=\"1\" class=\"dataframe\">\n",
              "  <thead>\n",
              "    <tr style=\"text-align: right;\">\n",
              "      <th></th>\n",
              "      <th>id</th>\n",
              "      <th>age</th>\n",
              "      <th>bp</th>\n",
              "      <th>sg</th>\n",
              "      <th>al</th>\n",
              "      <th>su</th>\n",
              "      <th>bgr</th>\n",
              "      <th>bu</th>\n",
              "      <th>sc</th>\n",
              "      <th>sod</th>\n",
              "      <th>...</th>\n",
              "      <th>dm</th>\n",
              "      <th>cad</th>\n",
              "      <th>appet</th>\n",
              "      <th>pe</th>\n",
              "      <th>ane</th>\n",
              "      <th>classification</th>\n",
              "      <th>rbc_normal</th>\n",
              "      <th>pc_normal</th>\n",
              "      <th>pcc_present</th>\n",
              "      <th>ba_present</th>\n",
              "    </tr>\n",
              "  </thead>\n",
              "  <tbody>\n",
              "    <tr>\n",
              "      <th>0</th>\n",
              "      <td>0</td>\n",
              "      <td>48.0</td>\n",
              "      <td>80.0</td>\n",
              "      <td>1.020</td>\n",
              "      <td>1.0</td>\n",
              "      <td>0.0</td>\n",
              "      <td>121.000000</td>\n",
              "      <td>36.0</td>\n",
              "      <td>1.2</td>\n",
              "      <td>137.528754</td>\n",
              "      <td>...</td>\n",
              "      <td>yes</td>\n",
              "      <td>no</td>\n",
              "      <td>good</td>\n",
              "      <td>no</td>\n",
              "      <td>no</td>\n",
              "      <td>ckd</td>\n",
              "      <td>0</td>\n",
              "      <td>1</td>\n",
              "      <td>0</td>\n",
              "      <td>0</td>\n",
              "    </tr>\n",
              "    <tr>\n",
              "      <th>1</th>\n",
              "      <td>1</td>\n",
              "      <td>7.0</td>\n",
              "      <td>50.0</td>\n",
              "      <td>1.020</td>\n",
              "      <td>4.0</td>\n",
              "      <td>0.0</td>\n",
              "      <td>148.036517</td>\n",
              "      <td>18.0</td>\n",
              "      <td>0.8</td>\n",
              "      <td>137.528754</td>\n",
              "      <td>...</td>\n",
              "      <td>no</td>\n",
              "      <td>no</td>\n",
              "      <td>good</td>\n",
              "      <td>no</td>\n",
              "      <td>no</td>\n",
              "      <td>ckd</td>\n",
              "      <td>0</td>\n",
              "      <td>1</td>\n",
              "      <td>0</td>\n",
              "      <td>0</td>\n",
              "    </tr>\n",
              "    <tr>\n",
              "      <th>2</th>\n",
              "      <td>2</td>\n",
              "      <td>62.0</td>\n",
              "      <td>80.0</td>\n",
              "      <td>1.010</td>\n",
              "      <td>2.0</td>\n",
              "      <td>3.0</td>\n",
              "      <td>423.000000</td>\n",
              "      <td>53.0</td>\n",
              "      <td>1.8</td>\n",
              "      <td>137.528754</td>\n",
              "      <td>...</td>\n",
              "      <td>yes</td>\n",
              "      <td>no</td>\n",
              "      <td>poor</td>\n",
              "      <td>no</td>\n",
              "      <td>yes</td>\n",
              "      <td>ckd</td>\n",
              "      <td>1</td>\n",
              "      <td>1</td>\n",
              "      <td>0</td>\n",
              "      <td>0</td>\n",
              "    </tr>\n",
              "    <tr>\n",
              "      <th>3</th>\n",
              "      <td>3</td>\n",
              "      <td>48.0</td>\n",
              "      <td>70.0</td>\n",
              "      <td>1.005</td>\n",
              "      <td>4.0</td>\n",
              "      <td>0.0</td>\n",
              "      <td>117.000000</td>\n",
              "      <td>56.0</td>\n",
              "      <td>3.8</td>\n",
              "      <td>111.000000</td>\n",
              "      <td>...</td>\n",
              "      <td>no</td>\n",
              "      <td>no</td>\n",
              "      <td>poor</td>\n",
              "      <td>yes</td>\n",
              "      <td>yes</td>\n",
              "      <td>ckd</td>\n",
              "      <td>1</td>\n",
              "      <td>0</td>\n",
              "      <td>1</td>\n",
              "      <td>0</td>\n",
              "    </tr>\n",
              "    <tr>\n",
              "      <th>4</th>\n",
              "      <td>4</td>\n",
              "      <td>51.0</td>\n",
              "      <td>80.0</td>\n",
              "      <td>1.010</td>\n",
              "      <td>2.0</td>\n",
              "      <td>0.0</td>\n",
              "      <td>106.000000</td>\n",
              "      <td>26.0</td>\n",
              "      <td>1.4</td>\n",
              "      <td>137.528754</td>\n",
              "      <td>...</td>\n",
              "      <td>no</td>\n",
              "      <td>no</td>\n",
              "      <td>good</td>\n",
              "      <td>no</td>\n",
              "      <td>no</td>\n",
              "      <td>ckd</td>\n",
              "      <td>1</td>\n",
              "      <td>1</td>\n",
              "      <td>0</td>\n",
              "      <td>0</td>\n",
              "    </tr>\n",
              "  </tbody>\n",
              "</table>\n",
              "<p>5 rows × 26 columns</p>\n",
              "</div>\n",
              "    <div class=\"colab-df-buttons\">\n",
              "\n",
              "  <div class=\"colab-df-container\">\n",
              "    <button class=\"colab-df-convert\" onclick=\"convertToInteractive('df-33d378cf-9839-44d1-a02c-0e70e57de04c')\"\n",
              "            title=\"Convert this dataframe to an interactive table.\"\n",
              "            style=\"display:none;\">\n",
              "\n",
              "  <svg xmlns=\"http://www.w3.org/2000/svg\" height=\"24px\" viewBox=\"0 -960 960 960\">\n",
              "    <path d=\"M120-120v-720h720v720H120Zm60-500h600v-160H180v160Zm220 220h160v-160H400v160Zm0 220h160v-160H400v160ZM180-400h160v-160H180v160Zm440 0h160v-160H620v160ZM180-180h160v-160H180v160Zm440 0h160v-160H620v160Z\"/>\n",
              "  </svg>\n",
              "    </button>\n",
              "\n",
              "  <style>\n",
              "    .colab-df-container {\n",
              "      display:flex;\n",
              "      gap: 12px;\n",
              "    }\n",
              "\n",
              "    .colab-df-convert {\n",
              "      background-color: #E8F0FE;\n",
              "      border: none;\n",
              "      border-radius: 50%;\n",
              "      cursor: pointer;\n",
              "      display: none;\n",
              "      fill: #1967D2;\n",
              "      height: 32px;\n",
              "      padding: 0 0 0 0;\n",
              "      width: 32px;\n",
              "    }\n",
              "\n",
              "    .colab-df-convert:hover {\n",
              "      background-color: #E2EBFA;\n",
              "      box-shadow: 0px 1px 2px rgba(60, 64, 67, 0.3), 0px 1px 3px 1px rgba(60, 64, 67, 0.15);\n",
              "      fill: #174EA6;\n",
              "    }\n",
              "\n",
              "    .colab-df-buttons div {\n",
              "      margin-bottom: 4px;\n",
              "    }\n",
              "\n",
              "    [theme=dark] .colab-df-convert {\n",
              "      background-color: #3B4455;\n",
              "      fill: #D2E3FC;\n",
              "    }\n",
              "\n",
              "    [theme=dark] .colab-df-convert:hover {\n",
              "      background-color: #434B5C;\n",
              "      box-shadow: 0px 1px 3px 1px rgba(0, 0, 0, 0.15);\n",
              "      filter: drop-shadow(0px 1px 2px rgba(0, 0, 0, 0.3));\n",
              "      fill: #FFFFFF;\n",
              "    }\n",
              "  </style>\n",
              "\n",
              "    <script>\n",
              "      const buttonEl =\n",
              "        document.querySelector('#df-33d378cf-9839-44d1-a02c-0e70e57de04c button.colab-df-convert');\n",
              "      buttonEl.style.display =\n",
              "        google.colab.kernel.accessAllowed ? 'block' : 'none';\n",
              "\n",
              "      async function convertToInteractive(key) {\n",
              "        const element = document.querySelector('#df-33d378cf-9839-44d1-a02c-0e70e57de04c');\n",
              "        const dataTable =\n",
              "          await google.colab.kernel.invokeFunction('convertToInteractive',\n",
              "                                                    [key], {});\n",
              "        if (!dataTable) return;\n",
              "\n",
              "        const docLinkHtml = 'Like what you see? Visit the ' +\n",
              "          '<a target=\"_blank\" href=https://colab.research.google.com/notebooks/data_table.ipynb>data table notebook</a>'\n",
              "          + ' to learn more about interactive tables.';\n",
              "        element.innerHTML = '';\n",
              "        dataTable['output_type'] = 'display_data';\n",
              "        await google.colab.output.renderOutput(dataTable, element);\n",
              "        const docLink = document.createElement('div');\n",
              "        docLink.innerHTML = docLinkHtml;\n",
              "        element.appendChild(docLink);\n",
              "      }\n",
              "    </script>\n",
              "  </div>\n",
              "\n",
              "\n",
              "<div id=\"df-4e9a0a13-c056-44dd-a9cc-06640312e7a2\">\n",
              "  <button class=\"colab-df-quickchart\" onclick=\"quickchart('df-4e9a0a13-c056-44dd-a9cc-06640312e7a2')\"\n",
              "            title=\"Suggest charts\"\n",
              "            style=\"display:none;\">\n",
              "\n",
              "<svg xmlns=\"http://www.w3.org/2000/svg\" height=\"24px\"viewBox=\"0 0 24 24\"\n",
              "     width=\"24px\">\n",
              "    <g>\n",
              "        <path d=\"M19 3H5c-1.1 0-2 .9-2 2v14c0 1.1.9 2 2 2h14c1.1 0 2-.9 2-2V5c0-1.1-.9-2-2-2zM9 17H7v-7h2v7zm4 0h-2V7h2v10zm4 0h-2v-4h2v4z\"/>\n",
              "    </g>\n",
              "</svg>\n",
              "  </button>\n",
              "\n",
              "<style>\n",
              "  .colab-df-quickchart {\n",
              "      --bg-color: #E8F0FE;\n",
              "      --fill-color: #1967D2;\n",
              "      --hover-bg-color: #E2EBFA;\n",
              "      --hover-fill-color: #174EA6;\n",
              "      --disabled-fill-color: #AAA;\n",
              "      --disabled-bg-color: #DDD;\n",
              "  }\n",
              "\n",
              "  [theme=dark] .colab-df-quickchart {\n",
              "      --bg-color: #3B4455;\n",
              "      --fill-color: #D2E3FC;\n",
              "      --hover-bg-color: #434B5C;\n",
              "      --hover-fill-color: #FFFFFF;\n",
              "      --disabled-bg-color: #3B4455;\n",
              "      --disabled-fill-color: #666;\n",
              "  }\n",
              "\n",
              "  .colab-df-quickchart {\n",
              "    background-color: var(--bg-color);\n",
              "    border: none;\n",
              "    border-radius: 50%;\n",
              "    cursor: pointer;\n",
              "    display: none;\n",
              "    fill: var(--fill-color);\n",
              "    height: 32px;\n",
              "    padding: 0;\n",
              "    width: 32px;\n",
              "  }\n",
              "\n",
              "  .colab-df-quickchart:hover {\n",
              "    background-color: var(--hover-bg-color);\n",
              "    box-shadow: 0 1px 2px rgba(60, 64, 67, 0.3), 0 1px 3px 1px rgba(60, 64, 67, 0.15);\n",
              "    fill: var(--button-hover-fill-color);\n",
              "  }\n",
              "\n",
              "  .colab-df-quickchart-complete:disabled,\n",
              "  .colab-df-quickchart-complete:disabled:hover {\n",
              "    background-color: var(--disabled-bg-color);\n",
              "    fill: var(--disabled-fill-color);\n",
              "    box-shadow: none;\n",
              "  }\n",
              "\n",
              "  .colab-df-spinner {\n",
              "    border: 2px solid var(--fill-color);\n",
              "    border-color: transparent;\n",
              "    border-bottom-color: var(--fill-color);\n",
              "    animation:\n",
              "      spin 1s steps(1) infinite;\n",
              "  }\n",
              "\n",
              "  @keyframes spin {\n",
              "    0% {\n",
              "      border-color: transparent;\n",
              "      border-bottom-color: var(--fill-color);\n",
              "      border-left-color: var(--fill-color);\n",
              "    }\n",
              "    20% {\n",
              "      border-color: transparent;\n",
              "      border-left-color: var(--fill-color);\n",
              "      border-top-color: var(--fill-color);\n",
              "    }\n",
              "    30% {\n",
              "      border-color: transparent;\n",
              "      border-left-color: var(--fill-color);\n",
              "      border-top-color: var(--fill-color);\n",
              "      border-right-color: var(--fill-color);\n",
              "    }\n",
              "    40% {\n",
              "      border-color: transparent;\n",
              "      border-right-color: var(--fill-color);\n",
              "      border-top-color: var(--fill-color);\n",
              "    }\n",
              "    60% {\n",
              "      border-color: transparent;\n",
              "      border-right-color: var(--fill-color);\n",
              "    }\n",
              "    80% {\n",
              "      border-color: transparent;\n",
              "      border-right-color: var(--fill-color);\n",
              "      border-bottom-color: var(--fill-color);\n",
              "    }\n",
              "    90% {\n",
              "      border-color: transparent;\n",
              "      border-bottom-color: var(--fill-color);\n",
              "    }\n",
              "  }\n",
              "</style>\n",
              "\n",
              "  <script>\n",
              "    async function quickchart(key) {\n",
              "      const quickchartButtonEl =\n",
              "        document.querySelector('#' + key + ' button');\n",
              "      quickchartButtonEl.disabled = true;  // To prevent multiple clicks.\n",
              "      quickchartButtonEl.classList.add('colab-df-spinner');\n",
              "      try {\n",
              "        const charts = await google.colab.kernel.invokeFunction(\n",
              "            'suggestCharts', [key], {});\n",
              "      } catch (error) {\n",
              "        console.error('Error during call to suggestCharts:', error);\n",
              "      }\n",
              "      quickchartButtonEl.classList.remove('colab-df-spinner');\n",
              "      quickchartButtonEl.classList.add('colab-df-quickchart-complete');\n",
              "    }\n",
              "    (() => {\n",
              "      let quickchartButtonEl =\n",
              "        document.querySelector('#df-4e9a0a13-c056-44dd-a9cc-06640312e7a2 button');\n",
              "      quickchartButtonEl.style.display =\n",
              "        google.colab.kernel.accessAllowed ? 'block' : 'none';\n",
              "    })();\n",
              "  </script>\n",
              "</div>\n",
              "    </div>\n",
              "  </div>\n"
            ]
          },
          "metadata": {},
          "execution_count": 19
        }
      ],
      "source": [
        "data.head()"
      ]
    },
    {
      "cell_type": "code",
      "execution_count": 20,
      "id": "6879acb4",
      "metadata": {
        "execution": {
          "iopub.execute_input": "2021-10-13T05:20:50.871529Z",
          "iopub.status.busy": "2021-10-13T05:20:50.863234Z",
          "iopub.status.idle": "2021-10-13T05:20:50.878125Z",
          "shell.execute_reply": "2021-10-13T05:20:50.877590Z",
          "shell.execute_reply.started": "2021-10-13T05:19:20.374385Z"
        },
        "papermill": {
          "duration": 0.065642,
          "end_time": "2021-10-13T05:20:50.878276",
          "exception": false,
          "start_time": "2021-10-13T05:20:50.812634",
          "status": "completed"
        },
        "tags": [],
        "colab": {
          "base_uri": "https://localhost:8080/"
        },
        "id": "6879acb4",
        "outputId": "468cd9f8-006b-45b3-89c2-c73024727910"
      },
      "outputs": [
        {
          "output_type": "stream",
          "name": "stdout",
          "text": [
            "<class 'pandas.core.frame.DataFrame'>\n",
            "RangeIndex: 400 entries, 0 to 399\n",
            "Data columns (total 26 columns):\n",
            " #   Column          Non-Null Count  Dtype  \n",
            "---  ------          --------------  -----  \n",
            " 0   id              400 non-null    int64  \n",
            " 1   age             400 non-null    float64\n",
            " 2   bp              400 non-null    float64\n",
            " 3   sg              400 non-null    float64\n",
            " 4   al              400 non-null    float64\n",
            " 5   su              400 non-null    float64\n",
            " 6   bgr             400 non-null    float64\n",
            " 7   bu              400 non-null    float64\n",
            " 8   sc              400 non-null    float64\n",
            " 9   sod             400 non-null    float64\n",
            " 10  pot             400 non-null    float64\n",
            " 11  hemo            400 non-null    float64\n",
            " 12  pcv             400 non-null    float64\n",
            " 13  wc              400 non-null    float64\n",
            " 14  rc              400 non-null    float64\n",
            " 15  htn             398 non-null    object \n",
            " 16  dm              398 non-null    object \n",
            " 17  cad             398 non-null    object \n",
            " 18  appet           399 non-null    object \n",
            " 19  pe              399 non-null    object \n",
            " 20  ane             399 non-null    object \n",
            " 21  classification  400 non-null    object \n",
            " 22  rbc_normal      400 non-null    uint8  \n",
            " 23  pc_normal       400 non-null    uint8  \n",
            " 24  pcc_present     400 non-null    uint8  \n",
            " 25  ba_present      400 non-null    uint8  \n",
            "dtypes: float64(14), int64(1), object(7), uint8(4)\n",
            "memory usage: 70.4+ KB\n"
          ]
        }
      ],
      "source": [
        "data.info()"
      ]
    },
    {
      "cell_type": "code",
      "execution_count": 21,
      "id": "23890467",
      "metadata": {
        "execution": {
          "iopub.execute_input": "2021-10-13T05:20:50.961633Z",
          "iopub.status.busy": "2021-10-13T05:20:50.960999Z",
          "iopub.status.idle": "2021-10-13T05:20:50.963797Z",
          "shell.execute_reply": "2021-10-13T05:20:50.964190Z",
          "shell.execute_reply.started": "2021-10-13T05:19:20.397361Z"
        },
        "papermill": {
          "duration": 0.047684,
          "end_time": "2021-10-13T05:20:50.964386",
          "exception": false,
          "start_time": "2021-10-13T05:20:50.916702",
          "status": "completed"
        },
        "tags": [],
        "id": "23890467"
      },
      "outputs": [],
      "source": [
        "#converting the age Data column into list\n",
        "k=data[\"age\"].apply(lambda x : int(x)//10).to_list()"
      ]
    },
    {
      "cell_type": "code",
      "execution_count": 22,
      "id": "c6c2d753",
      "metadata": {
        "execution": {
          "iopub.execute_input": "2021-10-13T05:20:51.047988Z",
          "iopub.status.busy": "2021-10-13T05:20:51.047046Z",
          "iopub.status.idle": "2021-10-13T05:20:51.051550Z",
          "shell.execute_reply": "2021-10-13T05:20:51.050944Z",
          "shell.execute_reply.started": "2021-10-13T05:19:20.411441Z"
        },
        "papermill": {
          "duration": 0.049249,
          "end_time": "2021-10-13T05:20:51.051703",
          "exception": false,
          "start_time": "2021-10-13T05:20:51.002454",
          "status": "completed"
        },
        "tags": [],
        "colab": {
          "base_uri": "https://localhost:8080/"
        },
        "id": "c6c2d753",
        "outputId": "5eaed4d1-fe69-416d-8fef-1b9bb273933a"
      },
      "outputs": [
        {
          "output_type": "execute_result",
          "data": {
            "text/plain": [
              "[10, 11, 23, 43, 71, 91, 96, 47, 7, 1]"
            ]
          },
          "metadata": {},
          "execution_count": 22
        }
      ],
      "source": [
        "#batching the ages(0-9,10-19,20-29,......90-99)\n",
        "a=[0]*10\n",
        "for i in range(len(k)):\n",
        "    a[k[i]]+=1\n",
        "a"
      ]
    },
    {
      "cell_type": "code",
      "execution_count": 23,
      "id": "bdca0395",
      "metadata": {
        "execution": {
          "iopub.execute_input": "2021-10-13T05:20:51.149806Z",
          "iopub.status.busy": "2021-10-13T05:20:51.134379Z",
          "iopub.status.idle": "2021-10-13T05:20:51.303970Z",
          "shell.execute_reply": "2021-10-13T05:20:51.304577Z",
          "shell.execute_reply.started": "2021-10-13T05:19:20.427989Z"
        },
        "papermill": {
          "duration": 0.214222,
          "end_time": "2021-10-13T05:20:51.304782",
          "exception": false,
          "start_time": "2021-10-13T05:20:51.090560",
          "status": "completed"
        },
        "tags": [],
        "colab": {
          "base_uri": "https://localhost:8080/",
          "height": 576
        },
        "id": "bdca0395",
        "outputId": "c5859abd-ac32-4e80-c5a9-7991ba455736"
      },
      "outputs": [
        {
          "output_type": "display_data",
          "data": {
            "text/plain": [
              "<Figure size 700x700 with 1 Axes>"
            ],
            "image/png": "[encoded data removed]"
          },
          "metadata": {}
        }
      ],
      "source": [
        "plt.figure(figsize= (7,7))\n",
        "x_labels = ['0-9','10-19','20-29','30-39','40-49','50-59','60-69','70-79','80-89','90-99']\n",
        "y_labels = np.array(a)\n",
        "plt.pie(y_labels, labels = x_labels)\n",
        "plt.show()"
      ]
    },
    {
      "cell_type": "code",
      "execution_count": 24,
      "id": "dbf1fb60",
      "metadata": {
        "execution": {
          "iopub.execute_input": "2021-10-13T05:20:51.392617Z",
          "iopub.status.busy": "2021-10-13T05:20:51.391717Z",
          "iopub.status.idle": "2021-10-13T05:20:51.395692Z",
          "shell.execute_reply": "2021-10-13T05:20:51.396093Z",
          "shell.execute_reply.started": "2021-10-13T05:19:20.601364Z"
        },
        "papermill": {
          "duration": 0.051281,
          "end_time": "2021-10-13T05:20:51.396284",
          "exception": false,
          "start_time": "2021-10-13T05:20:51.345003",
          "status": "completed"
        },
        "tags": [],
        "colab": {
          "base_uri": "https://localhost:8080/"
        },
        "id": "dbf1fb60",
        "outputId": "5ee40c02-2b79-478a-cd0c-8a430abfb612"
      },
      "outputs": [
        {
          "output_type": "execute_result",
          "data": {
            "text/plain": [
              "ckd       248\n",
              "notckd    150\n",
              "ckd\\t       2\n",
              "Name: classification, dtype: int64"
            ]
          },
          "metadata": {},
          "execution_count": 24
        }
      ],
      "source": [
        "data[\"classification\"].value_counts()"
      ]
    },
    {
      "cell_type": "code",
      "execution_count": 25,
      "id": "994e02cf",
      "metadata": {
        "execution": {
          "iopub.execute_input": "2021-10-13T05:20:51.496619Z",
          "iopub.status.busy": "2021-10-13T05:20:51.495819Z",
          "iopub.status.idle": "2021-10-13T05:20:51.499462Z",
          "shell.execute_reply": "2021-10-13T05:20:51.499872Z",
          "shell.execute_reply.started": "2021-10-13T05:19:20.618028Z"
        },
        "papermill": {
          "duration": 0.064038,
          "end_time": "2021-10-13T05:20:51.500083",
          "exception": false,
          "start_time": "2021-10-13T05:20:51.436045",
          "status": "completed"
        },
        "tags": [],
        "id": "994e02cf"
      },
      "outputs": [],
      "source": [
        "#replacing the values of notckd, ckd and ckd/t in the dataset\n",
        "data.replace({\"notckd\":0,\"ckd\":1,\"ckd\\t\":1},inplace=True)"
      ]
    },
    {
      "cell_type": "code",
      "execution_count": 26,
      "id": "61b54000",
      "metadata": {
        "execution": {
          "iopub.execute_input": "2021-10-13T05:20:51.595939Z",
          "iopub.status.busy": "2021-10-13T05:20:51.592259Z",
          "iopub.status.idle": "2021-10-13T05:20:52.016976Z",
          "shell.execute_reply": "2021-10-13T05:20:52.016446Z",
          "shell.execute_reply.started": "2021-10-13T05:19:20.630146Z"
        },
        "papermill": {
          "duration": 0.477284,
          "end_time": "2021-10-13T05:20:52.017136",
          "exception": false,
          "start_time": "2021-10-13T05:20:51.539852",
          "status": "completed"
        },
        "tags": [],
        "colab": {
          "base_uri": "https://localhost:8080/",
          "height": 475
        },
        "id": "61b54000",
        "outputId": "485b2dcb-7bbf-4c53-e429-6f1e7a81e81a"
      },
      "outputs": [
        {
          "output_type": "display_data",
          "data": {
            "text/plain": [
              "<Figure size 2500x1000 with 1 Axes>"
            ],
            "image/png": "[encoded data removed]"
          },
          "metadata": {}
        }
      ],
      "source": [
        "plt.figure(figsize=(25,10))\n",
        "sns.barplot(x =data['bp'],y =data['classification'],data=data)\n",
        "plt.show()"
      ]
    },
    {
      "cell_type": "code",
      "execution_count": 27,
      "id": "94c1fc14",
      "metadata": {
        "execution": {
          "iopub.execute_input": "2021-10-13T05:20:52.279316Z",
          "iopub.status.busy": "2021-10-13T05:20:52.278252Z",
          "iopub.status.idle": "2021-10-13T05:20:52.512801Z",
          "shell.execute_reply": "2021-10-13T05:20:52.513305Z",
          "shell.execute_reply.started": "2021-10-13T05:19:57.098099Z"
        },
        "papermill": {
          "duration": 0.454233,
          "end_time": "2021-10-13T05:20:52.513528",
          "exception": false,
          "start_time": "2021-10-13T05:20:52.059295",
          "status": "completed"
        },
        "tags": [],
        "colab": {
          "base_uri": "https://localhost:8080/",
          "height": 868
        },
        "id": "94c1fc14",
        "outputId": "b997e1d3-b7c3-410a-ef3a-693f70010eff"
      },
      "outputs": [
        {
          "output_type": "execute_result",
          "data": {
            "text/plain": [
              "<Axes: xlabel='classification', ylabel='age'>"
            ]
          },
          "metadata": {},
          "execution_count": 27
        },
        {
          "output_type": "display_data",
          "data": {
            "text/plain": [
              "<Figure size 1000x1000 with 1 Axes>"
            ],
            "image/png": "[encoded data removed]"
          },
          "metadata": {}
        }
      ],
      "source": [
        "plt.figure(figsize=(10,10))\n",
        "sns.swarmplot(y=data[\"age\"], x = data[\"classification\"])"
      ]
    },
    {
      "cell_type": "code",
      "execution_count": 28,
      "id": "b45293a2",
      "metadata": {
        "execution": {
          "iopub.execute_input": "2021-10-13T05:20:52.603591Z",
          "iopub.status.busy": "2021-10-13T05:20:52.602621Z",
          "iopub.status.idle": "2021-10-13T05:20:52.610462Z",
          "shell.execute_reply": "2021-10-13T05:20:52.610867Z",
          "shell.execute_reply.started": "2021-10-13T05:19:24.467294Z"
        },
        "papermill": {
          "duration": 0.054975,
          "end_time": "2021-10-13T05:20:52.611057",
          "exception": false,
          "start_time": "2021-10-13T05:20:52.556082",
          "status": "completed"
        },
        "tags": [],
        "colab": {
          "base_uri": "https://localhost:8080/"
        },
        "id": "b45293a2",
        "outputId": "2fe0bd53-52d8-4d07-f15e-3a3585634b1d"
      },
      "outputs": [
        {
          "output_type": "execute_result",
          "data": {
            "text/plain": [
              "good    317\n",
              "poor     82\n",
              "Name: appet, dtype: int64"
            ]
          },
          "metadata": {},
          "execution_count": 28
        }
      ],
      "source": [
        "data[\"appet\"].value_counts()"
      ]
    },
    {
      "cell_type": "code",
      "execution_count": 29,
      "id": "e82c62f3",
      "metadata": {
        "execution": {
          "iopub.execute_input": "2021-10-13T05:20:52.700504Z",
          "iopub.status.busy": "2021-10-13T05:20:52.699520Z",
          "iopub.status.idle": "2021-10-13T05:20:52.869892Z",
          "shell.execute_reply": "2021-10-13T05:20:52.870305Z",
          "shell.execute_reply.started": "2021-10-13T05:19:24.478802Z"
        },
        "papermill": {
          "duration": 0.216756,
          "end_time": "2021-10-13T05:20:52.870491",
          "exception": false,
          "start_time": "2021-10-13T05:20:52.653735",
          "status": "completed"
        },
        "tags": [],
        "colab": {
          "base_uri": "https://localhost:8080/",
          "height": 619
        },
        "id": "e82c62f3",
        "outputId": "4a5dda9c-2cb6-4622-de3d-5067b950fa5d"
      },
      "outputs": [
        {
          "output_type": "display_data",
          "data": {
            "text/plain": [
              "<Figure size 700x700 with 1 Axes>"
            ],
            "image/png": "[encoded data removed]"
          },
          "metadata": {}
        }
      ],
      "source": [
        "plt.figure(figsize=(7,7))\n",
        "sns.barplot(x =data['appet'],y =data['classification'],data=data)\n",
        "plt.show()"
      ]
    },
    {
      "cell_type": "code",
      "execution_count": 30,
      "id": "384f70d7",
      "metadata": {
        "execution": {
          "iopub.execute_input": "2021-10-13T05:20:52.960903Z",
          "iopub.status.busy": "2021-10-13T05:20:52.959966Z",
          "iopub.status.idle": "2021-10-13T05:20:52.967815Z",
          "shell.execute_reply": "2021-10-13T05:20:52.967257Z",
          "shell.execute_reply.started": "2021-10-13T05:19:24.712070Z"
        },
        "papermill": {
          "duration": 0.053796,
          "end_time": "2021-10-13T05:20:52.967958",
          "exception": false,
          "start_time": "2021-10-13T05:20:52.914162",
          "status": "completed"
        },
        "tags": [],
        "id": "384f70d7"
      },
      "outputs": [],
      "source": [
        "data.replace({\"good\":1,\"poor\":0},inplace=True)"
      ]
    },
    {
      "cell_type": "code",
      "execution_count": 31,
      "id": "8369a166",
      "metadata": {
        "execution": {
          "iopub.execute_input": "2021-10-13T05:20:53.057353Z",
          "iopub.status.busy": "2021-10-13T05:20:53.056440Z",
          "iopub.status.idle": "2021-10-13T05:20:53.065286Z",
          "shell.execute_reply": "2021-10-13T05:20:53.064667Z",
          "shell.execute_reply.started": "2021-10-13T05:19:24.722234Z"
        },
        "papermill": {
          "duration": 0.054443,
          "end_time": "2021-10-13T05:20:53.065466",
          "exception": false,
          "start_time": "2021-10-13T05:20:53.011023",
          "status": "completed"
        },
        "tags": [],
        "colab": {
          "base_uri": "https://localhost:8080/"
        },
        "id": "8369a166",
        "outputId": "3054a478-26fd-4955-f1f2-ba6f7c63c9fa"
      },
      "outputs": [
        {
          "output_type": "execute_result",
          "data": {
            "text/plain": [
              "no     339\n",
              "yes     60\n",
              "Name: ane, dtype: int64"
            ]
          },
          "metadata": {},
          "execution_count": 31
        }
      ],
      "source": [
        "data[\"ane\"].value_counts()"
      ]
    },
    {
      "cell_type": "code",
      "execution_count": 32,
      "id": "63a21c19",
      "metadata": {
        "execution": {
          "iopub.execute_input": "2021-10-13T05:20:53.156657Z",
          "iopub.status.busy": "2021-10-13T05:20:53.156012Z",
          "iopub.status.idle": "2021-10-13T05:20:53.163584Z",
          "shell.execute_reply": "2021-10-13T05:20:53.163027Z",
          "shell.execute_reply.started": "2021-10-13T05:19:24.735283Z"
        },
        "papermill": {
          "duration": 0.054122,
          "end_time": "2021-10-13T05:20:53.163740",
          "exception": false,
          "start_time": "2021-10-13T05:20:53.109618",
          "status": "completed"
        },
        "tags": [],
        "id": "63a21c19"
      },
      "outputs": [],
      "source": [
        "#replacing the values of no, yes to 0,1 respectively\n",
        "data.replace({\"no\":0,\"yes\":1,\"\\tno\":0,\"\\tyes\":1,\" yes\":1},inplace=True)"
      ]
    },
    {
      "cell_type": "code",
      "execution_count": 33,
      "id": "413c7196",
      "metadata": {
        "execution": {
          "iopub.execute_input": "2021-10-13T05:20:53.262786Z",
          "iopub.status.busy": "2021-10-13T05:20:53.261572Z",
          "iopub.status.idle": "2021-10-13T05:20:53.269498Z",
          "shell.execute_reply": "2021-10-13T05:20:53.268947Z",
          "shell.execute_reply.started": "2021-10-13T05:19:24.749965Z"
        },
        "papermill": {
          "duration": 0.063265,
          "end_time": "2021-10-13T05:20:53.269639",
          "exception": false,
          "start_time": "2021-10-13T05:20:53.206374",
          "status": "completed"
        },
        "tags": [],
        "colab": {
          "base_uri": "https://localhost:8080/"
        },
        "id": "413c7196",
        "outputId": "fa51550e-e43b-4386-98d7-a0038c58dedc"
      },
      "outputs": [
        {
          "output_type": "stream",
          "name": "stdout",
          "text": [
            "<class 'pandas.core.frame.DataFrame'>\n",
            "RangeIndex: 400 entries, 0 to 399\n",
            "Data columns (total 26 columns):\n",
            " #   Column          Non-Null Count  Dtype  \n",
            "---  ------          --------------  -----  \n",
            " 0   id              400 non-null    int64  \n",
            " 1   age             400 non-null    float64\n",
            " 2   bp              400 non-null    float64\n",
            " 3   sg              400 non-null    float64\n",
            " 4   al              400 non-null    float64\n",
            " 5   su              400 non-null    float64\n",
            " 6   bgr             400 non-null    float64\n",
            " 7   bu              400 non-null    float64\n",
            " 8   sc              400 non-null    float64\n",
            " 9   sod             400 non-null    float64\n",
            " 10  pot             400 non-null    float64\n",
            " 11  hemo            400 non-null    float64\n",
            " 12  pcv             400 non-null    float64\n",
            " 13  wc              400 non-null    float64\n",
            " 14  rc              400 non-null    float64\n",
            " 15  htn             398 non-null    float64\n",
            " 16  dm              398 non-null    float64\n",
            " 17  cad             398 non-null    float64\n",
            " 18  appet           399 non-null    float64\n",
            " 19  pe              399 non-null    float64\n",
            " 20  ane             399 non-null    float64\n",
            " 21  classification  400 non-null    int64  \n",
            " 22  rbc_normal      400 non-null    uint8  \n",
            " 23  pc_normal       400 non-null    uint8  \n",
            " 24  pcc_present     400 non-null    uint8  \n",
            " 25  ba_present      400 non-null    uint8  \n",
            "dtypes: float64(20), int64(2), uint8(4)\n",
            "memory usage: 70.4 KB\n"
          ]
        }
      ],
      "source": [
        "data.info()"
      ]
    },
    {
      "cell_type": "code",
      "execution_count": 34,
      "id": "174c132e",
      "metadata": {
        "execution": {
          "iopub.execute_input": "2021-10-13T05:20:53.359142Z",
          "iopub.status.busy": "2021-10-13T05:20:53.358570Z",
          "iopub.status.idle": "2021-10-13T05:20:53.384880Z",
          "shell.execute_reply": "2021-10-13T05:20:53.383519Z",
          "shell.execute_reply.started": "2021-10-13T05:19:24.772270Z"
        },
        "papermill": {
          "duration": 0.072202,
          "end_time": "2021-10-13T05:20:53.385038",
          "exception": false,
          "start_time": "2021-10-13T05:20:53.312836",
          "status": "completed"
        },
        "tags": [],
        "id": "174c132e"
      },
      "outputs": [],
      "source": [
        "#if still null values present then replacing the null value with the most frequent value in the column\n",
        "data=data.apply(lambda x:x.fillna(x.value_counts().index[0]))"
      ]
    },
    {
      "cell_type": "code",
      "execution_count": 35,
      "id": "73518b91",
      "metadata": {
        "execution": {
          "iopub.execute_input": "2021-10-13T05:20:53.486838Z",
          "iopub.status.busy": "2021-10-13T05:20:53.477876Z",
          "iopub.status.idle": "2021-10-13T05:20:53.491045Z",
          "shell.execute_reply": "2021-10-13T05:20:53.491895Z",
          "shell.execute_reply.started": "2021-10-13T05:19:24.804780Z"
        },
        "papermill": {
          "duration": 0.063816,
          "end_time": "2021-10-13T05:20:53.492197",
          "exception": false,
          "start_time": "2021-10-13T05:20:53.428381",
          "status": "completed"
        },
        "tags": [],
        "colab": {
          "base_uri": "https://localhost:8080/"
        },
        "id": "73518b91",
        "outputId": "b5b73ca1-7cc9-46e9-b514-686254fe650a"
      },
      "outputs": [
        {
          "output_type": "stream",
          "name": "stdout",
          "text": [
            "<class 'pandas.core.frame.DataFrame'>\n",
            "RangeIndex: 400 entries, 0 to 399\n",
            "Data columns (total 26 columns):\n",
            " #   Column          Non-Null Count  Dtype  \n",
            "---  ------          --------------  -----  \n",
            " 0   id              400 non-null    int64  \n",
            " 1   age             400 non-null    float64\n",
            " 2   bp              400 non-null    float64\n",
            " 3   sg              400 non-null    float64\n",
            " 4   al              400 non-null    float64\n",
            " 5   su              400 non-null    float64\n",
            " 6   bgr             400 non-null    float64\n",
            " 7   bu              400 non-null    float64\n",
            " 8   sc              400 non-null    float64\n",
            " 9   sod             400 non-null    float64\n",
            " 10  pot             400 non-null    float64\n",
            " 11  hemo            400 non-null    float64\n",
            " 12  pcv             400 non-null    float64\n",
            " 13  wc              400 non-null    float64\n",
            " 14  rc              400 non-null    float64\n",
            " 15  htn             400 non-null    float64\n",
            " 16  dm              400 non-null    float64\n",
            " 17  cad             400 non-null    float64\n",
            " 18  appet           400 non-null    float64\n",
            " 19  pe              400 non-null    float64\n",
            " 20  ane             400 non-null    float64\n",
            " 21  classification  400 non-null    int64  \n",
            " 22  rbc_normal      400 non-null    uint8  \n",
            " 23  pc_normal       400 non-null    uint8  \n",
            " 24  pcc_present     400 non-null    uint8  \n",
            " 25  ba_present      400 non-null    uint8  \n",
            "dtypes: float64(20), int64(2), uint8(4)\n",
            "memory usage: 70.4 KB\n"
          ]
        }
      ],
      "source": [
        "data.info()"
      ]
    },
    {
      "cell_type": "markdown",
      "id": "1602fe17",
      "metadata": {
        "papermill": {
          "duration": 0.043154,
          "end_time": "2021-10-13T05:20:53.580096",
          "exception": false,
          "start_time": "2021-10-13T05:20:53.536942",
          "status": "completed"
        },
        "tags": [],
        "id": "1602fe17"
      },
      "source": [
        "# Splitting Train Data and Test Data"
      ]
    },
    {
      "cell_type": "code",
      "execution_count": 36,
      "id": "bcdbe3ca",
      "metadata": {
        "execution": {
          "iopub.execute_input": "2021-10-13T05:20:53.674432Z",
          "iopub.status.busy": "2021-10-13T05:20:53.673515Z",
          "iopub.status.idle": "2021-10-13T05:20:53.677972Z",
          "shell.execute_reply": "2021-10-13T05:20:53.678441Z",
          "shell.execute_reply.started": "2021-10-13T05:19:24.825519Z"
        },
        "papermill": {
          "duration": 0.054187,
          "end_time": "2021-10-13T05:20:53.678631",
          "exception": false,
          "start_time": "2021-10-13T05:20:53.624444",
          "status": "completed"
        },
        "tags": [],
        "colab": {
          "base_uri": "https://localhost:8080/"
        },
        "id": "bcdbe3ca",
        "outputId": "92f22189-7c0e-4207-c587-0d37e9938cc7"
      },
      "outputs": [
        {
          "output_type": "execute_result",
          "data": {
            "text/plain": [
              "Index(['id', 'age', 'bp', 'sg', 'al', 'su', 'bgr', 'bu', 'sc', 'sod', 'pot',\n",
              "       'hemo', 'pcv', 'wc', 'rc', 'htn', 'dm', 'cad', 'appet', 'pe', 'ane',\n",
              "       'classification', 'rbc_normal', 'pc_normal', 'pcc_present',\n",
              "       'ba_present'],\n",
              "      dtype='object')"
            ]
          },
          "metadata": {},
          "execution_count": 36
        }
      ],
      "source": [
        "#getting the columns in the dataset\n",
        "data.columns"
      ]
    },
    {
      "cell_type": "code",
      "execution_count": 37,
      "id": "56b03643",
      "metadata": {
        "execution": {
          "iopub.execute_input": "2021-10-13T05:20:53.775631Z",
          "iopub.status.busy": "2021-10-13T05:20:53.774962Z",
          "iopub.status.idle": "2021-10-13T05:20:53.780215Z",
          "shell.execute_reply": "2021-10-13T05:20:53.779674Z",
          "shell.execute_reply.started": "2021-10-13T05:19:24.834720Z"
        },
        "papermill": {
          "duration": 0.056355,
          "end_time": "2021-10-13T05:20:53.780385",
          "exception": false,
          "start_time": "2021-10-13T05:20:53.724030",
          "status": "completed"
        },
        "tags": [],
        "id": "56b03643"
      },
      "outputs": [],
      "source": [
        "#seperating the data for the model as X contains the data which feed to the model and y contains the target column\n",
        "X = data.loc[:,['age', 'bp', 'rc','wc','appet','pc_normal','htn','hemo','bgr','dm','ane']]\n",
        "y = data[\"classification\"]"
      ]
    },
    {
      "cell_type": "code",
      "execution_count": 38,
      "id": "eb0c34a5",
      "metadata": {
        "execution": {
          "iopub.execute_input": "2021-10-13T05:20:53.891040Z",
          "iopub.status.busy": "2021-10-13T05:20:53.890292Z",
          "iopub.status.idle": "2021-10-13T05:20:53.895434Z",
          "shell.execute_reply": "2021-10-13T05:20:53.895884Z",
          "shell.execute_reply.started": "2021-10-13T05:19:24.844736Z"
        },
        "papermill": {
          "duration": 0.070058,
          "end_time": "2021-10-13T05:20:53.896072",
          "exception": false,
          "start_time": "2021-10-13T05:20:53.826014",
          "status": "completed"
        },
        "tags": [],
        "colab": {
          "base_uri": "https://localhost:8080/",
          "height": 206
        },
        "id": "eb0c34a5",
        "outputId": "bd8b01b8-36a4-4abf-c4bd-3e62cc6cd479"
      },
      "outputs": [
        {
          "output_type": "execute_result",
          "data": {
            "text/plain": [
              "      age    bp        rc           wc  appet  pc_normal  htn  hemo  \\\n",
              "336  25.0  60.0  5.000000  9200.000000    1.0          1  0.0  15.2   \n",
              "64   55.0  80.0  4.241636  8406.122449    1.0          1  0.0   9.8   \n",
              "55   35.0  80.0  4.241636  8406.122449    1.0          1  0.0   9.5   \n",
              "106  50.0  90.0  4.241636  6500.000000    1.0          0  1.0   6.0   \n",
              "300  45.0  60.0  5.000000  9200.000000    1.0          1  0.0  15.0   \n",
              "\n",
              "            bgr   dm  ane  \n",
              "336  119.000000  0.0  0.0  \n",
              "64   146.000000  0.0  0.0  \n",
              "55   148.036517  0.0  0.0  \n",
              "106   89.000000  1.0  1.0  \n",
              "300  114.000000  0.0  0.0  "
            ],
            "text/html": [
              "\n",
              "  <div id=\"df-bb160bc8-e61c-457e-9e54-011515d44714\" class=\"colab-df-container\">\n",
              "    <div>\n",
              "<style scoped>\n",
              "    .dataframe tbody tr th:only-of-type {\n",
              "        vertical-align: middle;\n",
              "    }\n",
              "\n",
              "    .dataframe tbody tr th {\n",
              "        vertical-align: top;\n",
              "    }\n",
              "\n",
              "    .dataframe thead th {\n",
              "        text-align: right;\n",
              "    }\n",
              "</style>\n",
              "<table border=\"1\" class=\"dataframe\">\n",
              "  <thead>\n",
              "    <tr style=\"text-align: right;\">\n",
              "      <th></th>\n",
              "      <th>age</th>\n",
              "      <th>bp</th>\n",
              "      <th>rc</th>\n",
              "      <th>wc</th>\n",
              "      <th>appet</th>\n",
              "      <th>pc_normal</th>\n",
              "      <th>htn</th>\n",
              "      <th>hemo</th>\n",
              "      <th>bgr</th>\n",
              "      <th>dm</th>\n",
              "      <th>ane</th>\n",
              "    </tr>\n",
              "  </thead>\n",
              "  <tbody>\n",
              "    <tr>\n",
              "      <th>336</th>\n",
              "      <td>25.0</td>\n",
              "      <td>60.0</td>\n",
              "      <td>5.000000</td>\n",
              "      <td>9200.000000</td>\n",
              "      <td>1.0</td>\n",
              "      <td>1</td>\n",
              "      <td>0.0</td>\n",
              "      <td>15.2</td>\n",
              "      <td>119.000000</td>\n",
              "      <td>0.0</td>\n",
              "      <td>0.0</td>\n",
              "    </tr>\n",
              "    <tr>\n",
              "      <th>64</th>\n",
              "      <td>55.0</td>\n",
              "      <td>80.0</td>\n",
              "      <td>4.241636</td>\n",
              "      <td>8406.122449</td>\n",
              "      <td>1.0</td>\n",
              "      <td>1</td>\n",
              "      <td>0.0</td>\n",
              "      <td>9.8</td>\n",
              "      <td>146.000000</td>\n",
              "      <td>0.0</td>\n",
              "      <td>0.0</td>\n",
              "    </tr>\n",
              "    <tr>\n",
              "      <th>55</th>\n",
              "      <td>35.0</td>\n",
              "      <td>80.0</td>\n",
              "      <td>4.241636</td>\n",
              "      <td>8406.122449</td>\n",
              "      <td>1.0</td>\n",
              "      <td>1</td>\n",
              "      <td>0.0</td>\n",
              "      <td>9.5</td>\n",
              "      <td>148.036517</td>\n",
              "      <td>0.0</td>\n",
              "      <td>0.0</td>\n",
              "    </tr>\n",
              "    <tr>\n",
              "      <th>106</th>\n",
              "      <td>50.0</td>\n",
              "      <td>90.0</td>\n",
              "      <td>4.241636</td>\n",
              "      <td>6500.000000</td>\n",
              "      <td>1.0</td>\n",
              "      <td>0</td>\n",
              "      <td>1.0</td>\n",
              "      <td>6.0</td>\n",
              "      <td>89.000000</td>\n",
              "      <td>1.0</td>\n",
              "      <td>1.0</td>\n",
              "    </tr>\n",
              "    <tr>\n",
              "      <th>300</th>\n",
              "      <td>45.0</td>\n",
              "      <td>60.0</td>\n",
              "      <td>5.000000</td>\n",
              "      <td>9200.000000</td>\n",
              "      <td>1.0</td>\n",
              "      <td>1</td>\n",
              "      <td>0.0</td>\n",
              "      <td>15.0</td>\n",
              "      <td>114.000000</td>\n",
              "      <td>0.0</td>\n",
              "      <td>0.0</td>\n",
              "    </tr>\n",
              "  </tbody>\n",
              "</table>\n",
              "</div>\n",
              "    <div class=\"colab-df-buttons\">\n",
              "\n",
              "  <div class=\"colab-df-container\">\n",
              "    <button class=\"colab-df-convert\" onclick=\"convertToInteractive('df-bb160bc8-e61c-457e-9e54-011515d44714')\"\n",
              "            title=\"Convert this dataframe to an interactive table.\"\n",
              "            style=\"display:none;\">\n",
              "\n",
              "  <svg xmlns=\"http://www.w3.org/2000/svg\" height=\"24px\" viewBox=\"0 -960 960 960\">\n",
              "    <path d=\"M120-120v-720h720v720H120Zm60-500h600v-160H180v160Zm220 220h160v-160H400v160Zm0 220h160v-160H400v160ZM180-400h160v-160H180v160Zm440 0h160v-160H620v160ZM180-180h160v-160H180v160Zm440 0h160v-160H620v160Z\"/>\n",
              "  </svg>\n",
              "    </button>\n",
              "\n",
              "  <style>\n",
              "    .colab-df-container {\n",
              "      display:flex;\n",
              "      gap: 12px;\n",
              "    }\n",
              "\n",
              "    .colab-df-convert {\n",
              "      background-color: #E8F0FE;\n",
              "      border: none;\n",
              "      border-radius: 50%;\n",
              "      cursor: pointer;\n",
              "      display: none;\n",
              "      fill: #1967D2;\n",
              "      height: 32px;\n",
              "      padding: 0 0 0 0;\n",
              "      width: 32px;\n",
              "    }\n",
              "\n",
              "    .colab-df-convert:hover {\n",
              "      background-color: #E2EBFA;\n",
              "      box-shadow: 0px 1px 2px rgba(60, 64, 67, 0.3), 0px 1px 3px 1px rgba(60, 64, 67, 0.15);\n",
              "      fill: #174EA6;\n",
              "    }\n",
              "\n",
              "    .colab-df-buttons div {\n",
              "      margin-bottom: 4px;\n",
              "    }\n",
              "\n",
              "    [theme=dark] .colab-df-convert {\n",
              "      background-color: #3B4455;\n",
              "      fill: #D2E3FC;\n",
              "    }\n",
              "\n",
              "    [theme=dark] .colab-df-convert:hover {\n",
              "      background-color: #434B5C;\n",
              "      box-shadow: 0px 1px 3px 1px rgba(0, 0, 0, 0.15);\n",
              "      filter: drop-shadow(0px 1px 2px rgba(0, 0, 0, 0.3));\n",
              "      fill: #FFFFFF;\n",
              "    }\n",
              "  </style>\n",
              "\n",
              "    <script>\n",
              "      const buttonEl =\n",
              "        document.querySelector('#df-bb160bc8-e61c-457e-9e54-011515d44714 button.colab-df-convert');\n",
              "      buttonEl.style.display =\n",
              "        google.colab.kernel.accessAllowed ? 'block' : 'none';\n",
              "\n",
              "      async function convertToInteractive(key) {\n",
              "        const element = document.querySelector('#df-bb160bc8-e61c-457e-9e54-011515d44714');\n",
              "        const dataTable =\n",
              "          await google.colab.kernel.invokeFunction('convertToInteractive',\n",
              "                                                    [key], {});\n",
              "        if (!dataTable) return;\n",
              "\n",
              "        const docLinkHtml = 'Like what you see? Visit the ' +\n",
              "          '<a target=\"_blank\" href=https://colab.research.google.com/notebooks/data_table.ipynb>data table notebook</a>'\n",
              "          + ' to learn more about interactive tables.';\n",
              "        element.innerHTML = '';\n",
              "        dataTable['output_type'] = 'display_data';\n",
              "        await google.colab.output.renderOutput(dataTable, element);\n",
              "        const docLink = document.createElement('div');\n",
              "        docLink.innerHTML = docLinkHtml;\n",
              "        element.appendChild(docLink);\n",
              "      }\n",
              "    </script>\n",
              "  </div>\n",
              "\n",
              "\n",
              "<div id=\"df-eb24af42-7769-4702-8c3d-939a5a814925\">\n",
              "  <button class=\"colab-df-quickchart\" onclick=\"quickchart('df-eb24af42-7769-4702-8c3d-939a5a814925')\"\n",
              "            title=\"Suggest charts\"\n",
              "            style=\"display:none;\">\n",
              "\n",
              "<svg xmlns=\"http://www.w3.org/2000/svg\" height=\"24px\"viewBox=\"0 0 24 24\"\n",
              "     width=\"24px\">\n",
              "    <g>\n",
              "        <path d=\"M19 3H5c-1.1 0-2 .9-2 2v14c0 1.1.9 2 2 2h14c1.1 0 2-.9 2-2V5c0-1.1-.9-2-2-2zM9 17H7v-7h2v7zm4 0h-2V7h2v10zm4 0h-2v-4h2v4z\"/>\n",
              "    </g>\n",
              "</svg>\n",
              "  </button>\n",
              "\n",
              "<style>\n",
              "  .colab-df-quickchart {\n",
              "      --bg-color: #E8F0FE;\n",
              "      --fill-color: #1967D2;\n",
              "      --hover-bg-color: #E2EBFA;\n",
              "      --hover-fill-color: #174EA6;\n",
              "      --disabled-fill-color: #AAA;\n",
              "      --disabled-bg-color: #DDD;\n",
              "  }\n",
              "\n",
              "  [theme=dark] .colab-df-quickchart {\n",
              "      --bg-color: #3B4455;\n",
              "      --fill-color: #D2E3FC;\n",
              "      --hover-bg-color: #434B5C;\n",
              "      --hover-fill-color: #FFFFFF;\n",
              "      --disabled-bg-color: #3B4455;\n",
              "      --disabled-fill-color: #666;\n",
              "  }\n",
              "\n",
              "  .colab-df-quickchart {\n",
              "    background-color: var(--bg-color);\n",
              "    border: none;\n",
              "    border-radius: 50%;\n",
              "    cursor: pointer;\n",
              "    display: none;\n",
              "    fill: var(--fill-color);\n",
              "    height: 32px;\n",
              "    padding: 0;\n",
              "    width: 32px;\n",
              "  }\n",
              "\n",
              "  .colab-df-quickchart:hover {\n",
              "    background-color: var(--hover-bg-color);\n",
              "    box-shadow: 0 1px 2px rgba(60, 64, 67, 0.3), 0 1px 3px 1px rgba(60, 64, 67, 0.15);\n",
              "    fill: var(--button-hover-fill-color);\n",
              "  }\n",
              "\n",
              "  .colab-df-quickchart-complete:disabled,\n",
              "  .colab-df-quickchart-complete:disabled:hover {\n",
              "    background-color: var(--disabled-bg-color);\n",
              "    fill: var(--disabled-fill-color);\n",
              "    box-shadow: none;\n",
              "  }\n",
              "\n",
              "  .colab-df-spinner {\n",
              "    border: 2px solid var(--fill-color);\n",
              "    border-color: transparent;\n",
              "    border-bottom-color: var(--fill-color);\n",
              "    animation:\n",
              "      spin 1s steps(1) infinite;\n",
              "  }\n",
              "\n",
              "  @keyframes spin {\n",
              "    0% {\n",
              "      border-color: transparent;\n",
              "      border-bottom-color: var(--fill-color);\n",
              "      border-left-color: var(--fill-color);\n",
              "    }\n",
              "    20% {\n",
              "      border-color: transparent;\n",
              "      border-left-color: var(--fill-color);\n",
              "      border-top-color: var(--fill-color);\n",
              "    }\n",
              "    30% {\n",
              "      border-color: transparent;\n",
              "      border-left-color: var(--fill-color);\n",
              "      border-top-color: var(--fill-color);\n",
              "      border-right-color: var(--fill-color);\n",
              "    }\n",
              "    40% {\n",
              "      border-color: transparent;\n",
              "      border-right-color: var(--fill-color);\n",
              "      border-top-color: var(--fill-color);\n",
              "    }\n",
              "    60% {\n",
              "      border-color: transparent;\n",
              "      border-right-color: var(--fill-color);\n",
              "    }\n",
              "    80% {\n",
              "      border-color: transparent;\n",
              "      border-right-color: var(--fill-color);\n",
              "      border-bottom-color: var(--fill-color);\n",
              "    }\n",
              "    90% {\n",
              "      border-color: transparent;\n",
              "      border-bottom-color: var(--fill-color);\n",
              "    }\n",
              "  }\n",
              "</style>\n",
              "\n",
              "  <script>\n",
              "    async function quickchart(key) {\n",
              "      const quickchartButtonEl =\n",
              "        document.querySelector('#' + key + ' button');\n",
              "      quickchartButtonEl.disabled = true;  // To prevent multiple clicks.\n",
              "      quickchartButtonEl.classList.add('colab-df-spinner');\n",
              "      try {\n",
              "        const charts = await google.colab.kernel.invokeFunction(\n",
              "            'suggestCharts', [key], {});\n",
              "      } catch (error) {\n",
              "        console.error('Error during call to suggestCharts:', error);\n",
              "      }\n",
              "      quickchartButtonEl.classList.remove('colab-df-spinner');\n",
              "      quickchartButtonEl.classList.add('colab-df-quickchart-complete');\n",
              "    }\n",
              "    (() => {\n",
              "      let quickchartButtonEl =\n",
              "        document.querySelector('#df-eb24af42-7769-4702-8c3d-939a5a814925 button');\n",
              "      quickchartButtonEl.style.display =\n",
              "        google.colab.kernel.accessAllowed ? 'block' : 'none';\n",
              "    })();\n",
              "  </script>\n",
              "</div>\n",
              "    </div>\n",
              "  </div>\n"
            ]
          },
          "metadata": {},
          "execution_count": 38
        }
      ],
      "source": [
        "#splitting the train data and test Data\n",
        "X_train,X_test,y_train,y_test = train_test_split(X,y,test_size=0.2,random_state = 0)\n",
        "X_train.head()"
      ]
    },
    {
      "cell_type": "markdown",
      "id": "546fb88d",
      "metadata": {
        "papermill": {
          "duration": 0.044399,
          "end_time": "2021-10-13T05:20:53.985950",
          "exception": false,
          "start_time": "2021-10-13T05:20:53.941551",
          "status": "completed"
        },
        "tags": [],
        "id": "546fb88d"
      },
      "source": [
        "# MODELS:"
      ]
    },
    {
      "cell_type": "markdown",
      "id": "b052cc0b",
      "metadata": {
        "papermill": {
          "duration": 0.0462,
          "end_time": "2021-10-13T05:20:54.077023",
          "exception": false,
          "start_time": "2021-10-13T05:20:54.030823",
          "status": "completed"
        },
        "tags": [],
        "id": "b052cc0b"
      },
      "source": [
        "## Random Forest"
      ]
    },
    {
      "cell_type": "code",
      "execution_count": 39,
      "id": "cd6cd5c5",
      "metadata": {
        "execution": {
          "iopub.execute_input": "2021-10-13T05:20:54.203022Z",
          "iopub.status.busy": "2021-10-13T05:20:54.198025Z",
          "iopub.status.idle": "2021-10-13T05:20:54.330958Z",
          "shell.execute_reply": "2021-10-13T05:20:54.330187Z",
          "shell.execute_reply.started": "2021-10-13T05:19:24.879789Z"
        },
        "papermill": {
          "duration": 0.206881,
          "end_time": "2021-10-13T05:20:54.331130",
          "exception": false,
          "start_time": "2021-10-13T05:20:54.124249",
          "status": "completed"
        },
        "tags": [],
        "colab": {
          "base_uri": "https://localhost:8080/",
          "height": 75
        },
        "id": "cd6cd5c5",
        "outputId": "a3ad6ec9-9057-4e64-c619-0de4bcf56d56"
      },
      "outputs": [
        {
          "output_type": "execute_result",
          "data": {
            "text/plain": [
              "RandomForestClassifier()"
            ],
            "text/html": [
              "<style>#sk-container-id-1 {color: black;background-color: white;}#sk-container-id-1 pre{padding: 0;}#sk-container-id-1 div.sk-toggleable {background-color: white;}#sk-container-id-1 label.sk-toggleable__label {cursor: pointer;display: block;width: 100%;margin-bottom: 0;padding: 0.3em;box-sizing: border-box;text-align: center;}#sk-container-id-1 label.sk-toggleable__label-arrow:before {content: \"▸\";float: left;margin-right: 0.25em;color: #696969;}#sk-container-id-1 label.sk-toggleable__label-arrow:hover:before {color: black;}#sk-container-id-1 div.sk-estimator:hover label.sk-toggleable__label-arrow:before {color: black;}#sk-container-id-1 div.sk-toggleable__content {max-height: 0;max-width: 0;overflow: hidden;text-align: left;background-color: #f0f8ff;}#sk-container-id-1 div.sk-toggleable__content pre {margin: 0.2em;color: black;border-radius: 0.25em;background-color: #f0f8ff;}#sk-container-id-1 input.sk-toggleable__control:checked~div.sk-toggleable__content {max-height: 200px;max-width: 100%;overflow: auto;}#sk-container-id-1 input.sk-toggleable__control:checked~label.sk-toggleable__label-arrow:before {content: \"▾\";}#sk-container-id-1 div.sk-estimator input.sk-toggleable__control:checked~label.sk-toggleable__label {background-color: #d4ebff;}#sk-container-id-1 div.sk-label input.sk-toggleable__control:checked~label.sk-toggleable__label {background-color: #d4ebff;}#sk-container-id-1 input.sk-hidden--visually {border: 0;clip: rect(1px 1px 1px 1px);clip: rect(1px, 1px, 1px, 1px);height: 1px;margin: -1px;overflow: hidden;padding: 0;position: absolute;width: 1px;}#sk-container-id-1 div.sk-estimator {font-family: monospace;background-color: #f0f8ff;border: 1px dotted black;border-radius: 0.25em;box-sizing: border-box;margin-bottom: 0.5em;}#sk-container-id-1 div.sk-estimator:hover {background-color: #d4ebff;}#sk-container-id-1 div.sk-parallel-item::after {content: \"\";width: 100%;border-bottom: 1px solid gray;flex-grow: 1;}#sk-container-id-1 div.sk-label:hover label.sk-toggleable__label {background-color: #d4ebff;}#sk-container-id-1 div.sk-serial::before {content: \"\";position: absolute;border-left: 1px solid gray;box-sizing: border-box;top: 0;bottom: 0;left: 50%;z-index: 0;}#sk-container-id-1 div.sk-serial {display: flex;flex-direction: column;align-items: center;background-color: white;padding-right: 0.2em;padding-left: 0.2em;position: relative;}#sk-container-id-1 div.sk-item {position: relative;z-index: 1;}#sk-container-id-1 div.sk-parallel {display: flex;align-items: stretch;justify-content: center;background-color: white;position: relative;}#sk-container-id-1 div.sk-item::before, #sk-container-id-1 div.sk-parallel-item::before {content: \"\";position: absolute;border-left: 1px solid gray;box-sizing: border-box;top: 0;bottom: 0;left: 50%;z-index: -1;}#sk-container-id-1 div.sk-parallel-item {display: flex;flex-direction: column;z-index: 1;position: relative;background-color: white;}#sk-container-id-1 div.sk-parallel-item:first-child::after {align-self: flex-end;width: 50%;}#sk-container-id-1 div.sk-parallel-item:last-child::after {align-self: flex-start;width: 50%;}#sk-container-id-1 div.sk-parallel-item:only-child::after {width: 0;}#sk-container-id-1 div.sk-dashed-wrapped {border: 1px dashed gray;margin: 0 0.4em 0.5em 0.4em;box-sizing: border-box;padding-bottom: 0.4em;background-color: white;}#sk-container-id-1 div.sk-label label {font-family: monospace;font-weight: bold;display: inline-block;line-height: 1.2em;}#sk-container-id-1 div.sk-label-container {text-align: center;}#sk-container-id-1 div.sk-container {/* jupyter's `normalize.less` sets `[hidden] { display: none; }` but bootstrap.min.css set `[hidden] { display: none !important; }` so we also need the `!important` here to be able to override the default hidden behavior on the sphinx rendered scikit-learn.org. See: https://github.com/scikit-learn/scikit-learn/issues/21755 */display: inline-block !important;position: relative;}#sk-container-id-1 div.sk-text-repr-fallback {display: none;}</style><div id=\"sk-container-id-1\" class=\"sk-top-container\"><div class=\"sk-text-repr-fallback\"><pre>RandomForestClassifier()</pre><b>In a Jupyter environment, please rerun this cell to show the HTML representation or trust the notebook. <br />On GitHub, the HTML representation is unable to render, please try loading this page with nbviewer.org.</b></div><div class=\"sk-container\" hidden><div class=\"sk-item\"><div class=\"sk-estimator sk-toggleable\"><input class=\"sk-toggleable__control sk-hidden--visually\" id=\"sk-estimator-id-1\" type=\"checkbox\" checked><label for=\"sk-estimator-id-1\" class=\"sk-toggleable__label sk-toggleable__label-arrow\">RandomForestClassifier</label><div class=\"sk-toggleable__content\"><pre>RandomForestClassifier()</pre></div></div></div></div></div>"
            ]
          },
          "metadata": {},
          "execution_count": 39
        }
      ],
      "source": [
        "#using the random forest classifier\n",
        "model = RandomForestClassifier()\n",
        "model.fit(X_train,y_train)"
      ]
    },
    {
      "cell_type": "code",
      "execution_count": 40,
      "id": "bc19e85b",
      "metadata": {
        "execution": {
          "iopub.execute_input": "2021-10-13T05:20:54.430019Z",
          "iopub.status.busy": "2021-10-13T05:20:54.428711Z",
          "iopub.status.idle": "2021-10-13T05:20:54.441484Z",
          "shell.execute_reply": "2021-10-13T05:20:54.440822Z",
          "shell.execute_reply.started": "2021-10-13T05:19:25.108804Z"
        },
        "papermill": {
          "duration": 0.065426,
          "end_time": "2021-10-13T05:20:54.441644",
          "exception": false,
          "start_time": "2021-10-13T05:20:54.376218",
          "status": "completed"
        },
        "tags": [],
        "id": "bc19e85b"
      },
      "outputs": [],
      "source": [
        "#getting the predictions using the trained model\n",
        "predictions = model.predict(X_test)"
      ]
    },
    {
      "cell_type": "code",
      "execution_count": 41,
      "id": "a33ab047",
      "metadata": {
        "execution": {
          "iopub.execute_input": "2021-10-13T05:20:54.537689Z",
          "iopub.status.busy": "2021-10-13T05:20:54.536858Z",
          "iopub.status.idle": "2021-10-13T05:20:54.541451Z",
          "shell.execute_reply": "2021-10-13T05:20:54.541847Z",
          "shell.execute_reply.started": "2021-10-13T05:19:25.135032Z"
        },
        "papermill": {
          "duration": 0.054734,
          "end_time": "2021-10-13T05:20:54.542033",
          "exception": false,
          "start_time": "2021-10-13T05:20:54.487299",
          "status": "completed"
        },
        "tags": [],
        "colab": {
          "base_uri": "https://localhost:8080/"
        },
        "id": "a33ab047",
        "outputId": "e4feca82-e2ee-4d02-8ac7-9f5cfa011f73"
      },
      "outputs": [
        {
          "output_type": "stream",
          "name": "stdout",
          "text": [
            "the mean absolute error by using the RandomForest is 0.0375\n"
          ]
        }
      ],
      "source": [
        "#checking the mean absolute error between the predicted values and test data\n",
        "print(\"the mean absolute error by using the RandomForest is\",mean_absolute_error(y_test,predictions))"
      ]
    },
    {
      "cell_type": "code",
      "execution_count": 42,
      "id": "087dd54b",
      "metadata": {
        "execution": {
          "iopub.execute_input": "2021-10-13T05:20:54.639543Z",
          "iopub.status.busy": "2021-10-13T05:20:54.638888Z",
          "iopub.status.idle": "2021-10-13T05:20:54.655272Z",
          "shell.execute_reply": "2021-10-13T05:20:54.654790Z",
          "shell.execute_reply.started": "2021-10-13T05:19:25.143140Z"
        },
        "papermill": {
          "duration": 0.068483,
          "end_time": "2021-10-13T05:20:54.655439",
          "exception": false,
          "start_time": "2021-10-13T05:20:54.586956",
          "status": "completed"
        },
        "tags": [],
        "colab": {
          "base_uri": "https://localhost:8080/"
        },
        "id": "087dd54b",
        "outputId": "6fcf9c9a-7589-4d43-ed73-090d2b484e30"
      },
      "outputs": [
        {
          "output_type": "stream",
          "name": "stdout",
          "text": [
            "the accuracy of the train data is  100.0\n"
          ]
        }
      ],
      "source": [
        "#printing the accuracy of the train data\n",
        "print(\"the accuracy of the train data is \",model.score(X_train,y_train)*100)"
      ]
    },
    {
      "cell_type": "code",
      "execution_count": 43,
      "id": "753d3769",
      "metadata": {
        "execution": {
          "iopub.execute_input": "2021-10-13T05:20:54.754035Z",
          "iopub.status.busy": "2021-10-13T05:20:54.753380Z",
          "iopub.status.idle": "2021-10-13T05:20:54.766990Z",
          "shell.execute_reply": "2021-10-13T05:20:54.766376Z",
          "shell.execute_reply.started": "2021-10-13T05:19:25.175965Z"
        },
        "papermill": {
          "duration": 0.066642,
          "end_time": "2021-10-13T05:20:54.767142",
          "exception": false,
          "start_time": "2021-10-13T05:20:54.700500",
          "status": "completed"
        },
        "tags": [],
        "colab": {
          "base_uri": "https://localhost:8080/"
        },
        "id": "753d3769",
        "outputId": "cdf6eda4-8d45-451d-985a-4ebea6b0f4c4"
      },
      "outputs": [
        {
          "output_type": "stream",
          "name": "stdout",
          "text": [
            "the accuracy of the test data is 96.25\n"
          ]
        }
      ],
      "source": [
        "#printing the accuracy of the test data\n",
        "print(\"the accuracy of the test data is\",model.score(X_test,y_test)*100)"
      ]
    },
    {
      "cell_type": "code",
      "source": [
        "scaler =StandardScaler()\n",
        "rfc=RandomForestClassifier()\n",
        "\n",
        "X_train_scaled =scaler.fit_transform(X_train)\n",
        "X_test_scaled = scaler.transform(X_test)\n",
        "rfc.fit(X_train_scaled,y_train)\n",
        "ypred =rfc.predict(X_test_scaled)\n",
        "\n",
        "rfc.score(X_test_scaled,y_test)"
      ],
      "metadata": {
        "colab": {
          "base_uri": "https://localhost:8080/"
        },
        "id": "xt9AEgXkA9St",
        "outputId": "9ee7941a-7b7f-457c-bd9b-4a10642a6108"
      },
      "id": "xt9AEgXkA9St",
      "execution_count": 58,
      "outputs": [
        {
          "output_type": "execute_result",
          "data": {
            "text/plain": [
              "0.975"
            ]
          },
          "metadata": {},
          "execution_count": 58
        }
      ]
    },
    {
      "cell_type": "code",
      "source": [
        "print(\"the accuracy of the test data after scaling is\",rfc.score(X_test_scaled,y_test)*100)"
      ],
      "metadata": {
        "colab": {
          "base_uri": "https://localhost:8080/"
        },
        "id": "jHvRn0DQA_o-",
        "outputId": "e9d1774a-c03b-4ee4-a7c4-6b2bff6c7c6e"
      },
      "id": "jHvRn0DQA_o-",
      "execution_count": 59,
      "outputs": [
        {
          "output_type": "stream",
          "name": "stdout",
          "text": [
            "the accuracy of the test data after scaling is 97.5\n"
          ]
        }
      ]
    },
    {
      "cell_type": "markdown",
      "id": "fa458453",
      "metadata": {
        "papermill": {
          "duration": 0.047046,
          "end_time": "2021-10-13T05:20:54.860315",
          "exception": false,
          "start_time": "2021-10-13T05:20:54.813269",
          "status": "completed"
        },
        "tags": [],
        "id": "fa458453"
      },
      "source": [
        "## XGradient Boost"
      ]
    },
    {
      "cell_type": "code",
      "execution_count": 44,
      "id": "121639c8",
      "metadata": {
        "execution": {
          "iopub.execute_input": "2021-10-13T05:20:54.956466Z",
          "iopub.status.busy": "2021-10-13T05:20:54.955810Z",
          "iopub.status.idle": "2021-10-13T05:20:55.037816Z",
          "shell.execute_reply": "2021-10-13T05:20:55.036941Z",
          "shell.execute_reply.started": "2021-10-13T05:19:25.204202Z"
        },
        "papermill": {
          "duration": 0.131558,
          "end_time": "2021-10-13T05:20:55.038023",
          "exception": false,
          "start_time": "2021-10-13T05:20:54.906465",
          "status": "completed"
        },
        "tags": [],
        "colab": {
          "base_uri": "https://localhost:8080/",
          "height": 248
        },
        "id": "121639c8",
        "outputId": "64b5d40f-3c67-4681-d011-51854143fc49"
      },
      "outputs": [
        {
          "output_type": "execute_result",
          "data": {
            "text/plain": [
              "XGBClassifier(base_score=None, booster=None, callbacks=None,\n",
              "              colsample_bylevel=None, colsample_bynode=None,\n",
              "              colsample_bytree=None, device=None, early_stopping_rounds=None,\n",
              "              enable_categorical=False, eval_metric=None, feature_types=None,\n",
              "              gamma=None, grow_policy=None, importance_type=None,\n",
              "              interaction_constraints=None, learning_rate=None, max_bin=None,\n",
              "              max_cat_threshold=None, max_cat_to_onehot=None,\n",
              "              max_delta_step=None, max_depth=None, max_leaves=None,\n",
              "              min_child_weight=None, missing=nan, monotone_constraints=None,\n",
              "              multi_strategy=None, n_estimators=None, n_jobs=None,\n",
              "              num_parallel_tree=None, random_state=None, ...)"
            ],
            "text/html": [
              "<style>#sk-container-id-2 {color: black;background-color: white;}#sk-container-id-2 pre{padding: 0;}#sk-container-id-2 div.sk-toggleable {background-color: white;}#sk-container-id-2 label.sk-toggleable__label {cursor: pointer;display: block;width: 100%;margin-bottom: 0;padding: 0.3em;box-sizing: border-box;text-align: center;}#sk-container-id-2 label.sk-toggleable__label-arrow:before {content: \"▸\";float: left;margin-right: 0.25em;color: #696969;}#sk-container-id-2 label.sk-toggleable__label-arrow:hover:before {color: black;}#sk-container-id-2 div.sk-estimator:hover label.sk-toggleable__label-arrow:before {color: black;}#sk-container-id-2 div.sk-toggleable__content {max-height: 0;max-width: 0;overflow: hidden;text-align: left;background-color: #f0f8ff;}#sk-container-id-2 div.sk-toggleable__content pre {margin: 0.2em;color: black;border-radius: 0.25em;background-color: #f0f8ff;}#sk-container-id-2 input.sk-toggleable__control:checked~div.sk-toggleable__content {max-height: 200px;max-width: 100%;overflow: auto;}#sk-container-id-2 input.sk-toggleable__control:checked~label.sk-toggleable__label-arrow:before {content: \"▾\";}#sk-container-id-2 div.sk-estimator input.sk-toggleable__control:checked~label.sk-toggleable__label {background-color: #d4ebff;}#sk-container-id-2 div.sk-label input.sk-toggleable__control:checked~label.sk-toggleable__label {background-color: #d4ebff;}#sk-container-id-2 input.sk-hidden--visually {border: 0;clip: rect(1px 1px 1px 1px);clip: rect(1px, 1px, 1px, 1px);height: 1px;margin: -1px;overflow: hidden;padding: 0;position: absolute;width: 1px;}#sk-container-id-2 div.sk-estimator {font-family: monospace;background-color: #f0f8ff;border: 1px dotted black;border-radius: 0.25em;box-sizing: border-box;margin-bottom: 0.5em;}#sk-container-id-2 div.sk-estimator:hover {background-color: #d4ebff;}#sk-container-id-2 div.sk-parallel-item::after {content: \"\";width: 100%;border-bottom: 1px solid gray;flex-grow: 1;}#sk-container-id-2 div.sk-label:hover label.sk-toggleable__label {background-color: #d4ebff;}#sk-container-id-2 div.sk-serial::before {content: \"\";position: absolute;border-left: 1px solid gray;box-sizing: border-box;top: 0;bottom: 0;left: 50%;z-index: 0;}#sk-container-id-2 div.sk-serial {display: flex;flex-direction: column;align-items: center;background-color: white;padding-right: 0.2em;padding-left: 0.2em;position: relative;}#sk-container-id-2 div.sk-item {position: relative;z-index: 1;}#sk-container-id-2 div.sk-parallel {display: flex;align-items: stretch;justify-content: center;background-color: white;position: relative;}#sk-container-id-2 div.sk-item::before, #sk-container-id-2 div.sk-parallel-item::before {content: \"\";position: absolute;border-left: 1px solid gray;box-sizing: border-box;top: 0;bottom: 0;left: 50%;z-index: -1;}#sk-container-id-2 div.sk-parallel-item {display: flex;flex-direction: column;z-index: 1;position: relative;background-color: white;}#sk-container-id-2 div.sk-parallel-item:first-child::after {align-self: flex-end;width: 50%;}#sk-container-id-2 div.sk-parallel-item:last-child::after {align-self: flex-start;width: 50%;}#sk-container-id-2 div.sk-parallel-item:only-child::after {width: 0;}#sk-container-id-2 div.sk-dashed-wrapped {border: 1px dashed gray;margin: 0 0.4em 0.5em 0.4em;box-sizing: border-box;padding-bottom: 0.4em;background-color: white;}#sk-container-id-2 div.sk-label label {font-family: monospace;font-weight: bold;display: inline-block;line-height: 1.2em;}#sk-container-id-2 div.sk-label-container {text-align: center;}#sk-container-id-2 div.sk-container {/* jupyter's `normalize.less` sets `[hidden] { display: none; }` but bootstrap.min.css set `[hidden] { display: none !important; }` so we also need the `!important` here to be able to override the default hidden behavior on the sphinx rendered scikit-learn.org. See: https://github.com/scikit-learn/scikit-learn/issues/21755 */display: inline-block !important;position: relative;}#sk-container-id-2 div.sk-text-repr-fallback {display: none;}</style><div id=\"sk-container-id-2\" class=\"sk-top-container\"><div class=\"sk-text-repr-fallback\"><pre>XGBClassifier(base_score=None, booster=None, callbacks=None,\n",
              "              colsample_bylevel=None, colsample_bynode=None,\n",
              "              colsample_bytree=None, device=None, early_stopping_rounds=None,\n",
              "              enable_categorical=False, eval_metric=None, feature_types=None,\n",
              "              gamma=None, grow_policy=None, importance_type=None,\n",
              "              interaction_constraints=None, learning_rate=None, max_bin=None,\n",
              "              max_cat_threshold=None, max_cat_to_onehot=None,\n",
              "              max_delta_step=None, max_depth=None, max_leaves=None,\n",
              "              min_child_weight=None, missing=nan, monotone_constraints=None,\n",
              "              multi_strategy=None, n_estimators=None, n_jobs=None,\n",
              "              num_parallel_tree=None, random_state=None, ...)</pre><b>In a Jupyter environment, please rerun this cell to show the HTML representation or trust the notebook. <br />On GitHub, the HTML representation is unable to render, please try loading this page with nbviewer.org.</b></div><div class=\"sk-container\" hidden><div class=\"sk-item\"><div class=\"sk-estimator sk-toggleable\"><input class=\"sk-toggleable__control sk-hidden--visually\" id=\"sk-estimator-id-2\" type=\"checkbox\" checked><label for=\"sk-estimator-id-2\" class=\"sk-toggleable__label sk-toggleable__label-arrow\">XGBClassifier</label><div class=\"sk-toggleable__content\"><pre>XGBClassifier(base_score=None, booster=None, callbacks=None,\n",
              "              colsample_bylevel=None, colsample_bynode=None,\n",
              "              colsample_bytree=None, device=None, early_stopping_rounds=None,\n",
              "              enable_categorical=False, eval_metric=None, feature_types=None,\n",
              "              gamma=None, grow_policy=None, importance_type=None,\n",
              "              interaction_constraints=None, learning_rate=None, max_bin=None,\n",
              "              max_cat_threshold=None, max_cat_to_onehot=None,\n",
              "              max_delta_step=None, max_depth=None, max_leaves=None,\n",
              "              min_child_weight=None, missing=nan, monotone_constraints=None,\n",
              "              multi_strategy=None, n_estimators=None, n_jobs=None,\n",
              "              num_parallel_tree=None, random_state=None, ...)</pre></div></div></div></div></div>"
            ]
          },
          "metadata": {},
          "execution_count": 44
        }
      ],
      "source": [
        "#using the XGradient Boosting algorithm\n",
        "mod = XGBClassifier()\n",
        "mod.fit(X_train,y_train)"
      ]
    },
    {
      "cell_type": "code",
      "execution_count": 45,
      "id": "730fd0b6",
      "metadata": {
        "execution": {
          "iopub.execute_input": "2021-10-13T05:20:55.138754Z",
          "iopub.status.busy": "2021-10-13T05:20:55.136000Z",
          "iopub.status.idle": "2021-10-13T05:20:55.144447Z",
          "shell.execute_reply": "2021-10-13T05:20:55.143723Z",
          "shell.execute_reply.started": "2021-10-13T05:19:25.293231Z"
        },
        "papermill": {
          "duration": 0.058636,
          "end_time": "2021-10-13T05:20:55.144638",
          "exception": false,
          "start_time": "2021-10-13T05:20:55.086002",
          "status": "completed"
        },
        "tags": [],
        "colab": {
          "base_uri": "https://localhost:8080/"
        },
        "id": "730fd0b6",
        "outputId": "b7ef7b24-6039-475d-c91e-32f6cd31741b"
      },
      "outputs": [
        {
          "output_type": "stream",
          "name": "stdout",
          "text": [
            "0.0375\n"
          ]
        }
      ],
      "source": [
        "#checking the mean absolute error between the predicted values and test data\n",
        "print(mean_absolute_error(y_test,mod.predict(X_test)))"
      ]
    },
    {
      "cell_type": "code",
      "execution_count": 46,
      "id": "de15afb6",
      "metadata": {
        "execution": {
          "iopub.execute_input": "2021-10-13T05:20:55.241182Z",
          "iopub.status.busy": "2021-10-13T05:20:55.240634Z",
          "iopub.status.idle": "2021-10-13T05:20:55.262786Z",
          "shell.execute_reply": "2021-10-13T05:20:55.261516Z",
          "shell.execute_reply.started": "2021-10-13T05:19:25.305599Z"
        },
        "papermill": {
          "duration": 0.071269,
          "end_time": "2021-10-13T05:20:55.262930",
          "exception": false,
          "start_time": "2021-10-13T05:20:55.191661",
          "status": "completed"
        },
        "tags": [],
        "colab": {
          "base_uri": "https://localhost:8080/"
        },
        "id": "de15afb6",
        "outputId": "7036ff4a-396a-4d0d-f850-a56d201f4b8f"
      },
      "outputs": [
        {
          "output_type": "stream",
          "name": "stdout",
          "text": [
            "the accuracy of the train data is  100.0\n"
          ]
        }
      ],
      "source": [
        "#printing the accuracy of the train data\n",
        "print(\"the accuracy of the train data is \",mod.score(X_train,y_train)*100)"
      ]
    },
    {
      "cell_type": "code",
      "execution_count": 47,
      "id": "0e3d1007",
      "metadata": {
        "execution": {
          "iopub.execute_input": "2021-10-13T05:20:55.363230Z",
          "iopub.status.busy": "2021-10-13T05:20:55.362574Z",
          "iopub.status.idle": "2021-10-13T05:20:55.374422Z",
          "shell.execute_reply": "2021-10-13T05:20:55.375077Z",
          "shell.execute_reply.started": "2021-10-13T05:19:25.320472Z"
        },
        "papermill": {
          "duration": 0.06546,
          "end_time": "2021-10-13T05:20:55.375367",
          "exception": false,
          "start_time": "2021-10-13T05:20:55.309907",
          "status": "completed"
        },
        "tags": [],
        "colab": {
          "base_uri": "https://localhost:8080/"
        },
        "id": "0e3d1007",
        "outputId": "030f02cd-83d7-4e2c-bd31-46bf7e6154c8"
      },
      "outputs": [
        {
          "output_type": "stream",
          "name": "stdout",
          "text": [
            "the accuracy of the test data is 96.25\n"
          ]
        }
      ],
      "source": [
        "#printing the accuracy of the test data\n",
        "print(\"the accuracy of the test data is\",mod.score(X_test,y_test)*100)"
      ]
    },
    {
      "cell_type": "code",
      "source": [
        "from sklearn.model_selection import RandomizedSearchCV\n",
        "classifier=XGBClassifier()\n",
        "\n"
      ],
      "metadata": {
        "id": "-SSK_O74BRIx"
      },
      "id": "-SSK_O74BRIx",
      "execution_count": 73,
      "outputs": []
    },
    {
      "cell_type": "code",
      "source": [
        "classifier=XGBClassifier(base_score=0.5, booster='gbtree', colsample_bylevel=1,\n",
        "              colsample_bynode=1, colsample_bytree=0.3, gamma=0.2, gpu_id=-1,\n",
        "              importance_type='gain', interaction_constraints='', learning_rate=0.300000012, max_delta_step=0,\n",
        "              max_depth=5, min_child_weight=1,\n",
        "              monotone_constraints='()', n_estimators=100, n_jobs=8,\n",
        "              num_parallel_tree=1, random_state=0, reg_alpha=0, reg_lambda=1,\n",
        "              scale_pos_weight=1, subsample=1, tree_method='exact',\n",
        "              validate_parameters=1, verbosity=None)\n",
        "\n",
        "classifier.fit(X_train,y_train)\n",
        "y_pred=classifier.predict(X_test)"
      ],
      "metadata": {
        "colab": {
          "base_uri": "https://localhost:8080/"
        },
        "id": "GeqEIx8eHLyQ",
        "outputId": "295d3f80-2e82-4c7c-d6fb-f77310bd2f54"
      },
      "id": "GeqEIx8eHLyQ",
      "execution_count": 74,
      "outputs": [
        {
          "output_type": "stream",
          "name": "stderr",
          "text": [
            "/usr/local/lib/python3.10/dist-packages/xgboost/core.py:160: UserWarning: [03:27:28] WARNING: /workspace/src/common/error_msg.cc:45: `gpu_id` is deprecated since2.0.0, use `device` instead. E.g. device=cpu/cuda/cuda:0\n",
            "  warnings.warn(smsg, UserWarning)\n"
          ]
        }
      ]
    },
    {
      "cell_type": "code",
      "source": [
        "from sklearn.metrics import confusion_matrix,accuracy_score\n",
        "accuracy_score(y_test,y_pred)"
      ],
      "metadata": {
        "colab": {
          "base_uri": "https://localhost:8080/"
        },
        "id": "n_w5LgY5HMZo",
        "outputId": "c14b51bd-29e1-49d6-966c-16856c6fc43c"
      },
      "id": "n_w5LgY5HMZo",
      "execution_count": 75,
      "outputs": [
        {
          "output_type": "execute_result",
          "data": {
            "text/plain": [
              "0.975"
            ]
          },
          "metadata": {},
          "execution_count": 75
        }
      ]
    },
    {
      "cell_type": "markdown",
      "id": "e7f091cc",
      "metadata": {
        "papermill": {
          "duration": 0.04704,
          "end_time": "2021-10-13T05:20:55.470980",
          "exception": false,
          "start_time": "2021-10-13T05:20:55.423940",
          "status": "completed"
        },
        "tags": [],
        "id": "e7f091cc"
      },
      "source": [
        "## Support Vector Machine"
      ]
    },
    {
      "cell_type": "code",
      "execution_count": 48,
      "id": "05ab6062",
      "metadata": {
        "execution": {
          "iopub.execute_input": "2021-10-13T05:20:55.573904Z",
          "iopub.status.busy": "2021-10-13T05:20:55.573035Z",
          "iopub.status.idle": "2021-10-13T05:20:55.583542Z",
          "shell.execute_reply": "2021-10-13T05:20:55.584088Z",
          "shell.execute_reply.started": "2021-10-13T05:19:25.338389Z"
        },
        "papermill": {
          "duration": 0.066239,
          "end_time": "2021-10-13T05:20:55.584281",
          "exception": false,
          "start_time": "2021-10-13T05:20:55.518042",
          "status": "completed"
        },
        "tags": [],
        "colab": {
          "base_uri": "https://localhost:8080/",
          "height": 75
        },
        "id": "05ab6062",
        "outputId": "2cfa081e-ba8e-4081-f030-b762371a7956"
      },
      "outputs": [
        {
          "output_type": "execute_result",
          "data": {
            "text/plain": [
              "SVC()"
            ],
            "text/html": [
              "<style>#sk-container-id-3 {color: black;background-color: white;}#sk-container-id-3 pre{padding: 0;}#sk-container-id-3 div.sk-toggleable {background-color: white;}#sk-container-id-3 label.sk-toggleable__label {cursor: pointer;display: block;width: 100%;margin-bottom: 0;padding: 0.3em;box-sizing: border-box;text-align: center;}#sk-container-id-3 label.sk-toggleable__label-arrow:before {content: \"▸\";float: left;margin-right: 0.25em;color: #696969;}#sk-container-id-3 label.sk-toggleable__label-arrow:hover:before {color: black;}#sk-container-id-3 div.sk-estimator:hover label.sk-toggleable__label-arrow:before {color: black;}#sk-container-id-3 div.sk-toggleable__content {max-height: 0;max-width: 0;overflow: hidden;text-align: left;background-color: #f0f8ff;}#sk-container-id-3 div.sk-toggleable__content pre {margin: 0.2em;color: black;border-radius: 0.25em;background-color: #f0f8ff;}#sk-container-id-3 input.sk-toggleable__control:checked~div.sk-toggleable__content {max-height: 200px;max-width: 100%;overflow: auto;}#sk-container-id-3 input.sk-toggleable__control:checked~label.sk-toggleable__label-arrow:before {content: \"▾\";}#sk-container-id-3 div.sk-estimator input.sk-toggleable__control:checked~label.sk-toggleable__label {background-color: #d4ebff;}#sk-container-id-3 div.sk-label input.sk-toggleable__control:checked~label.sk-toggleable__label {background-color: #d4ebff;}#sk-container-id-3 input.sk-hidden--visually {border: 0;clip: rect(1px 1px 1px 1px);clip: rect(1px, 1px, 1px, 1px);height: 1px;margin: -1px;overflow: hidden;padding: 0;position: absolute;width: 1px;}#sk-container-id-3 div.sk-estimator {font-family: monospace;background-color: #f0f8ff;border: 1px dotted black;border-radius: 0.25em;box-sizing: border-box;margin-bottom: 0.5em;}#sk-container-id-3 div.sk-estimator:hover {background-color: #d4ebff;}#sk-container-id-3 div.sk-parallel-item::after {content: \"\";width: 100%;border-bottom: 1px solid gray;flex-grow: 1;}#sk-container-id-3 div.sk-label:hover label.sk-toggleable__label {background-color: #d4ebff;}#sk-container-id-3 div.sk-serial::before {content: \"\";position: absolute;border-left: 1px solid gray;box-sizing: border-box;top: 0;bottom: 0;left: 50%;z-index: 0;}#sk-container-id-3 div.sk-serial {display: flex;flex-direction: column;align-items: center;background-color: white;padding-right: 0.2em;padding-left: 0.2em;position: relative;}#sk-container-id-3 div.sk-item {position: relative;z-index: 1;}#sk-container-id-3 div.sk-parallel {display: flex;align-items: stretch;justify-content: center;background-color: white;position: relative;}#sk-container-id-3 div.sk-item::before, #sk-container-id-3 div.sk-parallel-item::before {content: \"\";position: absolute;border-left: 1px solid gray;box-sizing: border-box;top: 0;bottom: 0;left: 50%;z-index: -1;}#sk-container-id-3 div.sk-parallel-item {display: flex;flex-direction: column;z-index: 1;position: relative;background-color: white;}#sk-container-id-3 div.sk-parallel-item:first-child::after {align-self: flex-end;width: 50%;}#sk-container-id-3 div.sk-parallel-item:last-child::after {align-self: flex-start;width: 50%;}#sk-container-id-3 div.sk-parallel-item:only-child::after {width: 0;}#sk-container-id-3 div.sk-dashed-wrapped {border: 1px dashed gray;margin: 0 0.4em 0.5em 0.4em;box-sizing: border-box;padding-bottom: 0.4em;background-color: white;}#sk-container-id-3 div.sk-label label {font-family: monospace;font-weight: bold;display: inline-block;line-height: 1.2em;}#sk-container-id-3 div.sk-label-container {text-align: center;}#sk-container-id-3 div.sk-container {/* jupyter's `normalize.less` sets `[hidden] { display: none; }` but bootstrap.min.css set `[hidden] { display: none !important; }` so we also need the `!important` here to be able to override the default hidden behavior on the sphinx rendered scikit-learn.org. See: https://github.com/scikit-learn/scikit-learn/issues/21755 */display: inline-block !important;position: relative;}#sk-container-id-3 div.sk-text-repr-fallback {display: none;}</style><div id=\"sk-container-id-3\" class=\"sk-top-container\"><div class=\"sk-text-repr-fallback\"><pre>SVC()</pre><b>In a Jupyter environment, please rerun this cell to show the HTML representation or trust the notebook. <br />On GitHub, the HTML representation is unable to render, please try loading this page with nbviewer.org.</b></div><div class=\"sk-container\" hidden><div class=\"sk-item\"><div class=\"sk-estimator sk-toggleable\"><input class=\"sk-toggleable__control sk-hidden--visually\" id=\"sk-estimator-id-3\" type=\"checkbox\" checked><label for=\"sk-estimator-id-3\" class=\"sk-toggleable__label sk-toggleable__label-arrow\">SVC</label><div class=\"sk-toggleable__content\"><pre>SVC()</pre></div></div></div></div></div>"
            ]
          },
          "metadata": {},
          "execution_count": 48
        }
      ],
      "source": [
        "model2 = SVC()\n",
        "model2.fit(X_train,y_train)"
      ]
    },
    {
      "cell_type": "code",
      "execution_count": 49,
      "id": "61caf4a5",
      "metadata": {
        "execution": {
          "iopub.execute_input": "2021-10-13T05:20:55.682311Z",
          "iopub.status.busy": "2021-10-13T05:20:55.681380Z",
          "iopub.status.idle": "2021-10-13T05:20:55.691304Z",
          "shell.execute_reply": "2021-10-13T05:20:55.690779Z",
          "shell.execute_reply.started": "2021-10-13T05:19:25.357926Z"
        },
        "papermill": {
          "duration": 0.060218,
          "end_time": "2021-10-13T05:20:55.691481",
          "exception": false,
          "start_time": "2021-10-13T05:20:55.631263",
          "status": "completed"
        },
        "tags": [],
        "colab": {
          "base_uri": "https://localhost:8080/"
        },
        "id": "61caf4a5",
        "outputId": "f2f92391-d7e5-4409-9f5a-0fdf0866bd9b"
      },
      "outputs": [
        {
          "output_type": "stream",
          "name": "stdout",
          "text": [
            "the mean absolute error is 0.35\n"
          ]
        }
      ],
      "source": [
        "print(\"the mean absolute error is\",mean_absolute_error(y_test,model2.predict(X_test)))"
      ]
    },
    {
      "cell_type": "code",
      "execution_count": 50,
      "id": "c67006ad",
      "metadata": {
        "execution": {
          "iopub.execute_input": "2021-10-13T05:20:55.797976Z",
          "iopub.status.busy": "2021-10-13T05:20:55.797102Z",
          "iopub.status.idle": "2021-10-13T05:20:55.805804Z",
          "shell.execute_reply": "2021-10-13T05:20:55.805258Z",
          "shell.execute_reply.started": "2021-10-13T05:19:25.369777Z"
        },
        "papermill": {
          "duration": 0.064168,
          "end_time": "2021-10-13T05:20:55.805957",
          "exception": false,
          "start_time": "2021-10-13T05:20:55.741789",
          "status": "completed"
        },
        "tags": [],
        "colab": {
          "base_uri": "https://localhost:8080/"
        },
        "id": "c67006ad",
        "outputId": "02bb3614-8b54-46d1-c877-7463de312ea4"
      },
      "outputs": [
        {
          "output_type": "stream",
          "name": "stdout",
          "text": [
            "the accuracy of the train data is  61.875\n"
          ]
        }
      ],
      "source": [
        "#printing the accuracy of the train data\n",
        "print(\"the accuracy of the train data is \",model2.score(X_train,y_train)*100)"
      ]
    },
    {
      "cell_type": "code",
      "execution_count": 51,
      "id": "360ead28",
      "metadata": {
        "execution": {
          "iopub.execute_input": "2021-10-13T05:20:55.907585Z",
          "iopub.status.busy": "2021-10-13T05:20:55.906906Z",
          "iopub.status.idle": "2021-10-13T05:20:55.911816Z",
          "shell.execute_reply": "2021-10-13T05:20:55.912295Z",
          "shell.execute_reply.started": "2021-10-13T05:19:25.383393Z"
        },
        "papermill": {
          "duration": 0.059181,
          "end_time": "2021-10-13T05:20:55.912521",
          "exception": false,
          "start_time": "2021-10-13T05:20:55.853340",
          "status": "completed"
        },
        "tags": [],
        "colab": {
          "base_uri": "https://localhost:8080/"
        },
        "id": "360ead28",
        "outputId": "339ddd11-8e84-4ec1-b338-8875fb5d616f"
      },
      "outputs": [
        {
          "output_type": "stream",
          "name": "stdout",
          "text": [
            "the accuracy of the test data is 65.0\n"
          ]
        }
      ],
      "source": [
        "#printing the accuracy of the test data\n",
        "print(\"the accuracy of the test data is\",model2.score(X_test,y_test)*100)"
      ]
    },
    {
      "cell_type": "markdown",
      "source": [
        "## KNN"
      ],
      "metadata": {
        "id": "O_-6Gp2ywY56"
      },
      "id": "O_-6Gp2ywY56"
    },
    {
      "cell_type": "code",
      "source": [
        "#Import train_test_split and stratify the data using y\n",
        "from sklearn.model_selection import train_test_split\n",
        "from sklearn.neighbors import KNeighborsClassifier\n",
        "from sklearn.preprocessing import StandardScaler\n",
        "\n",
        "scaler =StandardScaler()\n",
        "knn = KNeighborsClassifier()\n",
        "\n",
        "X_train_scaled =scaler.fit_transform(X_train)\n",
        "X_test_scaled = scaler.transform(X_test)\n",
        "knn.fit(X_train_scaled,y_train)\n",
        "ypred =knn.predict(X_test_scaled)\n",
        "\n",
        "knn.score(X_test_scaled,y_test)"
      ],
      "metadata": {
        "colab": {
          "base_uri": "https://localhost:8080/"
        },
        "id": "ciT137FVwK18",
        "outputId": "b43cb123-cc15-4f5a-ce4c-9684d47f9ddc"
      },
      "id": "ciT137FVwK18",
      "execution_count": 87,
      "outputs": [
        {
          "output_type": "execute_result",
          "data": {
            "text/plain": [
              "0.95"
            ]
          },
          "metadata": {},
          "execution_count": 87
        }
      ]
    },
    {
      "cell_type": "code",
      "source": [
        "print(\"\\nClassification Report:\")\n",
        "print(classification_report(y_test, y_pred))"
      ],
      "metadata": {
        "colab": {
          "base_uri": "https://localhost:8080/"
        },
        "id": "Eb0IDOxzJvxp",
        "outputId": "9988ef7c-8cda-4ad6-c7c0-d17646411b1c"
      },
      "id": "Eb0IDOxzJvxp",
      "execution_count": 88,
      "outputs": [
        {
          "output_type": "stream",
          "name": "stdout",
          "text": [
            "\n",
            "Classification Report:\n",
            "              precision    recall  f1-score   support\n",
            "\n",
            "           0       1.00      0.96      0.98        28\n",
            "           1       0.98      1.00      0.99        52\n",
            "\n",
            "    accuracy                           0.99        80\n",
            "   macro avg       0.99      0.98      0.99        80\n",
            "weighted avg       0.99      0.99      0.99        80\n",
            "\n"
          ]
        }
      ]
    },
    {
      "cell_type": "markdown",
      "source": [
        "## Naive Bayes"
      ],
      "metadata": {
        "id": "D6m-BNQoAMsU"
      },
      "id": "D6m-BNQoAMsU"
    },
    {
      "cell_type": "code",
      "source": [],
      "metadata": {
        "id": "om7KddGVMryh"
      },
      "id": "om7KddGVMryh",
      "execution_count": null,
      "outputs": []
    },
    {
      "cell_type": "code",
      "source": [
        "nb_classifier = MultinomialNB()\n",
        "nb_classifier.fit(X_train,y_train)\n",
        "predictions = nb_classifier.predict(X_test)\n",
        "#checking the mean absolute error between the predicted values and test data\n",
        "print(\"the mean absolute error by using the RandomForest is\",mean_absolute_error(y_test,predictions))\n",
        "#printing the accuracy of the train data\n",
        "print(\"the accuracy of the train data is \",model.score(X_train,y_train)*100)\n",
        "#printing the accuracy of the test data\n",
        "print(\"the accuracy of the test data is\",model.score(X_test,y_test)*100)"
      ],
      "metadata": {
        "colab": {
          "base_uri": "https://localhost:8080/"
        },
        "id": "Mtc-VrmGLr7_",
        "outputId": "2572157e-ed9e-40bc-db63-5eb61f485c4f"
      },
      "id": "Mtc-VrmGLr7_",
      "execution_count": 96,
      "outputs": [
        {
          "output_type": "stream",
          "name": "stdout",
          "text": [
            "the mean absolute error by using the RandomForest is 0.225\n",
            "the accuracy of the train data is  99.375\n",
            "the accuracy of the test data is 98.75\n"
          ]
        }
      ]
    },
    {
      "cell_type": "markdown",
      "source": [
        "## Decision Tree"
      ],
      "metadata": {
        "id": "__4q7d4KATR6"
      },
      "id": "__4q7d4KATR6"
    },
    {
      "cell_type": "code",
      "source": [
        "from sklearn.model_selection import train_test_split\n",
        "from sklearn.tree import DecisionTreeClassifier\n",
        "from sklearn.metrics import accuracy_score, classification_report\n",
        "\n",
        "# Assuming you have your data in X (features) and y (labels)\n",
        "# Split the data into training and testing sets\n",
        "# X_train, X_test, y_train, y_test = train_test_split(X, y, test_size=0.2, random_state=42)\n",
        "\n",
        "# Initialize and train the Decision Tree classifier\n",
        "dt_classifier = DecisionTreeClassifier()\n",
        "dt_classifier.fit(X_train, y_train)\n",
        "\n",
        "# Make predictions on the test set\n",
        "y_pred = dt_classifier.predict(X_test)\n",
        "\n",
        "# Evaluate the performance\n",
        "accuracy = accuracy_score(y_test, y_pred)\n",
        "print(f\"Accuracy: {accuracy:.2f}\")\n",
        "\n",
        "# Display additional metrics\n",
        "print(\"\\nClassification Report:\")\n",
        "print(classification_report(y_test, y_pred))"
      ],
      "metadata": {
        "colab": {
          "base_uri": "https://localhost:8080/"
        },
        "id": "hfnEfSkwALM-",
        "outputId": "7e212525-b23a-4afe-98e7-93e9ea03b435"
      },
      "id": "hfnEfSkwALM-",
      "execution_count": 83,
      "outputs": [
        {
          "output_type": "stream",
          "name": "stdout",
          "text": [
            "Accuracy: 0.99\n",
            "\n",
            "Classification Report:\n",
            "              precision    recall  f1-score   support\n",
            "\n",
            "           0       1.00      0.96      0.98        28\n",
            "           1       0.98      1.00      0.99        52\n",
            "\n",
            "    accuracy                           0.99        80\n",
            "   macro avg       0.99      0.98      0.99        80\n",
            "weighted avg       0.99      0.99      0.99        80\n",
            "\n"
          ]
        }
      ]
    },
    {
      "cell_type": "markdown",
      "source": [
        "## XGBRF classifier"
      ],
      "metadata": {
        "id": "IgeQMdxIKLoM"
      },
      "id": "IgeQMdxIKLoM"
    },
    {
      "cell_type": "code",
      "source": [
        "# Import necessary libraries\n",
        "from sklearn.model_selection import train_test_split\n",
        "from xgboost import XGBRFClassifier\n",
        "from sklearn.metrics import accuracy_score, classification_report\n",
        "\n",
        "# Assuming you have your data in X (features) and y (labels)\n",
        "# Split the data into training and testing sets\n",
        "X_train, X_test, y_train, y_test = train_test_split(X, y, test_size=0.2, random_state=42)\n",
        "\n",
        "# Initialize and train the XGBRF classifier\n",
        "xgbrf_classifier = XGBRFClassifier()\n",
        "xgbrf_classifier.fit(X_train, y_train)\n",
        "\n",
        "# Make predictions on the test set\n",
        "y_pred = xgbrf_classifier.predict(X_test)\n",
        "\n",
        "# Evaluate the performance\n",
        "accuracy = accuracy_score(y_test, y_pred)\n",
        "print(f\"Accuracy: {accuracy:.2f}\")\n",
        "\n",
        "# Display additional metrics\n",
        "print(\"\\nClassification Report:\")\n",
        "print(classification_report(y_test, y_pred))"
      ],
      "metadata": {
        "colab": {
          "base_uri": "https://localhost:8080/"
        },
        "id": "MPCbeeNhKKl7",
        "outputId": "ce92deb4-789a-458a-e818-04508d9ea17d"
      },
      "id": "MPCbeeNhKKl7",
      "execution_count": 89,
      "outputs": [
        {
          "output_type": "stream",
          "name": "stdout",
          "text": [
            "Accuracy: 0.97\n",
            "\n",
            "Classification Report:\n",
            "              precision    recall  f1-score   support\n",
            "\n",
            "           0       0.93      1.00      0.97        28\n",
            "           1       1.00      0.96      0.98        52\n",
            "\n",
            "    accuracy                           0.97        80\n",
            "   macro avg       0.97      0.98      0.97        80\n",
            "weighted avg       0.98      0.97      0.98        80\n",
            "\n"
          ]
        }
      ]
    },
    {
      "cell_type": "markdown",
      "source": [
        "## LGBM Classifier"
      ],
      "metadata": {
        "id": "BesOt-urMaTe"
      },
      "id": "BesOt-urMaTe"
    },
    {
      "cell_type": "code",
      "source": [
        "# Initialize and train the LGBM classifier\n",
        "lgbm_classifier = LGBMClassifier()\n",
        "lgbm_classifier.fit(X_train, y_train)\n",
        "\n",
        "# Make predictions on the test set\n",
        "y_pred = lgbm_classifier.predict(X_test)\n",
        "\n",
        "# # Evaluate the performance\n",
        "# accuracy = accuracy_score(y_test, y_pred)\n",
        "# print(f\"Accuracy: {accuracy:.2f}\")\n",
        "# #checking the mean absolute error between the predicted values and test data\n",
        "# print(\"the mean absolute error by using the RandomForest is\",mean_absolute_error(y_test,predictions))\n",
        "# #printing the accuracy of the train data\n",
        "# print(\"the accuracy of the train data is \",model.score(X_train,y_train)*100)\n",
        "# #printing the accuracy of the test data\n",
        "# print(\"the accuracy of the test data is\",model.score(X_test,y_test)*100)\n"
      ],
      "metadata": {
        "colab": {
          "base_uri": "https://localhost:8080/"
        },
        "id": "dvyhWN_RAK6_",
        "outputId": "499c25c0-7ced-457d-d5c6-5980f97b2b1f"
      },
      "id": "dvyhWN_RAK6_",
      "execution_count": 98,
      "outputs": [
        {
          "output_type": "stream",
          "name": "stdout",
          "text": [
            "[LightGBM] [Info] Number of positive: 198, number of negative: 122\n",
            "[LightGBM] [Info] Auto-choosing row-wise multi-threading, the overhead of testing was 0.000100 seconds.\n",
            "You can set `force_row_wise=true` to remove the overhead.\n",
            "And if memory is not enough, you can set `force_col_wise=true`.\n",
            "[LightGBM] [Info] Total Bins 276\n",
            "[LightGBM] [Info] Number of data points in the train set: 320, number of used features: 11\n",
            "[LightGBM] [Info] [binary:BoostFromScore]: pavg=0.618750 -> initscore=0.484246\n",
            "[LightGBM] [Info] Start training from score 0.484246\n",
            "[LightGBM] [Warning] No further splits with positive gain, best gain: -inf\n",
            "[LightGBM] [Warning] No further splits with positive gain, best gain: -inf\n",
            "[LightGBM] [Warning] No further splits with positive gain, best gain: -inf\n",
            "[LightGBM] [Warning] No further splits with positive gain, best gain: -inf\n",
            "[LightGBM] [Warning] No further splits with positive gain, best gain: -inf\n",
            "[LightGBM] [Warning] No further splits with positive gain, best gain: -inf\n",
            "[LightGBM] [Warning] No further splits with positive gain, best gain: -inf\n",
            "[LightGBM] [Warning] No further splits with positive gain, best gain: -inf\n",
            "[LightGBM] [Warning] No further splits with positive gain, best gain: -inf\n",
            "[LightGBM] [Warning] No further splits with positive gain, best gain: -inf\n",
            "[LightGBM] [Warning] No further splits with positive gain, best gain: -inf\n",
            "[LightGBM] [Warning] No further splits with positive gain, best gain: -inf\n",
            "[LightGBM] [Warning] No further splits with positive gain, best gain: -inf\n",
            "[LightGBM] [Warning] No further splits with positive gain, best gain: -inf\n",
            "[LightGBM] [Warning] No further splits with positive gain, best gain: -inf\n",
            "[LightGBM] [Warning] No further splits with positive gain, best gain: -inf\n",
            "[LightGBM] [Warning] No further splits with positive gain, best gain: -inf\n",
            "[LightGBM] [Warning] No further splits with positive gain, best gain: -inf\n",
            "[LightGBM] [Warning] No further splits with positive gain, best gain: -inf\n",
            "[LightGBM] [Warning] No further splits with positive gain, best gain: -inf\n",
            "[LightGBM] [Warning] No further splits with positive gain, best gain: -inf\n",
            "[LightGBM] [Warning] No further splits with positive gain, best gain: -inf\n",
            "[LightGBM] [Warning] No further splits with positive gain, best gain: -inf\n",
            "[LightGBM] [Warning] No further splits with positive gain, best gain: -inf\n",
            "[LightGBM] [Warning] No further splits with positive gain, best gain: -inf\n",
            "[LightGBM] [Warning] No further splits with positive gain, best gain: -inf\n",
            "[LightGBM] [Warning] No further splits with positive gain, best gain: -inf\n",
            "[LightGBM] [Warning] No further splits with positive gain, best gain: -inf\n",
            "[LightGBM] [Warning] No further splits with positive gain, best gain: -inf\n",
            "[LightGBM] [Warning] No further splits with positive gain, best gain: -inf\n",
            "[LightGBM] [Warning] No further splits with positive gain, best gain: -inf\n",
            "[LightGBM] [Warning] No further splits with positive gain, best gain: -inf\n",
            "[LightGBM] [Warning] No further splits with positive gain, best gain: -inf\n",
            "[LightGBM] [Warning] No further splits with positive gain, best gain: -inf\n",
            "[LightGBM] [Warning] No further splits with positive gain, best gain: -inf\n",
            "[LightGBM] [Warning] No further splits with positive gain, best gain: -inf\n",
            "[LightGBM] [Warning] No further splits with positive gain, best gain: -inf\n",
            "[LightGBM] [Warning] No further splits with positive gain, best gain: -inf\n",
            "[LightGBM] [Warning] No further splits with positive gain, best gain: -inf\n",
            "[LightGBM] [Warning] No further splits with positive gain, best gain: -inf\n",
            "[LightGBM] [Warning] No further splits with positive gain, best gain: -inf\n",
            "[LightGBM] [Warning] No further splits with positive gain, best gain: -inf\n",
            "[LightGBM] [Warning] No further splits with positive gain, best gain: -inf\n",
            "[LightGBM] [Warning] No further splits with positive gain, best gain: -inf\n",
            "[LightGBM] [Warning] No further splits with positive gain, best gain: -inf\n",
            "[LightGBM] [Warning] No further splits with positive gain, best gain: -inf\n",
            "[LightGBM] [Warning] No further splits with positive gain, best gain: -inf\n",
            "[LightGBM] [Warning] No further splits with positive gain, best gain: -inf\n",
            "[LightGBM] [Warning] No further splits with positive gain, best gain: -inf\n",
            "[LightGBM] [Warning] No further splits with positive gain, best gain: -inf\n",
            "[LightGBM] [Warning] No further splits with positive gain, best gain: -inf\n",
            "[LightGBM] [Warning] No further splits with positive gain, best gain: -inf\n",
            "[LightGBM] [Warning] No further splits with positive gain, best gain: -inf\n",
            "[LightGBM] [Warning] No further splits with positive gain, best gain: -inf\n",
            "[LightGBM] [Warning] No further splits with positive gain, best gain: -inf\n",
            "[LightGBM] [Warning] No further splits with positive gain, best gain: -inf\n",
            "[LightGBM] [Warning] No further splits with positive gain, best gain: -inf\n",
            "[LightGBM] [Warning] No further splits with positive gain, best gain: -inf\n",
            "[LightGBM] [Warning] No further splits with positive gain, best gain: -inf\n",
            "[LightGBM] [Warning] No further splits with positive gain, best gain: -inf\n",
            "[LightGBM] [Warning] No further splits with positive gain, best gain: -inf\n",
            "[LightGBM] [Warning] No further splits with positive gain, best gain: -inf\n",
            "[LightGBM] [Warning] No further splits with positive gain, best gain: -inf\n",
            "[LightGBM] [Warning] No further splits with positive gain, best gain: -inf\n",
            "[LightGBM] [Warning] No further splits with positive gain, best gain: -inf\n",
            "[LightGBM] [Warning] No further splits with positive gain, best gain: -inf\n",
            "[LightGBM] [Warning] No further splits with positive gain, best gain: -inf\n",
            "[LightGBM] [Warning] No further splits with positive gain, best gain: -inf\n",
            "[LightGBM] [Warning] No further splits with positive gain, best gain: -inf\n",
            "[LightGBM] [Warning] No further splits with positive gain, best gain: -inf\n",
            "[LightGBM] [Warning] No further splits with positive gain, best gain: -inf\n",
            "[LightGBM] [Warning] No further splits with positive gain, best gain: -inf\n",
            "[LightGBM] [Warning] No further splits with positive gain, best gain: -inf\n",
            "[LightGBM] [Warning] No further splits with positive gain, best gain: -inf\n",
            "[LightGBM] [Warning] No further splits with positive gain, best gain: -inf\n",
            "[LightGBM] [Warning] No further splits with positive gain, best gain: -inf\n",
            "[LightGBM] [Warning] No further splits with positive gain, best gain: -inf\n",
            "[LightGBM] [Warning] No further splits with positive gain, best gain: -inf\n",
            "[LightGBM] [Warning] No further splits with positive gain, best gain: -inf\n",
            "[LightGBM] [Warning] No further splits with positive gain, best gain: -inf\n",
            "[LightGBM] [Warning] No further splits with positive gain, best gain: -inf\n",
            "[LightGBM] [Warning] No further splits with positive gain, best gain: -inf\n",
            "[LightGBM] [Warning] No further splits with positive gain, best gain: -inf\n",
            "[LightGBM] [Warning] No further splits with positive gain, best gain: -inf\n",
            "[LightGBM] [Warning] No further splits with positive gain, best gain: -inf\n",
            "[LightGBM] [Warning] No further splits with positive gain, best gain: -inf\n",
            "[LightGBM] [Warning] No further splits with positive gain, best gain: -inf\n",
            "[LightGBM] [Warning] No further splits with positive gain, best gain: -inf\n",
            "[LightGBM] [Warning] No further splits with positive gain, best gain: -inf\n",
            "[LightGBM] [Warning] No further splits with positive gain, best gain: -inf\n",
            "[LightGBM] [Warning] No further splits with positive gain, best gain: -inf\n",
            "[LightGBM] [Warning] No further splits with positive gain, best gain: -inf\n",
            "[LightGBM] [Warning] No further splits with positive gain, best gain: -inf\n",
            "[LightGBM] [Warning] No further splits with positive gain, best gain: -inf\n",
            "[LightGBM] [Warning] No further splits with positive gain, best gain: -inf\n",
            "[LightGBM] [Warning] No further splits with positive gain, best gain: -inf\n",
            "[LightGBM] [Warning] No further splits with positive gain, best gain: -inf\n",
            "[LightGBM] [Warning] No further splits with positive gain, best gain: -inf\n",
            "[LightGBM] [Warning] No further splits with positive gain, best gain: -inf\n",
            "[LightGBM] [Warning] No further splits with positive gain, best gain: -inf\n"
          ]
        }
      ]
    },
    {
      "cell_type": "code",
      "source": [
        "# Evaluate the performance\n",
        "accuracy = accuracy_score(y_test, y_pred)\n",
        "print(f\"Accuracy: {accuracy:.2f}\")"
      ],
      "metadata": {
        "colab": {
          "base_uri": "https://localhost:8080/"
        },
        "id": "N6V8a0LOM9xQ",
        "outputId": "3de44b2d-5f14-4446-baca-3c59a4a219bd"
      },
      "id": "N6V8a0LOM9xQ",
      "execution_count": 99,
      "outputs": [
        {
          "output_type": "stream",
          "name": "stdout",
          "text": [
            "Accuracy: 0.99\n"
          ]
        }
      ]
    },
    {
      "cell_type": "code",
      "source": [
        "# Display additional metrics\n",
        "print(\"\\nClassification Report:\")\n",
        "print(classification_report(y_test, y_pred))"
      ],
      "metadata": {
        "colab": {
          "base_uri": "https://localhost:8080/"
        },
        "id": "iJ-48si3NCix",
        "outputId": "68d0ebbf-127e-49c3-da8e-3d678c9241b8"
      },
      "id": "iJ-48si3NCix",
      "execution_count": 100,
      "outputs": [
        {
          "output_type": "stream",
          "name": "stdout",
          "text": [
            "\n",
            "Classification Report:\n",
            "              precision    recall  f1-score   support\n",
            "\n",
            "           0       0.97      1.00      0.98        28\n",
            "           1       1.00      0.98      0.99        52\n",
            "\n",
            "    accuracy                           0.99        80\n",
            "   macro avg       0.98      0.99      0.99        80\n",
            "weighted avg       0.99      0.99      0.99        80\n",
            "\n"
          ]
        }
      ]
    },
    {
      "cell_type": "code",
      "source": [],
      "metadata": {
        "id": "4SbdDSTzNWHK"
      },
      "id": "4SbdDSTzNWHK",
      "execution_count": null,
      "outputs": []
    }
  ],
  "metadata": {
    "kernelspec": {
      "display_name": "Python 3",
      "language": "python",
      "name": "python3"
    },
    "language_info": {
      "codemirror_mode": {
        "name": "ipython",
        "version": 3
      },
      "file_extension": ".py",
      "mimetype": "text/x-python",
      "name": "python",
      "nbconvert_exporter": "python",
      "pygments_lexer": "ipython3",
      "version": "3.7.10"
    },
    "papermill": {
      "default_parameters": {},
      "duration": 17.885039,
      "end_time": "2021-10-13T05:20:57.790569",
      "environment_variables": {},
      "exception": null,
      "input_path": "__notebook__.ipynb",
      "output_path": "__notebook__.ipynb",
      "parameters": {},
      "start_time": "2021-10-13T05:20:39.905530",
      "version": "2.3.3"
    },
    "colab": {
      "provenance": []
    }
  },
  "nbformat": 4,
  "nbformat_minor": 5
}